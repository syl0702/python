{
 "cells": [
  {
   "cell_type": "markdown",
   "id": "8642bc89-0a4a-4ea7-b2cd-c463b925d5a2",
   "metadata": {},
   "source": [
    "# 객체지향 프로그래밍 (OOP)\n",
    "\n",
    "- 클래스(class) : 같은 종류의 집단에 속하는 속성(attribute)과 행위(method)를 **정의**한 것\n",
    "- 인스턴스(instance) : 클래스를 실제로 메모리상에 할당한 것 (붕어빵 틀에 실제로 찍어냄)\n",
    "- 속성(attribute) : 클래스/인스턴스가 가지고 있는 **데이터**/값\n",
    "- 행위(method) : 클래스/인스턴스가 가지고 있는 **함수**/기능"
   ]
  },
  {
   "cell_type": "code",
   "execution_count": 1,
   "id": "dd420491-b014-4a66-85d0-91fd5038763f",
   "metadata": {},
   "outputs": [
    {
     "name": "stdout",
     "output_type": "stream",
     "text": [
      "(1+2j)\n"
     ]
    }
   ],
   "source": [
    "number = 1 + 2j\n",
    "print(number)"
   ]
  },
  {
   "cell_type": "code",
   "execution_count": 2,
   "id": "86e41c34-8905-484c-940d-22b9fc9a1cdf",
   "metadata": {},
   "outputs": [
    {
     "name": "stdout",
     "output_type": "stream",
     "text": [
      "1.0\n",
      "2.0\n"
     ]
    }
   ],
   "source": [
    "print(number.real)\n",
    "print(number.imag)"
   ]
  },
  {
   "cell_type": "code",
   "execution_count": 3,
   "id": "78659a23-81d3-40d2-b1a1-bb3768a807d6",
   "metadata": {},
   "outputs": [
    {
     "data": {
      "text/plain": [
       "['__abs__',\n",
       " '__add__',\n",
       " '__bool__',\n",
       " '__class__',\n",
       " '__complex__',\n",
       " '__delattr__',\n",
       " '__dir__',\n",
       " '__doc__',\n",
       " '__eq__',\n",
       " '__format__',\n",
       " '__ge__',\n",
       " '__getattribute__',\n",
       " '__getnewargs__',\n",
       " '__getstate__',\n",
       " '__gt__',\n",
       " '__hash__',\n",
       " '__init__',\n",
       " '__init_subclass__',\n",
       " '__le__',\n",
       " '__lt__',\n",
       " '__mul__',\n",
       " '__ne__',\n",
       " '__neg__',\n",
       " '__new__',\n",
       " '__pos__',\n",
       " '__pow__',\n",
       " '__radd__',\n",
       " '__reduce__',\n",
       " '__reduce_ex__',\n",
       " '__repr__',\n",
       " '__rmul__',\n",
       " '__rpow__',\n",
       " '__rsub__',\n",
       " '__rtruediv__',\n",
       " '__setattr__',\n",
       " '__sizeof__',\n",
       " '__str__',\n",
       " '__sub__',\n",
       " '__subclasshook__',\n",
       " '__truediv__',\n",
       " 'conjugate',\n",
       " 'imag',\n",
       " 'real']"
      ]
     },
     "execution_count": 3,
     "metadata": {},
     "output_type": "execute_result"
    }
   ],
   "source": [
    "dir(number)"
   ]
  },
  {
   "cell_type": "code",
   "execution_count": 5,
   "id": "f0a8a02c-076b-4447-9234-6669a3f46a16",
   "metadata": {},
   "outputs": [
    {
     "name": "stdout",
     "output_type": "stream",
     "text": [
      "<class 'complex'>\n"
     ]
    }
   ],
   "source": [
    "print(type(number))"
   ]
  },
  {
   "cell_type": "code",
   "execution_count": 6,
   "id": "31894ee0-2dd1-425d-88bd-66881dc87b04",
   "metadata": {},
   "outputs": [
    {
     "name": "stdout",
     "output_type": "stream",
     "text": [
      "<class 'list'>\n"
     ]
    }
   ],
   "source": [
    "my_list = [1, 2, 3, 4, 5]\n",
    "print(type(my_list))\n",
    "my_list.sort()"
   ]
  },
  {
   "cell_type": "code",
   "execution_count": 7,
   "id": "b84580ff-2a6e-43c2-8e7c-ef6dc75e0318",
   "metadata": {},
   "outputs": [],
   "source": [
    "power = False # 전원을 꺼둠\n",
    "number = '010-2222-3333'\n",
    "book = {\n",
    "    '홍길동': '010-1111-1111',\n",
    "    '이순신': '010-2222-2222',\n",
    "}\n",
    "model = 'iPhone12'"
   ]
  },
  {
   "cell_type": "code",
   "execution_count": 8,
   "id": "3bfeaee1-718d-461c-bdc0-7d94a69235f6",
   "metadata": {},
   "outputs": [],
   "source": [
    "def on():\n",
    "    global power\n",
    "    if power == False:\n",
    "        power = True\n",
    "        print('핸드폰이 켜졌습니다.')"
   ]
  },
  {
   "cell_type": "code",
   "execution_count": 9,
   "id": "7718d83e-4239-4cc5-adc3-bea2303f5b33",
   "metadata": {},
   "outputs": [
    {
     "name": "stdout",
     "output_type": "stream",
     "text": [
      "핸드폰이 켜졌습니다.\n"
     ]
    }
   ],
   "source": [
    "on()"
   ]
  },
  {
   "cell_type": "markdown",
   "id": "bdab611f-aab7-445f-9881-bcc7338d9874",
   "metadata": {},
   "source": [
    "## Class\n",
    "\n",
    "- 클래스 선언\n",
    "```python\n",
    "class ClassName:\n",
    "    attribute = value\n",
    "\n",
    "    def method_name(self):\n",
    "        code\n",
    "```\n",
    "\n",
    "- 인스턴스화\n",
    "```python\n",
    "ClassName()\n",
    "```"
   ]
  },
  {
   "cell_type": "code",
   "execution_count": 10,
   "id": "831ec23c-db9f-4fec-9ea5-c31f236675d0",
   "metadata": {},
   "outputs": [],
   "source": [
    "# 선언\n",
    "class MyClass:\n",
    "    name = 'lee'\n",
    "\n",
    "    def hello(self):\n",
    "        return 'hello'"
   ]
  },
  {
   "cell_type": "code",
   "execution_count": 13,
   "id": "e0403769-21cf-4b2a-9a52-67b511cb3277",
   "metadata": {},
   "outputs": [
    {
     "name": "stdout",
     "output_type": "stream",
     "text": [
      "lee\n",
      "hello\n",
      "lee\n",
      "hello\n"
     ]
    }
   ],
   "source": [
    "# 인스턴스화\n",
    "a = MyClass()\n",
    "\n",
    "print(a.name) #속성 실행\n",
    "print(a.hello()) # 기능 실행\n",
    "\n",
    "b = MyClass()\n",
    "\n",
    "print(b.name)\n",
    "print(b.hello())"
   ]
  },
  {
   "cell_type": "code",
   "execution_count": 23,
   "id": "a891c51b-3215-4957-b4a1-0d1acba77a02",
   "metadata": {},
   "outputs": [],
   "source": [
    "class Phone:\n",
    "    power = False\n",
    "    number = '010-0000-0000'\n",
    "    book = {}\n",
    "    model = ''\n",
    "\n",
    "    def on(self):\n",
    "        if self.power == False:\n",
    "            self.power = True\n",
    "\n",
    "    def off(self):\n",
    "        if self.power == True:\n",
    "            self.power = False\n",
    "\n",
    "    def call(self, target):\n",
    "        if self.power == True:\n",
    "            print(f'내 번호는 {self.number}입니다.')\n",
    "            print(f'{target} 번호로 전화 거는 중')\n",
    "        else:\n",
    "            print('핸드폰을 켜주세요')"
   ]
  },
  {
   "cell_type": "code",
   "execution_count": 24,
   "id": "3e9b0bff-1a56-4306-ac37-b56675536445",
   "metadata": {},
   "outputs": [],
   "source": [
    "my_phone = Phone()\n",
    "your_phone = Phone()"
   ]
  },
  {
   "cell_type": "code",
   "execution_count": 25,
   "id": "76089b70-fd77-4325-9759-222be50dbcf8",
   "metadata": {},
   "outputs": [
    {
     "name": "stdout",
     "output_type": "stream",
     "text": [
      "010-1234-1234\n"
     ]
    }
   ],
   "source": [
    "my_phone.number = '010-1234-1234'\n",
    "print(my_phone.number)"
   ]
  },
  {
   "cell_type": "code",
   "execution_count": 26,
   "id": "1e6dc39f-0da8-45d9-b278-617afd72ea49",
   "metadata": {},
   "outputs": [
    {
     "data": {
      "text/plain": [
       "'010-0000-0000'"
      ]
     },
     "execution_count": 26,
     "metadata": {},
     "output_type": "execute_result"
    }
   ],
   "source": [
    "your_phone.number"
   ]
  },
  {
   "cell_type": "code",
   "execution_count": 27,
   "id": "cf407233-0935-4466-8967-19d50b2522f6",
   "metadata": {},
   "outputs": [
    {
     "data": {
      "text/plain": [
       "False"
      ]
     },
     "execution_count": 27,
     "metadata": {},
     "output_type": "execute_result"
    }
   ],
   "source": [
    "my_phone.power"
   ]
  },
  {
   "cell_type": "code",
   "execution_count": 28,
   "id": "05742829-59b8-4a93-aa4f-5818731ed5e6",
   "metadata": {},
   "outputs": [],
   "source": [
    "my_phone.on()"
   ]
  },
  {
   "cell_type": "code",
   "execution_count": 29,
   "id": "631ff595-d219-471b-ac16-a6430f601eb8",
   "metadata": {},
   "outputs": [
    {
     "data": {
      "text/plain": [
       "True"
      ]
     },
     "execution_count": 29,
     "metadata": {},
     "output_type": "execute_result"
    }
   ],
   "source": [
    "my_phone.power"
   ]
  },
  {
   "cell_type": "code",
   "execution_count": 30,
   "id": "3fe035de-4708-4150-8855-31d390ed5bd4",
   "metadata": {},
   "outputs": [
    {
     "name": "stdout",
     "output_type": "stream",
     "text": [
      "내 번호는 010-1234-1234입니다.\n",
      "112 번호로 전화 거는 중\n"
     ]
    }
   ],
   "source": [
    "my_phone.call('112')"
   ]
  },
  {
   "cell_type": "code",
   "execution_count": 37,
   "id": "6fa67ea4-c5d1-4877-b7cd-d89468b39ab0",
   "metadata": {},
   "outputs": [],
   "source": [
    "# 연습\n",
    "class MyList:\n",
    "    data = []\n",
    "\n",
    "    def append(self, item):\n",
    "        self.data = self.data + [item]\n",
    "\n",
    "    # data의 제일 마지막 요소를 삭제하고, 삭제된 요소를 리턴\n",
    "    def pop(self):\n",
    "        num = self.data[-1]\n",
    "        self.data = self.data[:-1]\n",
    "        return num"
   ]
  },
  {
   "cell_type": "code",
   "execution_count": 40,
   "id": "146e5339-8a94-46fe-837d-7ec1a999eb42",
   "metadata": {},
   "outputs": [
    {
     "name": "stdout",
     "output_type": "stream",
     "text": [
      "[]\n",
      "[5, 1, 10]\n",
      "10\n",
      "[5, 1]\n"
     ]
    }
   ],
   "source": [
    "list_a = MyList()\n",
    "print(list_a.data)\n",
    "list_a.append(5)\n",
    "list_a.append(1)\n",
    "list_a.append(10)\n",
    "print(list_a.data)\n",
    "\n",
    "print(list_a.pop())\n",
    "print(list_a.data)"
   ]
  },
  {
   "cell_type": "code",
   "execution_count": 41,
   "id": "c0ab91d2-0c65-48fb-a8fe-f8146d690073",
   "metadata": {},
   "outputs": [
    {
     "name": "stdout",
     "output_type": "stream",
     "text": [
      "[]\n",
      "[2, 4, 6]\n"
     ]
    }
   ],
   "source": [
    "list_b = MyList()\n",
    "print(list_b.data)\n",
    "\n",
    "list_b.append(2)\n",
    "list_b.append(4)\n",
    "list_b.append(6)\n",
    "print(list_b.data)"
   ]
  },
  {
   "cell_type": "code",
   "execution_count": 42,
   "id": "e5d4ca76-1fc7-4b10-a0ed-a27f8149f289",
   "metadata": {},
   "outputs": [
    {
     "data": {
      "text/plain": [
       "'lee'"
      ]
     },
     "execution_count": 42,
     "metadata": {},
     "output_type": "execute_result"
    }
   ],
   "source": [
    "# 정리\n",
    "class Person: # => 클래스 정의(선언) : 클래스 객체 생성\n",
    "    name = 'lee' # => 속성(attribute) : 변수/값/데이터\n",
    "\n",
    "    def hello(self): # => 행동(method): 함수/기능\n",
    "        return self.name\n",
    "\n",
    "p = Person() # => 인스턴스화 / 인스턴스 객체를 생성\n",
    "p.name # => 속성을 호출\n",
    "p.hello() # => 메소드를 실행"
   ]
  },
  {
   "cell_type": "code",
   "execution_count": 45,
   "id": "0ea36fe5-4869-4ffa-86d5-40504d0e0795",
   "metadata": {},
   "outputs": [
    {
     "name": "stdout",
     "output_type": "stream",
     "text": [
      "현재 상태는 약풍\n",
      "현재 상태는 중풍\n",
      "현재 상태는 강풍\n",
      "현재 상태는 꺼짐\n",
      "현재 상태는 약풍\n"
     ]
    }
   ],
   "source": [
    "class Fan:\n",
    "    power = ['꺼짐', '약풍', '중풍', '강풍']\n",
    "    status = 0\n",
    "   \n",
    "    def button(self):\n",
    "        # self.status += 1\n",
    "        self.status = (self.status + 1) % 4\n",
    "        print(f'현재 상태는 {self.power[self.status]}')\n",
    "        \n",
    "f = Fan()\n",
    "f.button()\n",
    "f.button()\n",
    "f.button()\n",
    "f.button()\n",
    "f.button()"
   ]
  },
  {
   "cell_type": "code",
   "execution_count": 46,
   "id": "b5c5230f-41cf-4ad0-8895-77dbff4f76e3",
   "metadata": {},
   "outputs": [],
   "source": [
    "class Person():\n",
    "    name = ''\n",
    "\n",
    "    def hello(self):\n",
    "        print(f'나의 이름은 {self.name}입니다.')"
   ]
  },
  {
   "cell_type": "code",
   "execution_count": 49,
   "id": "125a57c2-c3c2-4da3-82f6-8d1eec104d93",
   "metadata": {},
   "outputs": [
    {
     "name": "stdout",
     "output_type": "stream",
     "text": [
      "\n",
      "나의 이름은 입니다.\n",
      "나의 이름은 lee입니다.\n"
     ]
    }
   ],
   "source": [
    "p = Person()\n",
    "print(p.name)\n",
    "p.hello()\n",
    "p.name = 'lee'\n",
    "p.hello()"
   ]
  },
  {
   "cell_type": "code",
   "execution_count": 53,
   "id": "ee331194-3241-4027-a31b-cbc2ba0ca497",
   "metadata": {},
   "outputs": [],
   "source": [
    "# self : 인스턴스 객체 자기 자신 (다른 언어에서는 this)\n",
    "#  - 특별한 상황을 제외하고는 무조건 메소드의 첫번째 인자로 설정한다.\n",
    "#  - 인스턴스 메소드를 실행 할 때 자동으로 첫 번째 인자에 인스턴스를 할당한다."
   ]
  },
  {
   "cell_type": "code",
   "execution_count": 54,
   "id": "ab0d88bb-6a72-481a-905e-71db3b6f511a",
   "metadata": {},
   "outputs": [
    {
     "name": "stdout",
     "output_type": "stream",
     "text": [
      "나의 이름은 입니다.\n",
      "나의 이름은 입니다.\n"
     ]
    }
   ],
   "source": [
    "p1 = Person()\n",
    "p1.hello() #아래 버전을 생략한 버전. p1인스턴스 객체에서부터 메소드가 실행되기 때문에 self == p1\n",
    "Person.hello(p1) # self 매개 변수 자리에 p1이라고 하는 인스턴스 객체가 인자로 전달"
   ]
  },
  {
   "cell_type": "markdown",
   "id": "5bbaf7cf-eb6a-4211-8ff5-915bd44f7049",
   "metadata": {},
   "source": [
    "## 생성자, 소멸자\n",
    "\n",
    "```python\n",
    "class MyClass:\n",
    "    def __init__(self):\n",
    "        pass\n",
    "    def __del__(self):\n",
    "        pass\n",
    "```"
   ]
  },
  {
   "cell_type": "code",
   "execution_count": 182,
   "id": "8c1f1120-b5eb-4dc0-b328-e5908fdcdea7",
   "metadata": {},
   "outputs": [],
   "source": [
    "class Person:\n",
    "    name = 'noname'\n",
    "\n",
    "    def __init__(self, name = '익명'):\n",
    "        self.name = name\n",
    "        print('생성됨')\n",
    "    def __del__(self):\n",
    "        print('소멸됨')"
   ]
  },
  {
   "cell_type": "code",
   "execution_count": 183,
   "id": "7139ea2b-9d5e-4a90-a1c4-56a52cef3a32",
   "metadata": {},
   "outputs": [
    {
     "name": "stdout",
     "output_type": "stream",
     "text": [
      "생성됨\n",
      "seoyon\n"
     ]
    }
   ],
   "source": [
    "p1 = Person() # => Person.__init__(p1, )\n",
    "p1.name = 'seoyon'\n",
    "print(p1.name)\n",
    "\n",
    "# del p1"
   ]
  },
  {
   "cell_type": "code",
   "execution_count": 79,
   "id": "947a7139-d5d0-4fd5-90ff-187fd937f9dc",
   "metadata": {},
   "outputs": [
    {
     "name": "stdout",
     "output_type": "stream",
     "text": [
      "생성됨\n",
      "소멸됨\n",
      "lee\n"
     ]
    }
   ],
   "source": [
    "p2 =  Person('lee') # => Person.__init__(p2, 'lee')\n",
    "print(p2.name)"
   ]
  },
  {
   "cell_type": "code",
   "execution_count": 93,
   "id": "9e8b9c54-2114-4a97-afa3-ed3f18c268bf",
   "metadata": {},
   "outputs": [],
   "source": [
    "# Circle 클래스\n",
    "\n",
    "class Circle:\n",
    "    pi = 3.14\n",
    "    \n",
    "    def __init__(self, r, x_point = 0, y_point = 0):\n",
    "        self.r = r\n",
    "        self.x = x_point\n",
    "        self.y = y_point\n",
    "\n",
    "    def area(self):\n",
    "        return self.pi * self.r ** 2\n",
    "\n",
    "    def move(self, x, y):\n",
    "        self.x = x\n",
    "        self.y = y\n",
    "        print(f'원의 중심이 {x}, {y}로 이동했습니다.')\n",
    "\n",
    "    def center(self):\n",
    "        # 원의 중심을 (x, y)로 반환\n",
    "        return (self.x, self.y)"
   ]
  },
  {
   "cell_type": "code",
   "execution_count": 95,
   "id": "db07020a-a122-47c7-a2c0-4023c8259721",
   "metadata": {},
   "outputs": [
    {
     "name": "stdout",
     "output_type": "stream",
     "text": [
      "5\n",
      "3\n",
      "28.26\n",
      "원의 중심이 -3, -3로 이동했습니다.\n",
      "(-3, -3)\n",
      "0\n",
      "10\n",
      "314.0\n",
      "원의 중심이 10, 10로 이동했습니다.\n",
      "(10, 10)\n"
     ]
    }
   ],
   "source": [
    "c1 = Circle(3, 5, 5)\n",
    "print(c1.x)\n",
    "print(c1.r)\n",
    "print(c1.area())\n",
    "c1.move(-3, -3)\n",
    "print(c1.center())\n",
    "\n",
    "c2 = Circle(10)\n",
    "print(c2.x)\n",
    "print(c2.r)\n",
    "print(c2.area())\n",
    "c2.move(10, 10)\n",
    "print(c2.center())"
   ]
  },
  {
   "cell_type": "markdown",
   "id": "f9dd7ed8-d9f8-407d-833d-0704efbbddd1",
   "metadata": {},
   "source": [
    "### 클래스 변수 \n",
    "- 클래스 선언 블록 최상단에 위치\n",
    "  \n",
    "### 인스턴스 변수\n",
    "- 인스턴스 내부에서 생성한 변수 (self.variable = )\n",
    "\n",
    "```python\n",
    "class TestClass:\n",
    "    class_variable = '클래스변수'\n",
    "\n",
    "    def __init__(self, arg):\n",
    "        self.instance_variable = '인스턴스변수'\n",
    "\n",
    "    def status(self):\n",
    "        return self.instance_variable\n",
    "```"
   ]
  },
  {
   "cell_type": "code",
   "execution_count": 99,
   "id": "44cfa9a9-42ec-4c65-9b0f-48f18bfa9d04",
   "metadata": {},
   "outputs": [],
   "source": [
    "class Person:\n",
    "    name = '홍길동'\n",
    "    phone = '010-1234-1234'\n",
    "\n",
    "    def __init__(self, name):\n",
    "        self.name = name"
   ]
  },
  {
   "cell_type": "code",
   "execution_count": 102,
   "id": "151736db-128c-4576-8d19-f16353a51927",
   "metadata": {},
   "outputs": [
    {
     "name": "stdout",
     "output_type": "stream",
     "text": [
      "이서연\n",
      "홍길동\n",
      "010-1234-1234\n"
     ]
    }
   ],
   "source": [
    "p = Person('이서연')\n",
    "print(p.name) # 인스턴스 변수\n",
    "print(Person.name) # 클래스 변수\n",
    "\n",
    "print(p.phone)\n",
    "# print(p.location)"
   ]
  },
  {
   "cell_type": "markdown",
   "id": "bd0e35ed-9a26-4c66-b9fe-b6644c34c0e3",
   "metadata": {},
   "source": [
    "### 클래스메소드, 인스턴스메소드, 스태틱메소트\n",
    "\n",
    "```python\n",
    "class MyClass:\n",
    "    def instance_method(self):\n",
    "        pass\n",
    "\n",
    "    @classmethod\n",
    "    def class_method(cls):\n",
    "        pass\n",
    "\n",
    "    @staticmethod\n",
    "    def static_method():\n",
    "        pass\n",
    "```"
   ]
  },
  {
   "cell_type": "code",
   "execution_count": 106,
   "id": "295c8932-9442-4aaa-b201-7aca040cc681",
   "metadata": {},
   "outputs": [],
   "source": [
    "class MyClass:\n",
    "    def instance_method(self):\n",
    "        return self\n",
    "\n",
    "    @classmethod\n",
    "    def class_method(cls):\n",
    "        return cls\n",
    "\n",
    "    @staticmethod\n",
    "    def static_method():\n",
    "        return 'hello'"
   ]
  },
  {
   "cell_type": "code",
   "execution_count": 110,
   "id": "22269d73-baed-4fe1-9f64-342abf202c24",
   "metadata": {},
   "outputs": [
    {
     "name": "stdout",
     "output_type": "stream",
     "text": [
      "<__main__.MyClass object at 0x000001B6C1336050>\n",
      "<class '__main__.MyClass'>\n",
      "<class '__main__.MyClass'>\n",
      "hello\n"
     ]
    }
   ],
   "source": [
    "c1 = MyClass()\n",
    "\n",
    "print(c1.instance_method())\n",
    "print(MyClass.class_method())\n",
    "print(c1.class_method())\n",
    "print(c1.static_method())"
   ]
  },
  {
   "cell_type": "code",
   "execution_count": 121,
   "id": "5d1472da-bb3d-410e-821c-2fc3a3ebcc65",
   "metadata": {},
   "outputs": [],
   "source": [
    "class Puppy:\n",
    "    num_of_puppy = 0\n",
    "\n",
    "    def __init__(self, name):\n",
    "        self.name = name\n",
    "        Puppy.num_of_puppy += 1\n",
    "\n",
    "    @classmethod\n",
    "    def get_status(cls):\n",
    "        return f'현재 강아지는 {cls.num_of_puppy}마리 입니다.'\n",
    "\n",
    "    @staticmethod\n",
    "    def bark(string = '멍멍'):\n",
    "        return string"
   ]
  },
  {
   "cell_type": "code",
   "execution_count": 123,
   "id": "d3c6ee59-fb9f-4bd2-823f-ea1daf6d7d82",
   "metadata": {},
   "outputs": [
    {
     "name": "stdout",
     "output_type": "stream",
     "text": [
      "6\n",
      "6\n",
      "6\n",
      "현재 강아지는 6마리 입니다.\n",
      "멍멍\n",
      "그르릉\n"
     ]
    }
   ],
   "source": [
    "p1 = Puppy('또또')\n",
    "p2 = Puppy('몽이')\n",
    "p3 = Puppy('흰둥이')\n",
    "\n",
    "print(p1.num_of_puppy)\n",
    "print(p2.num_of_puppy)\n",
    "print(Puppy.num_of_puppy)\n",
    "\n",
    "print(Puppy.get_status())\n",
    "\n",
    "print(p1.bark())\n",
    "print(p2.bark('그르릉'))"
   ]
  },
  {
   "cell_type": "markdown",
   "id": "b838ce3f-66af-432b-89cf-5ef4bf11131a",
   "metadata": {},
   "source": [
    "## 정리\n",
    "\n",
    "```\n",
    "class\n",
    "    - attribute (variable, data)\n",
    "        - instance_variable\n",
    "        - class_variable\n",
    "    - method\n",
    "        - instance_method\n",
    "        - class_method\n",
    "        - static_method\n",
    "```"
   ]
  },
  {
   "cell_type": "markdown",
   "id": "cd9a683c-954b-4abd-a266-3b2ebfff5a04",
   "metadata": {},
   "source": [
    "## 상속"
   ]
  },
  {
   "cell_type": "code",
   "execution_count": 126,
   "id": "35011fd5-d9c7-40ea-a37d-e6629a90694d",
   "metadata": {},
   "outputs": [],
   "source": [
    "class Person:\n",
    "\n",
    "    def __init__(self, name):\n",
    "        self.name = name\n",
    "\n",
    "    def greeting(self):\n",
    "        print(f'안녕하세요 {self.name}입니다.')"
   ]
  },
  {
   "cell_type": "code",
   "execution_count": 127,
   "id": "2353c307-1d27-4263-8b95-14e6c6472261",
   "metadata": {},
   "outputs": [
    {
     "name": "stdout",
     "output_type": "stream",
     "text": [
      "안녕하세요 홍길동입니다.\n"
     ]
    }
   ],
   "source": [
    "p1 = Person('홍길동')\n",
    "p2 = Person ('이순신')\n",
    "\n",
    "p1.greeting()"
   ]
  },
  {
   "cell_type": "code",
   "execution_count": 130,
   "id": "a1287ef0-2ef3-40e6-aed1-04615910c613",
   "metadata": {},
   "outputs": [],
   "source": [
    "class Student(Person):\n",
    "    pass\n",
    "    # def __init__(self, name):\n",
    "    #     self.name = name\n",
    "\n",
    "    # def greeting(self):\n",
    "    #     print(f'안녕하세요 {self.name}입니다.')"
   ]
  },
  {
   "cell_type": "code",
   "execution_count": 131,
   "id": "0eb67fdb-850d-49a9-ad34-9ac481a4d749",
   "metadata": {},
   "outputs": [
    {
     "name": "stdout",
     "output_type": "stream",
     "text": [
      "안녕하세요 lee입니다.\n"
     ]
    }
   ],
   "source": [
    "s1 = Student('lee')\n",
    "s2 = Student('park')\n",
    "\n",
    "s1.greeting()"
   ]
  },
  {
   "cell_type": "code",
   "execution_count": 135,
   "id": "663e4563-9286-471c-a9a4-e454c7df4ecb",
   "metadata": {},
   "outputs": [],
   "source": [
    "class Student(Person):\n",
    "    # def __init__(self, name):\n",
    "    #     self.name = name\n",
    "\n",
    "    # def greeting(self):\n",
    "    #     print(f'안녕하세요 {self.name}입니다.')\n",
    "    # 부모 보다는 내가 만든게 더 우선 순위이다.\n",
    "    def __init__(self, name, student_id):\n",
    "        self.name = name\n",
    "        self.student_id =student_id"
   ]
  },
  {
   "cell_type": "code",
   "execution_count": 136,
   "id": "1742bfb0-4047-4dea-98b0-0217947fd150",
   "metadata": {},
   "outputs": [
    {
     "name": "stdout",
     "output_type": "stream",
     "text": [
      "안녕하세요 lee입니다.\n",
      "12345\n"
     ]
    }
   ],
   "source": [
    "s1 = Student('lee', 12345)\n",
    "s2 = Student('park', 98765)\n",
    "\n",
    "s1.greeting()\n",
    "print(s1.student_id)"
   ]
  },
  {
   "cell_type": "code",
   "execution_count": 137,
   "id": "2b311561-97f4-4445-849f-bbf72739e4c8",
   "metadata": {},
   "outputs": [],
   "source": [
    "class Soldier(Person):\n",
    "\n",
    "    def greeting(self):\n",
    "        return f'충성! {self.name}입니다.'"
   ]
  },
  {
   "cell_type": "code",
   "execution_count": 138,
   "id": "8b3e030f-c3f6-481a-b30c-7646fe5bf9b2",
   "metadata": {},
   "outputs": [
    {
     "data": {
      "text/plain": [
       "'충성! 국방이입니다.'"
      ]
     },
     "execution_count": 138,
     "metadata": {},
     "output_type": "execute_result"
    }
   ],
   "source": [
    "s1 =Soldier('국방이')\n",
    "s1.greeting()"
   ]
  },
  {
   "cell_type": "code",
   "execution_count": null,
   "id": "11b8038d-045a-41c3-96f1-b6c390dd865d",
   "metadata": {},
   "outputs": [],
   "source": []
  },
  {
   "cell_type": "code",
   "execution_count": 139,
   "id": "3d3c7406-cd00-4c15-bc14-6064f1853995",
   "metadata": {},
   "outputs": [],
   "source": [
    "class Person:\n",
    "    def __init__(self, email, phone, location, name):\n",
    "        self.email = email\n",
    "        self.phone = phone\n",
    "        self.location = location\n",
    "        self.name = name\n",
    "\n",
    "class Student(Person):\n",
    "    def __init__(self, email, phone, location, name, student_id):\n",
    "        self.email = email\n",
    "        self.phone = phone\n",
    "        self.location = location\n",
    "        self.name = name\n",
    "        self.student_id = student_id\n",
    "\n",
    "class Soldier(Person):\n",
    "    def __init__(self, email, phone, location, name, soldier_id):\n",
    "        # super() => 부모 클래스를 반환 (Person)\n",
    "        super().__init__(email, phone, location, name)\n",
    "        self.soldier_id = soldier_id"
   ]
  },
  {
   "cell_type": "code",
   "execution_count": 140,
   "id": "65831d58-a4d4-4aa6-8b96-b7d1eccb0912",
   "metadata": {},
   "outputs": [
    {
     "name": "stdout",
     "output_type": "stream",
     "text": [
      "lee\n",
      "12345\n"
     ]
    }
   ],
   "source": [
    "s1 = Soldier('email@email.com', '010-23232', 'seoul', 'lee', '12345')\n",
    "print(s1.name)\n",
    "print(s1.soldier_id)"
   ]
  },
  {
   "cell_type": "code",
   "execution_count": 146,
   "id": "4d78b978-d509-44f7-8232-1fb9d74bc74a",
   "metadata": {},
   "outputs": [],
   "source": [
    "class Person:\n",
    "    def __init__(self, name):\n",
    "        self.name = name\n",
    "    \n",
    "    def breath(self):\n",
    "        print('후하')"
   ]
  },
  {
   "cell_type": "code",
   "execution_count": 147,
   "id": "601adabf-773b-4e12-93e4-e8a6cf06e6fc",
   "metadata": {},
   "outputs": [],
   "source": [
    "class Mom(Person):\n",
    "    gene = 'xx'\n",
    "\n",
    "    def swim(self):\n",
    "        print('어푸어푸')"
   ]
  },
  {
   "cell_type": "code",
   "execution_count": 148,
   "id": "36fc426c-a789-430f-ab6f-87937f95823f",
   "metadata": {},
   "outputs": [],
   "source": [
    "class Dad(Person):\n",
    "    gene = 'xy'\n",
    "\n",
    "    def run(self):\n",
    "        print('다다다')"
   ]
  },
  {
   "cell_type": "code",
   "execution_count": 149,
   "id": "bc9a8825-3825-472b-9d96-52ab8101185c",
   "metadata": {},
   "outputs": [],
   "source": [
    "class Baby(Mom, Dad):\n",
    "    pass"
   ]
  },
  {
   "cell_type": "code",
   "execution_count": 152,
   "id": "bd73f8d2-49a4-4d51-be6c-5c2565e803ae",
   "metadata": {},
   "outputs": [
    {
     "name": "stdout",
     "output_type": "stream",
     "text": [
      "후하\n",
      "어푸어푸\n",
      "다다다\n",
      "xx\n"
     ]
    }
   ],
   "source": [
    "b = Baby('금쪽이')\n",
    "b.breath()\n",
    "b.swim()\n",
    "b.run()\n",
    "print(b.gene)"
   ]
  },
  {
   "cell_type": "code",
   "execution_count": 155,
   "id": "d00446da-7375-45f9-8b83-3a97e210a3c4",
   "metadata": {},
   "outputs": [],
   "source": [
    "class Baby(Dad, Mom):\n",
    "    pass"
   ]
  },
  {
   "cell_type": "code",
   "execution_count": 157,
   "id": "5d744fc5-5b73-4d65-a9e4-74e88e122cd6",
   "metadata": {},
   "outputs": [
    {
     "name": "stdout",
     "output_type": "stream",
     "text": [
      "후하\n",
      "어푸어푸\n",
      "다다다\n",
      "xy\n"
     ]
    }
   ],
   "source": [
    "b = Baby('금쪽이')\n",
    "b.breath()\n",
    "b.swim()\n",
    "b.run()\n",
    "# 다중상속을 한 경우 먼저 상속받은 데이터/메소드가 우선\n",
    "print(b.gene)"
   ]
  },
  {
   "cell_type": "code",
   "execution_count": 173,
   "id": "2bc91f4a-3a14-474f-8413-73f4a535e121",
   "metadata": {},
   "outputs": [],
   "source": [
    "class Pokemon:\n",
    "    def __init__(self, level, category, dictnum, sound, nextlv, name):\n",
    "        self.level = level\n",
    "        self.category = category\n",
    "        self.dictnum = dictnum\n",
    "        self.sound = sound\n",
    "        self.nextlv = nextlv\n",
    "        self.name = name\n",
    "\n",
    "    def greeting(self):\n",
    "        print(f'{self.sound}{self.sound}!')"
   ]
  },
  {
   "cell_type": "code",
   "execution_count": 174,
   "id": "eda0f49d-bb41-410e-a76d-7788ad02fd9f",
   "metadata": {},
   "outputs": [
    {
     "name": "stdout",
     "output_type": "stream",
     "text": [
      "0025\n",
      "pikachu\n",
      "삐까\n",
      "삐까삐까!\n"
     ]
    }
   ],
   "source": [
    "p1 = Pokemon ('0', 'rat', '0025', '삐까', '라이츄', 'pikachu')\n",
    "print(p1.dictnum)\n",
    "print(p1.name)\n",
    "print(p1.sound)\n",
    "\n",
    "p1.greeting()"
   ]
  },
  {
   "cell_type": "code",
   "execution_count": 175,
   "id": "02e71fd2-2cd7-4719-ae04-0d2f07951b10",
   "metadata": {},
   "outputs": [
    {
     "name": "stdout",
     "output_type": "stream",
     "text": [
      "seed\n",
      "0\n",
      "이상해풀\n",
      "이상이상!\n"
     ]
    }
   ],
   "source": [
    "p2 = Pokemon ('0', 'seed', '0001', '이상', '이상해풀', '이상해씨')\n",
    "print(p2.category)\n",
    "print(p2.level)\n",
    "print(p2.nextlv)\n",
    "\n",
    "p2.greeting()"
   ]
  },
  {
   "cell_type": "code",
   "execution_count": 179,
   "id": "a5a1637f-8f08-42bf-9fd4-676422f8fb43",
   "metadata": {},
   "outputs": [],
   "source": [
    "class eevee(Pokemon):\n",
    "     def __init__(self, name, stone, sound):\n",
    "        self.name = name\n",
    "        self.stone = stone\n",
    "        self.sound = sound"
   ]
  },
  {
   "cell_type": "code",
   "execution_count": 180,
   "id": "a78c2fe0-286a-4647-8850-6f29dc17f505",
   "metadata": {},
   "outputs": [
    {
     "name": "stdout",
     "output_type": "stream",
     "text": [
      "물의돌\n",
      "샤미드\n",
      "샤미드\n",
      "샤미드샤미드!\n"
     ]
    }
   ],
   "source": [
    "p3 = eevee('샤미드', '물의돌', '샤미드')\n",
    "print(p3.stone)\n",
    "print(p3.name)\n",
    "print(p3.sound)\n",
    "\n",
    "p3.greeting()"
   ]
  },
  {
   "cell_type": "code",
   "execution_count": null,
   "id": "33c5bd6d-fac2-414f-a2fe-aba164f2e27d",
   "metadata": {},
   "outputs": [],
   "source": []
  }
 ],
 "metadata": {
  "kernelspec": {
   "display_name": "Python 3 (ipykernel)",
   "language": "python",
   "name": "python3"
  },
  "language_info": {
   "codemirror_mode": {
    "name": "ipython",
    "version": 3
   },
   "file_extension": ".py",
   "mimetype": "text/x-python",
   "name": "python",
   "nbconvert_exporter": "python",
   "pygments_lexer": "ipython3",
   "version": "3.11.4"
  }
 },
 "nbformat": 4,
 "nbformat_minor": 5
}
