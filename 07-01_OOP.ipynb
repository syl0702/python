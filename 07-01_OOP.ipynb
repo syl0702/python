{
 "cells": [
  {
   "cell_type": "markdown",
   "id": "ed5b8e22-6c0c-4110-ab90-914253a0d7ae",
   "metadata": {},
   "source": [
    "# 객체지향 프로그래밍 (OOP)\n",
    "\n",
    "- 클래스(class) : 같은 종류의 집단에 속하는 속성(attribute)과 행위(method)를 **정의**한 것.\n",
    "- 인스턴스(instance) : 클래스를 실제로 메모리상에 할당한 것. (붕어빵 틀에 실제로 찍어낸 것.)\n",
    "- 속성 (attribute) : 클래스/인스턴스가 가지고 있는 **데이터**/값\n",
    "- 행위 (method) : 클래스/인스턴스가 가지고 있는 **함수**/기능"
   ]
  },
  {
   "cell_type": "code",
   "execution_count": 1,
   "id": "ee3912f1-13c8-4248-93b4-866d505c5a93",
   "metadata": {},
   "outputs": [
    {
     "name": "stdout",
     "output_type": "stream",
     "text": [
      "(1+2j)\n"
     ]
    }
   ],
   "source": [
    "number = 1 +2j\n",
    "print(number)"
   ]
  },
  {
   "cell_type": "code",
   "execution_count": 2,
   "id": "e3a01e09-ff30-43d9-8614-e496e444cbb0",
   "metadata": {},
   "outputs": [
    {
     "name": "stdout",
     "output_type": "stream",
     "text": [
      "1.0\n",
      "2.0\n"
     ]
    }
   ],
   "source": [
    "print(number.real)\n",
    "print(number.imag)"
   ]
  },
  {
   "cell_type": "code",
   "execution_count": 3,
   "id": "0e56aadd-fece-4413-8c96-bd7aa7174527",
   "metadata": {},
   "outputs": [
    {
     "data": {
      "text/plain": [
       "['__abs__',\n",
       " '__add__',\n",
       " '__bool__',\n",
       " '__class__',\n",
       " '__complex__',\n",
       " '__delattr__',\n",
       " '__dir__',\n",
       " '__doc__',\n",
       " '__eq__',\n",
       " '__format__',\n",
       " '__ge__',\n",
       " '__getattribute__',\n",
       " '__getnewargs__',\n",
       " '__getstate__',\n",
       " '__gt__',\n",
       " '__hash__',\n",
       " '__init__',\n",
       " '__init_subclass__',\n",
       " '__le__',\n",
       " '__lt__',\n",
       " '__mul__',\n",
       " '__ne__',\n",
       " '__neg__',\n",
       " '__new__',\n",
       " '__pos__',\n",
       " '__pow__',\n",
       " '__radd__',\n",
       " '__reduce__',\n",
       " '__reduce_ex__',\n",
       " '__repr__',\n",
       " '__rmul__',\n",
       " '__rpow__',\n",
       " '__rsub__',\n",
       " '__rtruediv__',\n",
       " '__setattr__',\n",
       " '__sizeof__',\n",
       " '__str__',\n",
       " '__sub__',\n",
       " '__subclasshook__',\n",
       " '__truediv__',\n",
       " 'conjugate',\n",
       " 'imag',\n",
       " 'real']"
      ]
     },
     "execution_count": 3,
     "metadata": {},
     "output_type": "execute_result"
    }
   ],
   "source": [
    "dir(number)"
   ]
  },
  {
   "cell_type": "code",
   "execution_count": 4,
   "id": "d52f880b-cdd1-4789-a445-8719c43b3013",
   "metadata": {},
   "outputs": [
    {
     "name": "stdout",
     "output_type": "stream",
     "text": [
      "<class 'complex'>\n"
     ]
    }
   ],
   "source": [
    "print(type(number))"
   ]
  },
  {
   "cell_type": "code",
   "execution_count": 5,
   "id": "fb7a5074-5829-470a-b80d-be8a60ac107d",
   "metadata": {},
   "outputs": [
    {
     "name": "stdout",
     "output_type": "stream",
     "text": [
      "<class 'list'>\n"
     ]
    }
   ],
   "source": [
    "my_list = [1, 2, 3, 4, 5]\n",
    "print(type(my_list))\n",
    "my_list.sort()"
   ]
  },
  {
   "cell_type": "code",
   "execution_count": 18,
   "id": "392ed76c-6a2d-46d3-bc3f-072aa7b95c08",
   "metadata": {},
   "outputs": [],
   "source": [
    "power = False # 전원을 꺼둠\n",
    "number = '010-1111-1111'\n",
    "book = {\n",
    "    '홍길동' : '010-2222-2222',\n",
    "    '이순신' : '010-3333-3333',\n",
    "}\n",
    "model = 'iPhone12'"
   ]
  },
  {
   "cell_type": "code",
   "execution_count": 19,
   "id": "11edf2d4-24e4-4c41-be71-59d303b7ed92",
   "metadata": {},
   "outputs": [],
   "source": [
    "def on():\n",
    "    global power\n",
    "    if power == False:\n",
    "        power = True\n",
    "        print('핸드폰이 켜졌습니다.')"
   ]
  },
  {
   "cell_type": "code",
   "execution_count": 20,
   "id": "0f8ce9ca-0bf2-4aa3-b799-04402addd881",
   "metadata": {},
   "outputs": [
    {
     "name": "stdout",
     "output_type": "stream",
     "text": [
      "핸드폰이 켜졌습니다.\n"
     ]
    }
   ],
   "source": [
    "on()"
   ]
  },
  {
   "cell_type": "markdown",
   "id": "d80fb459-45f8-4d76-8958-eb1ee4645330",
   "metadata": {},
   "source": [
    "## Class\n",
    "\n",
    "- 클래스 선언\n",
    "```python\n",
    "class ClassName:\n",
    "    attribute = value\n",
    "    def method_name(self):\n",
    "        code\n",
    "```\n",
    "- 인스턴스화\n",
    "```python\n",
    "ClassName()\n",
    "```"
   ]
  },
  {
   "cell_type": "code",
   "execution_count": 21,
   "id": "c6742c18-c66e-4384-b259-372b70b94675",
   "metadata": {},
   "outputs": [],
   "source": [
    "# 선언\n",
    "class MyClass:\n",
    "    name = 'lee'\n",
    "\n",
    "    def hello(self):\n",
    "        return 'hello'"
   ]
  },
  {
   "cell_type": "code",
   "execution_count": 22,
   "id": "888595da-2772-44e3-ac58-e614774893ea",
   "metadata": {},
   "outputs": [
    {
     "name": "stdout",
     "output_type": "stream",
     "text": [
      "lee\n",
      "hello\n",
      "lee\n",
      "hello\n"
     ]
    }
   ],
   "source": [
    "# 인스턴스화\n",
    "a = MyClass()\n",
    "\n",
    "print(a.name) # 속성 실행\n",
    "print(a.hello()) # 기능 실행\n",
    "\n",
    "b = MyClass()\n",
    "\n",
    "print(b.name)\n",
    "print(b.hello())"
   ]
  },
  {
   "cell_type": "code",
   "execution_count": 23,
   "id": "c41a838c-464e-4aee-af8f-b76bd3b76db0",
   "metadata": {},
   "outputs": [],
   "source": [
    "class Phone:\n",
    "    power = False\n",
    "    number = '010-0000-0000'\n",
    "    book = {}\n",
    "    model = ''\n",
    "\n",
    "    def on(self):\n",
    "        if self.power == False:\n",
    "            self.power = True\n",
    "    def off(self):\n",
    "        if self.power == True:\n",
    "            self.power = False\n",
    "    def call(self, target):\n",
    "        if self.power == True:\n",
    "            print(f'내 번호는 {self.number}입니다.')\n",
    "            print(f'{target} 번호로 전화 거는 중')\n",
    "        else:\n",
    "            print('핸드폰을 켜주세요')"
   ]
  },
  {
   "cell_type": "code",
   "execution_count": 24,
   "id": "e69b8639-b90c-44c9-9525-054bdd2358c8",
   "metadata": {},
   "outputs": [],
   "source": [
    "my_phone = Phone()\n",
    "your_phone = Phone()"
   ]
  },
  {
   "cell_type": "code",
   "execution_count": 25,
   "id": "ba4e0b67-d0e9-4d26-b7b0-a5171e8bcea9",
   "metadata": {},
   "outputs": [
    {
     "name": "stdout",
     "output_type": "stream",
     "text": [
      "010-1234-1234\n"
     ]
    }
   ],
   "source": [
    "my_phone.number = '010-1234-1234'\n",
    "print(my_phone.number)"
   ]
  },
  {
   "cell_type": "code",
   "execution_count": 27,
   "id": "b1e61a67-0ab8-4cc9-bbd7-4d0c1236eb3b",
   "metadata": {},
   "outputs": [
    {
     "data": {
      "text/plain": [
       "'010-0000-0000'"
      ]
     },
     "execution_count": 27,
     "metadata": {},
     "output_type": "execute_result"
    }
   ],
   "source": [
    "your_phone.number # my_phone에 적용한 것이 영향을 주지 않는다."
   ]
  },
  {
   "cell_type": "code",
   "execution_count": 28,
   "id": "da9e08d6-c97f-40f2-8899-ccbfc4dfb52b",
   "metadata": {},
   "outputs": [
    {
     "data": {
      "text/plain": [
       "False"
      ]
     },
     "execution_count": 28,
     "metadata": {},
     "output_type": "execute_result"
    }
   ],
   "source": [
    "my_phone.power"
   ]
  },
  {
   "cell_type": "code",
   "execution_count": 29,
   "id": "5f84b6f0-13b7-41cb-b1a6-5125d0992c3d",
   "metadata": {},
   "outputs": [],
   "source": [
    "my_phone.on()"
   ]
  },
  {
   "cell_type": "code",
   "execution_count": 30,
   "id": "b2a0bdab-4f5d-4231-be4e-7c2c5dee0820",
   "metadata": {},
   "outputs": [
    {
     "data": {
      "text/plain": [
       "True"
      ]
     },
     "execution_count": 30,
     "metadata": {},
     "output_type": "execute_result"
    }
   ],
   "source": [
    "my_phone.power"
   ]
  },
  {
   "cell_type": "code",
   "execution_count": 31,
   "id": "f412e50a-8782-4314-87e8-ae6b50cfc0c7",
   "metadata": {},
   "outputs": [
    {
     "name": "stdout",
     "output_type": "stream",
     "text": [
      "내 번호는 010-1234-1234입니다.\n",
      "112 번호로 전화 거는 중\n"
     ]
    }
   ],
   "source": [
    "my_phone.call('112')"
   ]
  },
  {
   "cell_type": "code",
   "execution_count": 32,
   "id": "c5f87369-2e6e-4f7f-875f-51c3ffecfe9b",
   "metadata": {},
   "outputs": [],
   "source": [
    "# 연습\n",
    "class MyList:\n",
    "    data = []\n",
    "\n",
    "    def append(self, item):\n",
    "        self.data = self.data + [item]\n",
    "\n",
    "    # data의 제일 마지막 요소를 삭제하고, 삭제된 요소를 리턴\n",
    "    def pop(self):\n",
    "        num = self.data[-1]\n",
    "        self.data = self.data[:-1]\n",
    "        return num"
   ]
  },
  {
   "cell_type": "code",
   "execution_count": 33,
   "id": "caafc0f5-2745-42f4-b2da-609a7e996154",
   "metadata": {},
   "outputs": [
    {
     "name": "stdout",
     "output_type": "stream",
     "text": [
      "[]\n",
      "[5, 1, 10]\n",
      "10\n",
      "[5, 1]\n"
     ]
    }
   ],
   "source": [
    "list_a = MyList()\n",
    "print(list_a.data)\n",
    "list_a.append(5)\n",
    "list_a.append(1)\n",
    "list_a.append(10)\n",
    "print(list_a.data)\n",
    "\n",
    "print(list_a.pop())\n",
    "print(list_a.data)"
   ]
  },
  {
   "cell_type": "code",
   "execution_count": 34,
   "id": "2670258f-591a-453d-a114-ee5d5c9da4c5",
   "metadata": {},
   "outputs": [
    {
     "name": "stdout",
     "output_type": "stream",
     "text": [
      "[]\n",
      "[2, 4, 6]\n"
     ]
    }
   ],
   "source": [
    "list_b = MyList()\n",
    "print(list_b.data)\n",
    "\n",
    "list_b.append(2)\n",
    "list_b.append(4)\n",
    "list_b.append(6)\n",
    "print(list_b.data)"
   ]
  },
  {
   "cell_type": "code",
   "execution_count": 36,
   "id": "a01ae743-d170-40cd-8606-2fcbe4dd678e",
   "metadata": {},
   "outputs": [
    {
     "data": {
      "text/plain": [
       "'lee'"
      ]
     },
     "execution_count": 36,
     "metadata": {},
     "output_type": "execute_result"
    }
   ],
   "source": [
    "# 정리\n",
    "class Person: # => 클래스 정의(선언) : 클래스 객체 생성\n",
    "    name = 'lee' # => 속성(attribute) : 변수/값/데이터\n",
    "\n",
    "    def hello(self): # => 행동(method): 함수/기능\n",
    "        return self.name\n",
    "\n",
    "p = Person() # => 인스턴스화 / 인스턴스 객체를 생성\n",
    "p.name # => 속성을 호출\n",
    "p.hello() # => 메소드를 실행"
   ]
  },
  {
   "cell_type": "code",
   "execution_count": 37,
   "id": "5712516e-96e9-46ac-a013-80a50dc942a6",
   "metadata": {},
   "outputs": [
    {
     "name": "stdout",
     "output_type": "stream",
     "text": [
      "현재 상태는 미풍\n",
      "현재 상태는 약풍\n",
      "현재 상태는 강풍\n",
      "현재 상태는 꺼짐\n"
     ]
    }
   ],
   "source": [
    "class Fan:\n",
    "    power = ['꺼짐', '미풍', '약풍', '강풍']\n",
    "    status = 0\n",
    "\n",
    "    def button(self):\n",
    "        # self.status += 1\n",
    "        self.status = (self.status + 1) % 4\n",
    "        print(f'현재 상태는 {self.power[self.status]}')\n",
    "\n",
    "f = Fan()\n",
    "f.button()\n",
    "f.button()\n",
    "f.button()\n",
    "f.button()"
   ]
  },
  {
   "cell_type": "code",
   "execution_count": 38,
   "id": "7b74c99b-bc49-497a-a27f-cee8665daf99",
   "metadata": {},
   "outputs": [],
   "source": [
    "class Person():\n",
    "    name = ''\n",
    "\n",
    "    def hello(self):\n",
    "        print(f'나의 이름은 {self.name}입니다.')"
   ]
  },
  {
   "cell_type": "code",
   "execution_count": 39,
   "id": "d2485832-b23d-47a6-833f-1a9e309d50d3",
   "metadata": {},
   "outputs": [
    {
     "name": "stdout",
     "output_type": "stream",
     "text": [
      "\n",
      "나의 이름은 입니다.\n",
      "나의 이름은 lee입니다.\n"
     ]
    }
   ],
   "source": [
    "p = Person()\n",
    "print(p.name)\n",
    "p.hello()\n",
    "p.name = 'lee'\n",
    "p.hello()"
   ]
  },
  {
   "cell_type": "markdown",
   "id": "8cff4a73-b1bf-41ee-88fa-5e6a2e4ce1a9",
   "metadata": {},
   "source": [
    "self : 인스턴스 객체 자기 자신 (다른 언어에서는 this)\n",
    "- 특별한 상황을 제외하고는 부조건 메소드의 첫 번재 인자로 설정한다.\n",
    "- 인스턴스 메소드를 실행 할 때 자동으로 첫 번째 인자에 인스턴스를 할당한다."
   ]
  },
  {
   "cell_type": "code",
   "execution_count": 41,
   "id": "73e27d01-89a3-4935-a86f-767d1e5e2328",
   "metadata": {},
   "outputs": [
    {
     "name": "stdout",
     "output_type": "stream",
     "text": [
      "나의 이름은 입니다.\n",
      "나의 이름은 입니다.\n"
     ]
    }
   ],
   "source": [
    "p1 = Person()\n",
    "p1.hello() # 아래 버전을 생략한 버전. p1인스턴스 객체에서부터 메소드가 실행되기 때문에 self == p1\n",
    "Person.hello(p1) # self 매개 변수 자리에 p1이라고 하는 인스턴스 객체가 인자로 전달"
   ]
  },
  {
   "cell_type": "markdown",
   "id": "db45d011-d269-405a-bed5-d7d1905a6375",
   "metadata": {},
   "source": [
    "## 생성자, 소멸자\n",
    "\n",
    "```python\n",
    "class MyClass:\n",
    "    def __init__(self):\n",
    "        pass\n",
    "    def __del__(self):\n",
    "        pass\n",
    "```"
   ]
  },
  {
   "cell_type": "code",
   "execution_count": 42,
   "id": "b4cae20f-ad1a-46cf-b72e-4d752dacd701",
   "metadata": {},
   "outputs": [],
   "source": [
    "class Person:\n",
    "    name = 'noname'\n",
    "\n",
    "    def __init__(self, name = '익명'):\n",
    "        self.name = name\n",
    "        print('생성됨')\n",
    "    def __del__(self):\n",
    "        print('소멸됨')"
   ]
  },
  {
   "cell_type": "code",
   "execution_count": 43,
   "id": "79ef9e58-f2c9-493e-afdf-6d86d6b3eca0",
   "metadata": {},
   "outputs": [
    {
     "name": "stdout",
     "output_type": "stream",
     "text": [
      "생성됨\n",
      "seoyon\n"
     ]
    }
   ],
   "source": [
    "p1 = Person() # => Person.__init__(p1, )\n",
    "p1.name = 'seoyon'\n",
    "print(p1.name)\n",
    "\n",
    "# del p1"
   ]
  },
  {
   "cell_type": "code",
   "execution_count": 44,
   "id": "a3152012-329e-4a59-bfb1-2e9ef12f7e4e",
   "metadata": {},
   "outputs": [
    {
     "name": "stdout",
     "output_type": "stream",
     "text": [
      "생성됨\n",
      "lee\n"
     ]
    }
   ],
   "source": [
    "p2 = Person('lee') # => Person.__init__(p2, 'lee')\n",
    "print(p2.name)"
   ]
  },
  {
   "cell_type": "code",
   "execution_count": 45,
   "id": "6f1754cd-3bb0-4d70-930a-385c2ea36f20",
   "metadata": {},
   "outputs": [],
   "source": [
    "# Circle 클래스\n",
    "\n",
    "class Circle:\n",
    "    pi = 3.14\n",
    "\n",
    "    def __init__(self, r, x_point = 0, y_point = 0):\n",
    "        self.r = r\n",
    "        self.x = x_point\n",
    "        self.y = y_point\n",
    "\n",
    "    def area(self):\n",
    "        return self.pi * self.r ** 2\n",
    "\n",
    "    def move(self, x, y):\n",
    "        self.x = x\n",
    "        self.y = y\n",
    "        print(f'원의 중심이 {x}, {y}로 이동했습니다.')\n",
    "\n",
    "    def center(self):\n",
    "        # 원의 중심을 (x, y)로 반환\n",
    "        return (self.x, self.y)"
   ]
  },
  {
   "cell_type": "code",
   "execution_count": 46,
   "id": "e5c6bc45-ae3a-4cce-b86d-b80f18e7ea72",
   "metadata": {},
   "outputs": [
    {
     "name": "stdout",
     "output_type": "stream",
     "text": [
      "5\n",
      "3\n",
      "28.26\n",
      "원의 중심이 -3, -3로 이동했습니다.\n",
      "(-3, -3)\n",
      "0\n",
      "10\n",
      "314.0\n",
      "원의 중심이 10, 10로 이동했습니다.\n",
      "(10, 10)\n"
     ]
    }
   ],
   "source": [
    "c1 = Circle(3, 5, 5)\n",
    "print(c1.x)\n",
    "print(c1.r)\n",
    "print(c1.area())\n",
    "c1.move(-3, -3)\n",
    "print(c1.center())\n",
    "\n",
    "c2 = Circle(10)\n",
    "print(c2.x)\n",
    "print(c2.r)\n",
    "print(c2.area())\n",
    "c2.move(10, 10)\n",
    "print(c2.center())"
   ]
  },
  {
   "cell_type": "markdown",
   "id": "08d43eec-1313-4b9d-9c0b-05d356e38809",
   "metadata": {},
   "source": [
    "## 클래스 변수\n",
    "- 클래스 선언 블록 최상단에 위치\n",
    "\n",
    "## 인스턴스 변수\n",
    "- 인스턴스 내부에서 생성한 변수 (self.variable = )\n",
    "```python\n",
    "class TestClass:\n",
    "    class_variable = '클래스변수'\n",
    "    def __init__(self, arg):\n",
    "        self.instance_variable = '인스턴스 변수'\n",
    "\n",
    "    def status(self):\n",
    "        return self.instance_variable\n",
    "```"
   ]
  },
  {
   "cell_type": "code",
   "execution_count": 47,
   "id": "aaaac5bf-8436-467f-a161-b1fd845ef4d9",
   "metadata": {},
   "outputs": [],
   "source": [
    "class Person:\n",
    "    name = '홍길동'\n",
    "    phone = '010-1234-1234'\n",
    "\n",
    "    def __init__(self, name):\n",
    "        self.name = name"
   ]
  },
  {
   "cell_type": "code",
   "execution_count": 48,
   "id": "5e67b83b-e79a-4435-b7f4-6bbfd97ec7e8",
   "metadata": {},
   "outputs": [
    {
     "name": "stdout",
     "output_type": "stream",
     "text": [
      "이서연\n",
      "홍길동\n",
      "010-1234-1234\n"
     ]
    }
   ],
   "source": [
    "p = Person('이서연')\n",
    "print(p.name) # 인스턴스 변수\n",
    "print(Person.name) # 클래스 변수\n",
    "\n",
    "print(p.phone)\n",
    "# print(p.location)"
   ]
  },
  {
   "cell_type": "markdown",
   "id": "1c259882-4aae-481d-a457-ee07186a9937",
   "metadata": {},
   "source": [
    "## 클래스메소드, 인스턴스메소드, 스태틱메소드\n",
    "\n",
    "```python\n",
    "class MyClass:\n",
    "    def instance_method(self):\n",
    "        pass\n",
    "        \n",
    "    @classmethod\n",
    "    def class_method(cls):\n",
    "        pass\n",
    "\n",
    "    @staticmethod\n",
    "    def static_method():\n",
    "        pass\n",
    "```"
   ]
  },
  {
   "cell_type": "markdown",
   "id": "6d3516ca-53ae-46cc-a57b-197f6ccbb96b",
   "metadata": {},
   "source": [
    "- instance method 만드는 이유는 인스턴스에서 수정하기 위해.\n",
    "- class method는 class에 접근해서 class 수정하려고.\n",
    "- static method는 그 둘다 필요 없을 때 사용.\n",
    "- 사실 어디서 어떻게 수정하든 상관 없지만 의미론적으로 이와 같이 정리하는 편이 편의상 좋기 때문에 사용하는 것."
   ]
  },
  {
   "cell_type": "code",
   "execution_count": 49,
   "id": "f5413713-f977-4e49-b222-25fada086da9",
   "metadata": {},
   "outputs": [],
   "source": [
    "class MyClass:\n",
    "    def instance_method(self):\n",
    "        return self\n",
    "\n",
    "    @classmethod\n",
    "    def class_method(cls):\n",
    "        return cls\n",
    "\n",
    "    @staticmethod\n",
    "    def static_method():\n",
    "        return 'hello'"
   ]
  },
  {
   "cell_type": "code",
   "execution_count": 50,
   "id": "130b8cbd-d4db-4b9f-9f12-e7d7b7b4552d",
   "metadata": {},
   "outputs": [
    {
     "name": "stdout",
     "output_type": "stream",
     "text": [
      "<__main__.MyClass object at 0x0000029306E136D0>\n",
      "<class '__main__.MyClass'>\n",
      "<class '__main__.MyClass'>\n",
      "hello\n"
     ]
    }
   ],
   "source": [
    "c1 = MyClass()\n",
    "\n",
    "print(c1.instance_method())\n",
    "print(MyClass.class_method())\n",
    "print(c1.class_method())\n",
    "print(c1.static_method())"
   ]
  },
  {
   "cell_type": "code",
   "execution_count": 53,
   "id": "84af5829-b3e8-4a14-b6dd-2444b5902989",
   "metadata": {},
   "outputs": [],
   "source": [
    "class Puppy:\n",
    "    num_of_puppy = 0\n",
    "\n",
    "    def __init__(self, name):\n",
    "        self.name = name\n",
    "        Puppy.num_of_puppy += 1\n",
    "\n",
    "    @classmethod\n",
    "    def get_status(cls):\n",
    "        return f'현재 강아지는 {cls.num_of_puppy}마리 입니다.'\n",
    "\n",
    "    @staticmethod\n",
    "    def bark(string = '멍멍'):\n",
    "        return string"
   ]
  },
  {
   "cell_type": "code",
   "execution_count": 54,
   "id": "80d0fcac-1e5f-4103-9441-5c47d90f5559",
   "metadata": {},
   "outputs": [
    {
     "name": "stdout",
     "output_type": "stream",
     "text": [
      "3\n",
      "3\n",
      "3\n",
      "현재 강아지는 3마리 입니다.\n",
      "멍멍\n",
      "그르릉\n"
     ]
    }
   ],
   "source": [
    "p1 = Puppy('또또')\n",
    "p2 = Puppy('몽이')\n",
    "p3 = Puppy('흰둥이')\n",
    "\n",
    "print(p1.num_of_puppy)\n",
    "print(p2.num_of_puppy)\n",
    "print(Puppy.num_of_puppy)\n",
    "\n",
    "print(Puppy.get_status())\n",
    "\n",
    "print(p1.bark())\n",
    "print(p2.bark('그르릉'))"
   ]
  },
  {
   "cell_type": "markdown",
   "id": "2791e622-00d6-4dd8-a454-7a36e672f076",
   "metadata": {},
   "source": [
    "## 정리\n",
    "\n",
    "```\n",
    "class\n",
    "    - attribute (variable, data)\n",
    "        - instance_variable\n",
    "        - class_variable\n",
    "    - method\n",
    "        - instance_method\n",
    "        - class_method\n",
    "        - static_method\n",
    "```"
   ]
  },
  {
   "cell_type": "markdown",
   "id": "89e36bf8-7f66-476d-b83e-7242d6cc9ae1",
   "metadata": {},
   "source": [
    "## 상속"
   ]
  },
  {
   "cell_type": "code",
   "execution_count": 55,
   "id": "d2ff54e6-b212-4c09-8c40-7d717ce8c479",
   "metadata": {},
   "outputs": [],
   "source": [
    "class Person:\n",
    "\n",
    "    def __init__(self, name):\n",
    "        self.name = name\n",
    "\n",
    "    def greeting(self):\n",
    "        print(f'안녕하세요 {self.name}입니다.')"
   ]
  },
  {
   "cell_type": "code",
   "execution_count": 56,
   "id": "49605fb3-6eb9-4135-8d08-e72584f9bd7c",
   "metadata": {},
   "outputs": [
    {
     "name": "stdout",
     "output_type": "stream",
     "text": [
      "안녕하세요 홍길동입니다.\n"
     ]
    }
   ],
   "source": [
    "p1 = Person('홍길동')\n",
    "p2 = Person ('이순신')\n",
    "\n",
    "p1.greeting()"
   ]
  },
  {
   "cell_type": "code",
   "execution_count": 57,
   "id": "cc4f09cf-e749-4747-9c21-696c04d4aff5",
   "metadata": {},
   "outputs": [],
   "source": [
    "class Student(Person):\n",
    "    pass\n",
    "    # def __init__(self, name):\n",
    "    #     self.name = name\n",
    "\n",
    "    # def greeting(self):\n",
    "    #     print(f'안녕하세요 {self.name}입니다.')"
   ]
  },
  {
   "cell_type": "code",
   "execution_count": 58,
   "id": "1cf64671-a231-4809-a485-7b2e3911d291",
   "metadata": {},
   "outputs": [
    {
     "name": "stdout",
     "output_type": "stream",
     "text": [
      "안녕하세요 lee입니다.\n"
     ]
    }
   ],
   "source": [
    "s1 = Student('lee')\n",
    "s2 = Student('park')\n",
    "\n",
    "s1.greeting()"
   ]
  },
  {
   "cell_type": "code",
   "execution_count": 59,
   "id": "ea793457-8da6-4b72-88fe-9ae03bf1cf04",
   "metadata": {},
   "outputs": [],
   "source": [
    "class Student(Person):\n",
    "    # def __init__(self, name):\n",
    "    #     self.name = name\n",
    "\n",
    "    # def greeting(self):\n",
    "    #     print(f'안녕하세요 {self.name}입니다.')\n",
    "    # 부모 보다는 내가 만든게 더 우선 순위이다.\n",
    "    def __init__(self, name, student_id):\n",
    "        self.name = name\n",
    "        self.student_id =student_id"
   ]
  },
  {
   "cell_type": "code",
   "execution_count": 60,
   "id": "cc4978a3-8011-48da-a14d-3208c73e9e8e",
   "metadata": {},
   "outputs": [
    {
     "name": "stdout",
     "output_type": "stream",
     "text": [
      "안녕하세요 lee입니다.\n",
      "12345\n"
     ]
    }
   ],
   "source": [
    "s1 = Student('lee', 12345)\n",
    "s2 = Student('park', 98765)\n",
    "\n",
    "s1.greeting()\n",
    "print(s1.student_id)"
   ]
  },
  {
   "cell_type": "code",
   "execution_count": 61,
   "id": "38df3c57-7fec-4cda-8708-3fadc78ee7e0",
   "metadata": {},
   "outputs": [],
   "source": [
    "class Soldier(Person):\n",
    "\n",
    "    def greeting(self):\n",
    "        return f'충성! {self.name}입니다.'"
   ]
  },
  {
   "cell_type": "code",
   "execution_count": 62,
   "id": "472db966-da92-4e0b-a392-a3d840d71f07",
   "metadata": {},
   "outputs": [
    {
     "data": {
      "text/plain": [
       "'충성! 국방이입니다.'"
      ]
     },
     "execution_count": 62,
     "metadata": {},
     "output_type": "execute_result"
    }
   ],
   "source": [
    "s1 =Soldier('국방이')\n",
    "s1.greeting()"
   ]
  },
  {
   "cell_type": "code",
   "execution_count": 63,
   "id": "3e5fa67e-6eeb-46a1-b628-931966e99672",
   "metadata": {},
   "outputs": [],
   "source": [
    "class Person:\n",
    "    def __init__(self, email, phone, location, name):\n",
    "        self.email = email\n",
    "        self.phone = phone\n",
    "        self.location = location\n",
    "        self.name = name\n",
    "\n",
    "class Student(Person):\n",
    "    def __init__(self, email, phone, location, name, student_id):\n",
    "        self.email = email\n",
    "        self.phone = phone\n",
    "        self.location = location\n",
    "        self.name = name\n",
    "        self.student_id = student_id\n",
    "\n",
    "class Soldier(Person):\n",
    "    def __init__(self, email, phone, location, name, soldier_id):\n",
    "        # super() => 부모 클래스를 반환 (Person)\n",
    "        super().__init__(email, phone, location, name)\n",
    "        self.soldier_id = soldier_id"
   ]
  },
  {
   "cell_type": "code",
   "execution_count": 64,
   "id": "03719012-f3b8-49c3-93e7-ca9f9a6c3fd6",
   "metadata": {},
   "outputs": [
    {
     "name": "stdout",
     "output_type": "stream",
     "text": [
      "lee\n",
      "12345\n"
     ]
    }
   ],
   "source": [
    "s1 = Soldier('email@email.com', '010-23232', 'seoul', 'lee', '12345')\n",
    "print(s1.name)\n",
    "print(s1.soldier_id)"
   ]
  },
  {
   "cell_type": "markdown",
   "id": "374c3f92-0427-418f-a043-d43390b4f990",
   "metadata": {},
   "source": [
    "- super는 상속을 받은 하위 항목에서만 사용이 가능하다.\n",
    "- super 이외의 것은 customizing\n",
    "- 위의 예시에서는 soldier_id만 수정하여 재사용함\n",
    "- 이미 부모 객체에서 사용한 init을 조금만 수정하는 것.\n",
    "- Super는 부모 객체를 나타냄.\n",
    "- -Person init을 실행하고 아래에 customize하는 것."
   ]
  },
  {
   "cell_type": "code",
   "execution_count": 65,
   "id": "ab3dec67-1b37-4456-a33b-e0e7767c12c3",
   "metadata": {},
   "outputs": [],
   "source": [
    "class Person:\n",
    "    def __init__(self, name):\n",
    "        self.name = name\n",
    "    \n",
    "    def breath(self):\n",
    "        print('후하')"
   ]
  },
  {
   "cell_type": "code",
   "execution_count": 66,
   "id": "53c324ac-7792-4e73-8029-ffb633e52527",
   "metadata": {},
   "outputs": [],
   "source": [
    "class Mom(Person):\n",
    "    gene = 'xx'\n",
    "\n",
    "    def swim(self):\n",
    "        print('어푸어푸')"
   ]
  },
  {
   "cell_type": "code",
   "execution_count": 67,
   "id": "1c6f92e0-bab6-4e4f-8351-51af9c921cb9",
   "metadata": {},
   "outputs": [],
   "source": [
    "class Dad(Person):\n",
    "    gene = 'xy'\n",
    "\n",
    "    def run(self):\n",
    "        print('다다다')"
   ]
  },
  {
   "cell_type": "code",
   "execution_count": 68,
   "id": "4c76173a-12ef-4ee3-a505-d651a930449d",
   "metadata": {},
   "outputs": [],
   "source": [
    "class Baby(Mom, Dad):\n",
    "    pass"
   ]
  },
  {
   "cell_type": "code",
   "execution_count": 69,
   "id": "fa0c2fbc-abe5-485e-a200-9eb4eca60302",
   "metadata": {},
   "outputs": [
    {
     "name": "stdout",
     "output_type": "stream",
     "text": [
      "후하\n",
      "어푸어푸\n",
      "다다다\n",
      "xx\n"
     ]
    }
   ],
   "source": [
    "b = Baby('금쪽이')\n",
    "b.breath()\n",
    "b.swim()\n",
    "b.run()\n",
    "print(b.gene)"
   ]
  },
  {
   "cell_type": "code",
   "execution_count": 70,
   "id": "62434926-2c0b-46b3-a4f4-785632769125",
   "metadata": {},
   "outputs": [],
   "source": [
    "class Baby(Dad, Mom):\n",
    "    pass"
   ]
  },
  {
   "cell_type": "code",
   "execution_count": null,
   "id": "62c7d3d4-596f-4f6a-8572-7907d159d70a",
   "metadata": {},
   "outputs": [],
   "source": [
    "b = Baby('금쪽이')\n",
    "b.breath()\n",
    "b.swim()\n",
    "b.run()\n",
    "# 다중상속을 한 경우 먼저 상속받은 데이터/메소드가 우선\n",
    "print(b.gene)"
   ]
  },
  {
   "cell_type": "code",
   "execution_count": null,
   "id": "9a24b00e-896c-4170-8557-ecf0331bd91e",
   "metadata": {},
   "outputs": [],
   "source": []
  }
 ],
 "metadata": {
  "kernelspec": {
   "display_name": "Python 3 (ipykernel)",
   "language": "python",
   "name": "python3"
  },
  "language_info": {
   "codemirror_mode": {
    "name": "ipython",
    "version": 3
   },
   "file_extension": ".py",
   "mimetype": "text/x-python",
   "name": "python",
   "nbconvert_exporter": "python",
   "pygments_lexer": "ipython3",
   "version": "3.11.4"
  }
 },
 "nbformat": 4,
 "nbformat_minor": 5
}
