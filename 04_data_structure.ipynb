{
 "cells": [
  {
   "cell_type": "code",
   "execution_count": 1,
   "id": "200feb7d-4780-4214-9666-4aa49cbade58",
   "metadata": {},
   "outputs": [
    {
     "name": "stdout",
     "output_type": "stream",
     "text": [
      "hello\n"
     ]
    }
   ],
   "source": [
    "print('hello')"
   ]
  },
  {
   "cell_type": "code",
   "execution_count": 2,
   "id": "877ce6b3-09ab-4b4b-9a7a-da1706ba44de",
   "metadata": {},
   "outputs": [
    {
     "data": {
      "text/plain": [
       "'123'"
      ]
     },
     "execution_count": 2,
     "metadata": {},
     "output_type": "execute_result"
    }
   ],
   "source": [
    "''.join(['1', '2', '3'])"
   ]
  },
  {
   "cell_type": "code",
   "execution_count": 4,
   "id": "4c9a5df6-daac-4f25-8ed5-fe09e9cb4c9b",
   "metadata": {},
   "outputs": [
    {
     "data": {
      "text/plain": [
       "['__add__',\n",
       " '__class__',\n",
       " '__contains__',\n",
       " '__delattr__',\n",
       " '__dir__',\n",
       " '__doc__',\n",
       " '__eq__',\n",
       " '__format__',\n",
       " '__ge__',\n",
       " '__getattribute__',\n",
       " '__getitem__',\n",
       " '__getnewargs__',\n",
       " '__getstate__',\n",
       " '__gt__',\n",
       " '__hash__',\n",
       " '__init__',\n",
       " '__init_subclass__',\n",
       " '__iter__',\n",
       " '__le__',\n",
       " '__len__',\n",
       " '__lt__',\n",
       " '__mod__',\n",
       " '__mul__',\n",
       " '__ne__',\n",
       " '__new__',\n",
       " '__reduce__',\n",
       " '__reduce_ex__',\n",
       " '__repr__',\n",
       " '__rmod__',\n",
       " '__rmul__',\n",
       " '__setattr__',\n",
       " '__sizeof__',\n",
       " '__str__',\n",
       " '__subclasshook__',\n",
       " 'capitalize',\n",
       " 'casefold',\n",
       " 'center',\n",
       " 'count',\n",
       " 'encode',\n",
       " 'endswith',\n",
       " 'expandtabs',\n",
       " 'find',\n",
       " 'format',\n",
       " 'format_map',\n",
       " 'index',\n",
       " 'isalnum',\n",
       " 'isalpha',\n",
       " 'isascii',\n",
       " 'isdecimal',\n",
       " 'isdigit',\n",
       " 'isidentifier',\n",
       " 'islower',\n",
       " 'isnumeric',\n",
       " 'isprintable',\n",
       " 'isspace',\n",
       " 'istitle',\n",
       " 'isupper',\n",
       " 'join',\n",
       " 'ljust',\n",
       " 'lower',\n",
       " 'lstrip',\n",
       " 'maketrans',\n",
       " 'partition',\n",
       " 'removeprefix',\n",
       " 'removesuffix',\n",
       " 'replace',\n",
       " 'rfind',\n",
       " 'rindex',\n",
       " 'rjust',\n",
       " 'rpartition',\n",
       " 'rsplit',\n",
       " 'rstrip',\n",
       " 'split',\n",
       " 'splitlines',\n",
       " 'startswith',\n",
       " 'strip',\n",
       " 'swapcase',\n",
       " 'title',\n",
       " 'translate',\n",
       " 'upper',\n",
       " 'zfill']"
      ]
     },
     "execution_count": 4,
     "metadata": {},
     "output_type": "execute_result"
    }
   ],
   "source": [
    "dir('hello')\n",
    "# string이 가진 기능들을 보여줌"
   ]
  },
  {
   "cell_type": "markdown",
   "id": "47bf8ab8-59f7-42d5-a666-dcc302a566d2",
   "metadata": {},
   "source": [
    "# 1. 문자열 메소드"
   ]
  },
  {
   "cell_type": "code",
   "execution_count": 14,
   "id": "778e1472-0a00-4849-85fe-56f0745e35ef",
   "metadata": {},
   "outputs": [],
   "source": [
    "a = 'hello my name is seoyon'"
   ]
  },
  {
   "cell_type": "code",
   "execution_count": 7,
   "id": "3e2902c2-dfc4-4b0f-9023-08625d662909",
   "metadata": {},
   "outputs": [
    {
     "ename": "TypeError",
     "evalue": "'str' object does not support item assignment",
     "output_type": "error",
     "traceback": [
      "\u001b[1;31m---------------------------------------------------------------------------\u001b[0m",
      "\u001b[1;31mTypeError\u001b[0m                                 Traceback (most recent call last)",
      "Cell \u001b[1;32mIn[7], line 1\u001b[0m\n\u001b[1;32m----> 1\u001b[0m \u001b[43ma\u001b[49m\u001b[43m[\u001b[49m\u001b[38;5;241;43m0\u001b[39;49m\u001b[43m]\u001b[49m \u001b[38;5;241m=\u001b[39m \u001b[38;5;124m'\u001b[39m\u001b[38;5;124mH\u001b[39m\u001b[38;5;124m'\u001b[39m\n\u001b[0;32m      2\u001b[0m \u001b[38;5;66;03m# 수정 불가\u001b[39;00m\n",
      "\u001b[1;31mTypeError\u001b[0m: 'str' object does not support item assignment"
     ]
    }
   ],
   "source": [
    "a[0] = 'H'\n",
    "# 수정 불가"
   ]
  },
  {
   "cell_type": "code",
   "execution_count": 15,
   "id": "aa76d4e2-19d4-44b5-96c7-b67f19ac0798",
   "metadata": {},
   "outputs": [
    {
     "data": {
      "text/plain": [
       "'Hello my name is seoyon'"
      ]
     },
     "execution_count": 15,
     "metadata": {},
     "output_type": "execute_result"
    }
   ],
   "source": [
    "a.capitalize()"
   ]
  },
  {
   "cell_type": "code",
   "execution_count": 16,
   "id": "e504b077-5c3e-40e3-89da-450e94e207ba",
   "metadata": {},
   "outputs": [
    {
     "name": "stdout",
     "output_type": "stream",
     "text": [
      "hello my name is seoyon\n"
     ]
    }
   ],
   "source": [
    "print(a)\n",
    "# a라는 원본은 그대로. capitalize를 통해 새로운 걸로 반환됨. immutable하다."
   ]
  },
  {
   "cell_type": "code",
   "execution_count": 18,
   "id": "89d97f16-de20-4608-8600-5ec6fe20b566",
   "metadata": {},
   "outputs": [],
   "source": [
    "a = a.capitalize()"
   ]
  },
  {
   "cell_type": "code",
   "execution_count": 19,
   "id": "b970d162-e96b-4f53-b1fe-786cf25e9f4a",
   "metadata": {},
   "outputs": [
    {
     "name": "stdout",
     "output_type": "stream",
     "text": [
      "Hello my name is seoyon\n"
     ]
    }
   ],
   "source": [
    "print(a)"
   ]
  },
  {
   "cell_type": "code",
   "execution_count": 20,
   "id": "4e4076ea-8387-44fa-8c13-0fff2e24c207",
   "metadata": {},
   "outputs": [
    {
     "data": {
      "text/plain": [
       "'Hello My Name Is Seoyon'"
      ]
     },
     "execution_count": 20,
     "metadata": {},
     "output_type": "execute_result"
    }
   ],
   "source": [
    "a.title()"
   ]
  },
  {
   "cell_type": "code",
   "execution_count": 21,
   "id": "4a488c7b-6f91-40f6-8aca-f02269a10439",
   "metadata": {},
   "outputs": [
    {
     "data": {
      "text/plain": [
       "'HELLO MY NAME IS SEOYON'"
      ]
     },
     "execution_count": 21,
     "metadata": {},
     "output_type": "execute_result"
    }
   ],
   "source": [
    "a.upper()"
   ]
  },
  {
   "cell_type": "code",
   "execution_count": 22,
   "id": "d3d29801-1020-43a6-8923-11272b40dfcb",
   "metadata": {},
   "outputs": [
    {
     "data": {
      "text/plain": [
       "'hello my name is seoyon'"
      ]
     },
     "execution_count": 22,
     "metadata": {},
     "output_type": "execute_result"
    }
   ],
   "source": [
    "a.lower()"
   ]
  },
  {
   "cell_type": "code",
   "execution_count": 24,
   "id": "38a01734-6df8-46c4-9bb8-f84c12266b71",
   "metadata": {},
   "outputs": [
    {
     "name": "stdout",
     "output_type": "stream",
     "text": [
      "Hello my name is seoyon\n"
     ]
    }
   ],
   "source": [
    "print(a)"
   ]
  },
  {
   "cell_type": "code",
   "execution_count": 25,
   "id": "4e2ca218-60a5-41ce-aa94-89fe19e22204",
   "metadata": {},
   "outputs": [
    {
     "data": {
      "text/plain": [
       "'hi,my,name'"
      ]
     },
     "execution_count": 25,
     "metadata": {},
     "output_type": "execute_result"
    }
   ],
   "source": [
    "# ''.join(iterable)\n",
    "my_list = ['hi', 'my', 'name']\n",
    "','.join(my_list)"
   ]
  },
  {
   "cell_type": "code",
   "execution_count": 26,
   "id": "7488a52a-eabe-44ef-85f8-737c5fe3d673",
   "metadata": {},
   "outputs": [
    {
     "data": {
      "text/plain": [
       "'w!!!!!!!!!!!w'"
      ]
     },
     "execution_count": 26,
     "metadata": {},
     "output_type": "execute_result"
    }
   ],
   "source": [
    "# .replace(old, new[, count])\n",
    "'wooooooooooow'.replace('o', '!')"
   ]
  },
  {
   "cell_type": "code",
   "execution_count": 27,
   "id": "7672261d-396f-4c3a-8ff3-1bbbc139816b",
   "metadata": {},
   "outputs": [
    {
     "data": {
      "text/plain": [
       "'w!!!oooooooow'"
      ]
     },
     "execution_count": 27,
     "metadata": {},
     "output_type": "execute_result"
    }
   ],
   "source": [
    "'wooooooooooow'.replace('o', '!', 3)"
   ]
  },
  {
   "cell_type": "code",
   "execution_count": 30,
   "id": "c60beb6d-f57b-4e2d-b7be-fd9470985cb8",
   "metadata": {},
   "outputs": [
    {
     "name": "stdout",
     "output_type": "stream",
     "text": [
      "          hello\n",
      "\n",
      "hello\n"
     ]
    }
   ],
   "source": [
    "# .strip(): 띄어쓰기 및 비어있는 공백 지울 때 사용\n",
    "my_string = '          hello\\n'\n",
    "print(my_string)\n",
    "print(my_string.strip())"
   ]
  },
  {
   "cell_type": "code",
   "execution_count": 33,
   "id": "d785318d-7f16-4a4e-a866-bf06b734dff0",
   "metadata": {},
   "outputs": [
    {
     "name": "stdout",
     "output_type": "stream",
     "text": [
      "          hello\n",
      "\n",
      "hello\n",
      "ello\n",
      "ellohihihihihi\n",
      "hihihihihihihihello\n"
     ]
    }
   ],
   "source": [
    "# .strip([chars])\n",
    "my_string = '          hello\\n'\n",
    "print(my_string)\n",
    "print(my_string.strip())\n",
    "\n",
    "my_string2 = 'hihihihihihihihellohihihihihi'\n",
    "print(my_string2.strip('hi'))\n",
    "print(my_string2.lstrip('hi'))\n",
    "print(my_string2.rstrip('hi'))"
   ]
  },
  {
   "cell_type": "code",
   "execution_count": 39,
   "id": "e5f2a7da-ff00-49e9-9ae6-1cd880e15a8a",
   "metadata": {},
   "outputs": [
    {
     "name": "stdout",
     "output_type": "stream",
     "text": [
      "1\n",
      "-1\n",
      "1\n",
      "2\n"
     ]
    }
   ],
   "source": [
    "# .find(x)\n",
    "a = 'apple'\n",
    "print(a.find('p'))\n",
    "print(a.find('z'))\n",
    "# 문자가 없으면 -1이 나옴\n",
    "\n",
    "for i in range(len(a)):\n",
    "    if 'p' == a[i]:\n",
    "        print(i)"
   ]
  },
  {
   "cell_type": "code",
   "execution_count": 37,
   "id": "a8f1a686-d4f4-4ff3-b32a-7e8cae9f7b3f",
   "metadata": {},
   "outputs": [
    {
     "name": "stdout",
     "output_type": "stream",
     "text": [
      "1\n"
     ]
    },
    {
     "ename": "ValueError",
     "evalue": "substring not found",
     "output_type": "error",
     "traceback": [
      "\u001b[1;31m---------------------------------------------------------------------------\u001b[0m",
      "\u001b[1;31mValueError\u001b[0m                                Traceback (most recent call last)",
      "Cell \u001b[1;32mIn[37], line 4\u001b[0m\n\u001b[0;32m      2\u001b[0m a \u001b[38;5;241m=\u001b[39m \u001b[38;5;124m'\u001b[39m\u001b[38;5;124mapple\u001b[39m\u001b[38;5;124m'\u001b[39m\n\u001b[0;32m      3\u001b[0m \u001b[38;5;28mprint\u001b[39m(a\u001b[38;5;241m.\u001b[39mindex(\u001b[38;5;124m'\u001b[39m\u001b[38;5;124mp\u001b[39m\u001b[38;5;124m'\u001b[39m))\n\u001b[1;32m----> 4\u001b[0m \u001b[38;5;28mprint\u001b[39m(\u001b[43ma\u001b[49m\u001b[38;5;241;43m.\u001b[39;49m\u001b[43mindex\u001b[49m\u001b[43m(\u001b[49m\u001b[38;5;124;43m'\u001b[39;49m\u001b[38;5;124;43mz\u001b[39;49m\u001b[38;5;124;43m'\u001b[39;49m\u001b[43m)\u001b[49m)\n",
      "\u001b[1;31mValueError\u001b[0m: substring not found"
     ]
    }
   ],
   "source": [
    "# .index(x)\n",
    "a = 'apple'\n",
    "print(a.index('p'))\n",
    "print(a.index('z'))"
   ]
  },
  {
   "cell_type": "code",
   "execution_count": 44,
   "id": "503cd1e1-cb52-4203-8752-dc6e51927b89",
   "metadata": {},
   "outputs": [
    {
     "name": "stdout",
     "output_type": "stream",
     "text": [
      "['my', 'name', 'is', 'lee']\n",
      "['my_name_', 's_lee']\n"
     ]
    }
   ],
   "source": [
    "# .split(x)\n",
    "a = 'my_name_is_lee'\n",
    "print(a.split('_'))\n",
    "print(a.split('i'))"
   ]
  },
  {
   "cell_type": "code",
   "execution_count": 42,
   "id": "4156a267-0828-4dec-89cc-f8267212d0fc",
   "metadata": {},
   "outputs": [
    {
     "data": {
      "text/plain": [
       "5"
      ]
     },
     "execution_count": 42,
     "metadata": {},
     "output_type": "execute_result"
    }
   ],
   "source": [
    "# .count()\n",
    "'wooooow'.count('o')"
   ]
  },
  {
   "cell_type": "markdown",
   "id": "771d8a3f-395b-4ebc-b59b-48d624f83f04",
   "metadata": {},
   "source": [
    "# 2. 리스트 메소드"
   ]
  },
  {
   "cell_type": "code",
   "execution_count": 52,
   "id": "2a3f8b1b-c180-4d38-8f40-2481eb594813",
   "metadata": {},
   "outputs": [],
   "source": [
    "numbers = [1, 2, 2, 5, 2, 1, 6, 2, 4, 4]"
   ]
  },
  {
   "cell_type": "code",
   "execution_count": 53,
   "id": "b28718c5-774f-4ad0-8c6f-18c0469094c5",
   "metadata": {},
   "outputs": [
    {
     "name": "stdout",
     "output_type": "stream",
     "text": [
      "[1, 2, 2, 5, 2, 1, 6, 2, 4, 4, 10]\n"
     ]
    }
   ],
   "source": [
    "# .append(x)\n",
    "numbers.append(10)\n",
    "# 원본 자체를 수정.\n",
    "print(numbers)"
   ]
  },
  {
   "cell_type": "code",
   "execution_count": 54,
   "id": "45485c56-7b47-45ec-8fa4-491cb07d4c2f",
   "metadata": {},
   "outputs": [
    {
     "name": "stdout",
     "output_type": "stream",
     "text": [
      "[1, 2, 2, 5, 2, 1, 6, 2, 4, 4, 10, 99, 100]\n",
      "[1, 2, 2, 5, 2, 1, 6, 2, 4, 4, 10, 99, 100, 99, 100]\n"
     ]
    }
   ],
   "source": [
    "# .extend(iterable)\n",
    "a = [99, 100]\n",
    "numbers.extend(a)\n",
    "print(numbers)\n",
    "print(numbers + a)"
   ]
  },
  {
   "cell_type": "code",
   "execution_count": 55,
   "id": "d87b9838-21c2-4575-a5dd-2f651cf19996",
   "metadata": {},
   "outputs": [
    {
     "name": "stdout",
     "output_type": "stream",
     "text": [
      "[1, 2, 2, 3.5, 5, 2, 1, 6, 2, 4, 4, 10, 99, 100]\n"
     ]
    }
   ],
   "source": [
    "# insert(idx, x) 맨 앞 혹은 중간에 넣을 수 있다.\n",
    "numbers.insert(3, 3.5)\n",
    "print(numbers)"
   ]
  },
  {
   "cell_type": "code",
   "execution_count": 56,
   "id": "332f25f2-4561-4e83-bb8a-73288ad5135a",
   "metadata": {},
   "outputs": [
    {
     "name": "stdout",
     "output_type": "stream",
     "text": [
      "[1, 2, 2, 5, 2, 1, 6, 2, 4, 4, 10, 99, 100]\n"
     ]
    }
   ],
   "source": [
    "# .remove(x)\n",
    "numbers.remove(3.5)\n",
    "print(numbers)"
   ]
  },
  {
   "cell_type": "code",
   "execution_count": 59,
   "id": "3f9f1ca6-6408-4688-bf07-18445bf8af99",
   "metadata": {},
   "outputs": [
    {
     "name": "stdout",
     "output_type": "stream",
     "text": [
      "[2, 2, 5, 2, 1, 6, 2, 4, 4, 10]\n"
     ]
    }
   ],
   "source": [
    "# .pop([idx]) 인자를 빼냄 (디폴트는 맨 뒤)\n",
    "numbers.pop()\n",
    "print(numbers)"
   ]
  },
  {
   "cell_type": "code",
   "execution_count": 60,
   "id": "97231595-5536-4e3a-bc1f-7ce7c3eec4d8",
   "metadata": {},
   "outputs": [
    {
     "name": "stdout",
     "output_type": "stream",
     "text": [
      "[2, 5, 2, 1, 6, 2, 4, 4, 10]\n"
     ]
    }
   ],
   "source": [
    "numbers.pop(0)\n",
    "print(numbers)"
   ]
  },
  {
   "cell_type": "code",
   "execution_count": 62,
   "id": "a539a503-af9b-46f2-bd71-26288605043a",
   "metadata": {},
   "outputs": [
    {
     "name": "stdout",
     "output_type": "stream",
     "text": [
      "[1, 2, 2, 2, 4, 4, 5, 6, 10]\n",
      "[10, 6, 5, 4, 4, 2, 2, 2, 1]\n"
     ]
    }
   ],
   "source": [
    "# .sort() 정렬하는 메소드\n",
    "numbers.sort()\n",
    "print(numbers)\n",
    "numbers.sort(reverse = True)\n",
    "print(numbers)"
   ]
  },
  {
   "cell_type": "code",
   "execution_count": 65,
   "id": "61139834-e218-4dc0-bb8b-e17cf64f3e93",
   "metadata": {},
   "outputs": [
    {
     "name": "stdout",
     "output_type": "stream",
     "text": [
      "[1, 2, 2, 2, 4, 4, 5, 6, 10]\n",
      "[10, 6, 5, 4, 4, 2, 2, 2, 1]\n",
      "[1, 2, 2, 2, 4, 4, 5, 6, 10]\n"
     ]
    }
   ],
   "source": [
    "# .reverse()\n",
    "print(numbers)\n",
    "numbers.reverse()\n",
    "print(numbers)\n",
    "numbers = numbers[ : :-1]\n",
    "# 시작점 비어있으면 자동으로 0 집어넣고 맨 마지막도 비어있으면 -1\n",
    "# 뒤로 한 칸씩 간다.\n",
    "print(numbers)"
   ]
  },
  {
   "cell_type": "markdown",
   "id": "62498e46-aaf0-400a-a924-4d0f6f9d2bbf",
   "metadata": {},
   "source": [
    "## 2.1 list copy"
   ]
  },
  {
   "cell_type": "code",
   "execution_count": 66,
   "id": "c59022fe-64d1-416d-9eb5-35d029c1e5e8",
   "metadata": {},
   "outputs": [],
   "source": [
    "origin_list = [1, 2, 3]\n",
    "copy_list = origin_list"
   ]
  },
  {
   "cell_type": "code",
   "execution_count": 67,
   "id": "edd68f6b-d94b-4ab9-8626-b0452646f3d3",
   "metadata": {},
   "outputs": [
    {
     "name": "stdout",
     "output_type": "stream",
     "text": [
      "[1, 2, 3]\n",
      "[1, 2, 3]\n"
     ]
    }
   ],
   "source": [
    "print(origin_list)\n",
    "print(copy_list)"
   ]
  },
  {
   "cell_type": "code",
   "execution_count": 68,
   "id": "e9963941-145e-49c7-a2cb-969183fd4173",
   "metadata": {},
   "outputs": [],
   "source": [
    "copy_list[0] = 100"
   ]
  },
  {
   "cell_type": "code",
   "execution_count": 69,
   "id": "a8337987-b7c5-4707-8259-b2eb6ff08a30",
   "metadata": {},
   "outputs": [
    {
     "name": "stdout",
     "output_type": "stream",
     "text": [
      "[100, 2, 3]\n",
      "[100, 2, 3]\n"
     ]
    }
   ],
   "source": [
    "print(origin_list)\n",
    "print(copy_list)"
   ]
  },
  {
   "cell_type": "code",
   "execution_count": 70,
   "id": "75933e06-c9ac-47b9-b862-9e23edfa217b",
   "metadata": {},
   "outputs": [],
   "source": [
    "# 컴퓨터 메모리 안에 저장된 것을 list가 주소 값만 저장. 데이터 자체를 직접 할당하는게 아니라 주소를 가지고 있음."
   ]
  },
  {
   "cell_type": "code",
   "execution_count": 72,
   "id": "9e83bdb6-96b1-4cfa-a673-e2779bb22740",
   "metadata": {},
   "outputs": [
    {
     "name": "stdout",
     "output_type": "stream",
     "text": [
      "[1, 2, 3]\n",
      "[100, 2, 3]\n"
     ]
    }
   ],
   "source": [
    "a = [1, 2, 3]\n",
    "# b는 새로운걸 만들고 싶어\n",
    "b = a[:]\n",
    "b = list(a)\n",
    "b[0] = 100\n",
    "\n",
    "print(a)\n",
    "print(b)"
   ]
  },
  {
   "cell_type": "code",
   "execution_count": 73,
   "id": "7ab94202-9e3d-44dd-a0f7-ff9179c7ecff",
   "metadata": {},
   "outputs": [
    {
     "name": "stdout",
     "output_type": "stream",
     "text": [
      "[1, 2, [100, 4]]\n",
      "[1, 2, [100, 4]]\n"
     ]
    }
   ],
   "source": [
    "a = [1, 2, [3, 4]]\n",
    "b = a[:]\n",
    "\n",
    "b[2][0] = 100\n",
    "\n",
    "print(a)\n",
    "print(b)"
   ]
  },
  {
   "cell_type": "code",
   "execution_count": 74,
   "id": "626a5deb-6d03-43db-b843-b9c4fbc16f1f",
   "metadata": {},
   "outputs": [
    {
     "name": "stdout",
     "output_type": "stream",
     "text": [
      "[1, 2, [3, 4]]\n",
      "[1, 2, [100, 4]]\n"
     ]
    }
   ],
   "source": [
    "import copy\n",
    "a = [1, 2, [3, 4]]\n",
    "b = copy.deepcopy(a)\n",
    "\n",
    "b[2][0] = 100\n",
    "\n",
    "print(a)\n",
    "print(b)"
   ]
  },
  {
   "cell_type": "markdown",
   "id": "ad63f1d8-903e-4865-95fe-4c5be02e0f4b",
   "metadata": {},
   "source": [
    "## 2.2 list comprehension"
   ]
  },
  {
   "cell_type": "code",
   "execution_count": 75,
   "id": "ed79bdc7-1652-4a4c-89f7-41a68580a1d2",
   "metadata": {},
   "outputs": [
    {
     "name": "stdout",
     "output_type": "stream",
     "text": [
      "[1, 2, 3, 4, 5, 6, 7, 8, 9, 10]\n"
     ]
    }
   ],
   "source": [
    "numbers = list(range(1, 11))\n",
    "print(numbers)"
   ]
  },
  {
   "cell_type": "code",
   "execution_count": 76,
   "id": "62f56431-165a-4b07-84cb-0997097ad3f6",
   "metadata": {},
   "outputs": [
    {
     "name": "stdout",
     "output_type": "stream",
     "text": [
      "[1, 8, 27, 64, 125, 216, 343, 512, 729, 1000]\n"
     ]
    }
   ],
   "source": [
    "# [1, 8, 27, ...1000]\n",
    "result = []\n",
    "for number in numbers:\n",
    "    result.append(number ** 3)\n",
    "\n",
    "print(result)"
   ]
  },
  {
   "cell_type": "code",
   "execution_count": 79,
   "id": "5c4cf90d-53d8-4a5e-9107-41e215866f59",
   "metadata": {},
   "outputs": [
    {
     "name": "stdout",
     "output_type": "stream",
     "text": [
      "[1, 8, 27, 64, 125, 216, 343, 512, 729, 1000]\n"
     ]
    }
   ],
   "source": [
    "result2 = [number ** 3 for number in numbers]\n",
    "print(result2)\n",
    "# list 안에 for문 돌려서 반복 작업 돌려 but 현재는 지양할 것."
   ]
  },
  {
   "cell_type": "code",
   "execution_count": 80,
   "id": "4e35e2d6-f57f-4ab0-b021-1744d14833f7",
   "metadata": {},
   "outputs": [
    {
     "name": "stdout",
     "output_type": "stream",
     "text": [
      "[2, 4, 6, 8, 10]\n"
     ]
    }
   ],
   "source": [
    "# 짝수만 고르기\n",
    "even_list = []\n",
    "for i in numbers:\n",
    "    if i % 2 == 0:\n",
    "        even_list.append(i)\n",
    "\n",
    "print(even_list)"
   ]
  },
  {
   "cell_type": "code",
   "execution_count": 81,
   "id": "5b8ba4da-b6a4-4e6c-893f-268cdffe2c4a",
   "metadata": {},
   "outputs": [
    {
     "name": "stdout",
     "output_type": "stream",
     "text": [
      "[2, 4, 6, 8, 10]\n"
     ]
    }
   ],
   "source": [
    "# 짝수만 고르기(list comprehension)\n",
    "even_list2 = [i for i in numbers if i % 2 == 0]\n",
    "print(even_list2)"
   ]
  },
  {
   "cell_type": "code",
   "execution_count": 82,
   "id": "33cf3b81-8e2e-439f-a326-a3dd4ac930e6",
   "metadata": {},
   "outputs": [],
   "source": [
    "words = 'my name is seoyon'\n",
    "vowels = 'aeiou'\n",
    "\n",
    "# => my nm s syn 모음 삭제"
   ]
  },
  {
   "cell_type": "code",
   "execution_count": 91,
   "id": "0d2ecced-5fb7-4b79-ac1d-38e702b0723a",
   "metadata": {},
   "outputs": [
    {
     "name": "stdout",
     "output_type": "stream",
     "text": [
      "['m', 'y', ' ', 'n', 'm', ' ', 's', ' ', 's', 'y', 'n']\n",
      "my nm s syn\n"
     ]
    }
   ],
   "source": [
    "# 1. for문 버전\n",
    "result = []\n",
    "for char in words:\n",
    "    if char not in vowels:\n",
    "        result.append(char)\n",
    "        \n",
    "print(result)\n",
    "print(''.join(result))"
   ]
  },
  {
   "cell_type": "code",
   "execution_count": 92,
   "id": "ef0ba0d2-d24a-4574-8b7b-da86774f9e1a",
   "metadata": {},
   "outputs": [
    {
     "name": "stdout",
     "output_type": "stream",
     "text": [
      "['m', 'y', ' ', 'n', 'm', ' ', 's', ' ', 's', 'y', 'n']\n"
     ]
    }
   ],
   "source": [
    "# 2. list comprehension 버전\n",
    "result2 = [char for char in words if char not in vowels]\n",
    "print(result2)"
   ]
  },
  {
   "cell_type": "code",
   "execution_count": 94,
   "id": "238ebee3-eace-4ac3-9f82-fa03e4c0893f",
   "metadata": {},
   "outputs": [
    {
     "name": "stdout",
     "output_type": "stream",
     "text": [
      "['M', 'Y', ' ', 'N', 'M', ' ', 'S', ' ', 'S', 'Y', 'N']\n",
      "MY NM S SYN\n"
     ]
    }
   ],
   "source": [
    "result2 = [char.upper() for char in words if char not in vowels]\n",
    "print(result2)\n",
    "print(''.join(result2))"
   ]
  },
  {
   "cell_type": "markdown",
   "id": "735b8e75-8317-4964-ad58-8d77a323075a",
   "metadata": {},
   "source": [
    "# 3. 딕셔너리 메소드"
   ]
  },
  {
   "cell_type": "code",
   "execution_count": 106,
   "id": "27aabea8-7baf-408f-987a-f4fdb9c6ad25",
   "metadata": {},
   "outputs": [],
   "source": [
    "info = {\n",
    "    'name': 'seoyon',\n",
    "    'location': 'seoul',\n",
    "}"
   ]
  },
  {
   "cell_type": "code",
   "execution_count": 96,
   "id": "a9ce0d09-9ca4-4cf5-b7c8-a346ee78fe1f",
   "metadata": {},
   "outputs": [
    {
     "data": {
      "text/plain": [
       "'seoyon'"
      ]
     },
     "execution_count": 96,
     "metadata": {},
     "output_type": "execute_result"
    }
   ],
   "source": [
    "info['name']"
   ]
  },
  {
   "cell_type": "code",
   "execution_count": 107,
   "id": "e1c898f7-a753-42c0-87cf-dfb9e0601b08",
   "metadata": {},
   "outputs": [
    {
     "name": "stdout",
     "output_type": "stream",
     "text": [
      "lee\n"
     ]
    }
   ],
   "source": [
    "info['name'] = 'lee'\n",
    "print(info['name'])"
   ]
  },
  {
   "cell_type": "code",
   "execution_count": 108,
   "id": "eb8329d8-7910-4141-ba1c-989b559de421",
   "metadata": {},
   "outputs": [
    {
     "name": "stdout",
     "output_type": "stream",
     "text": [
      "{'name': 'lee'}\n"
     ]
    }
   ],
   "source": [
    "# .pop()\n",
    "info.pop('location')\n",
    "print(info)\n",
    "# key eror"
   ]
  },
  {
   "cell_type": "code",
   "execution_count": 109,
   "id": "40c6aba0-57a1-43f6-8b73-c46b6a960da8",
   "metadata": {},
   "outputs": [
    {
     "name": "stdout",
     "output_type": "stream",
     "text": [
      "None\n",
      "{'name': 'lee'}\n"
     ]
    }
   ],
   "source": [
    "# .pop(key[, default])\n",
    "print(info.pop('location', None))\n",
    "print(info)"
   ]
  },
  {
   "cell_type": "code",
   "execution_count": 110,
   "id": "08d4b554-53df-49c5-9ec5-83200fae1637",
   "metadata": {},
   "outputs": [
    {
     "name": "stdout",
     "output_type": "stream",
     "text": [
      "{'name': 'seoyon'}\n"
     ]
    }
   ],
   "source": [
    "# .update(key = value)\n",
    "info.update(name ='seoyon')\n",
    "print(info)"
   ]
  },
  {
   "cell_type": "code",
   "execution_count": 111,
   "id": "57289bd3-8c79-40c7-be01-b0cb550701bc",
   "metadata": {},
   "outputs": [
    {
     "name": "stdout",
     "output_type": "stream",
     "text": [
      "seoyon\n"
     ]
    }
   ],
   "source": [
    "# .get(key[, default])\n",
    "print(info.get('name'))"
   ]
  },
  {
   "cell_type": "code",
   "execution_count": 115,
   "id": "44c8fec0-07e1-4734-95e7-e1ca9a7c4334",
   "metadata": {},
   "outputs": [
    {
     "name": "stdout",
     "output_type": "stream",
     "text": [
      "123\n"
     ]
    }
   ],
   "source": [
    "print(info.get('school', '123'))\n",
    "# print(info['school'])"
   ]
  },
  {
   "cell_type": "markdown",
   "id": "5691b033-fad0-412d-8c06-2332fbb6367f",
   "metadata": {},
   "source": [
    "## 3.1 dict comprehension"
   ]
  },
  {
   "cell_type": "code",
   "execution_count": 116,
   "id": "fa4b33b8-1c6c-4d8b-96b5-d88caa49002e",
   "metadata": {},
   "outputs": [],
   "source": [
    "# {1: 1, 2: 8, 3: 27}"
   ]
  },
  {
   "cell_type": "code",
   "execution_count": 117,
   "id": "4f7d024a-71db-4d60-b123-1f869392c50e",
   "metadata": {},
   "outputs": [
    {
     "name": "stdout",
     "output_type": "stream",
     "text": [
      "{1: 1, 2: 8, 3: 27}\n"
     ]
    }
   ],
   "source": [
    "# for\n",
    "cube_dict = {}\n",
    "for i in range(1, 4):\n",
    "    cube_dict[i] = i ** 3\n",
    "print(cube_dict)"
   ]
  },
  {
   "cell_type": "code",
   "execution_count": 118,
   "id": "fb3d5ea6-2be4-454f-989a-64506aef6857",
   "metadata": {},
   "outputs": [
    {
     "name": "stdout",
     "output_type": "stream",
     "text": [
      "{1: 1, 2: 8, 3: 27}\n"
     ]
    }
   ],
   "source": [
    "# comp\n",
    "cube_dict2 = {i: i**3 for i in range(1, 4)}\n",
    "print(cube_dict2)"
   ]
  },
  {
   "cell_type": "code",
   "execution_count": 119,
   "id": "da531645-fee3-4303-961d-4f2160ac4663",
   "metadata": {},
   "outputs": [],
   "source": [
    "# \n",
    "dust = {\n",
    "    '서울': 100,\n",
    "    '대구': 30,\n",
    "    '대전' : 10,\n",
    "    '부산' : 80,\n",
    "    '광주' : 50,\n",
    "}\n",
    "#  =>\n",
    "# result = {\n",
    "#     '서울': 100,\n",
    "#     '부산': 80,\n",
    "#     '광주': 50,\n",
    "# }"
   ]
  },
  {
   "cell_type": "code",
   "execution_count": 122,
   "id": "9786e1c1-8a0d-4853-b349-6183da69a0fe",
   "metadata": {},
   "outputs": [
    {
     "name": "stdout",
     "output_type": "stream",
     "text": [
      "{'서울': 100, '부산': 80, '광주': 50}\n"
     ]
    }
   ],
   "source": [
    "# 1. for\n",
    "result = {}\n",
    "for k, v in dust.items():\n",
    "    if v >= 50:\n",
    "        result[k] = v\n",
    "print(result)"
   ]
  },
  {
   "cell_type": "code",
   "execution_count": 123,
   "id": "e9a1d837-5db3-44af-9bef-b4c4b50f79b1",
   "metadata": {},
   "outputs": [
    {
     "name": "stdout",
     "output_type": "stream",
     "text": [
      "{'서울': 100, '부산': 80, '광주': 50}\n"
     ]
    }
   ],
   "source": [
    "# 2. comp\n",
    "result2 = {k: v for k,v in dust.items() if v >= 50}\n",
    "print(result2)"
   ]
  },
  {
   "cell_type": "code",
   "execution_count": 124,
   "id": "0d2f9949-ee90-4382-a95a-a3d908dbc752",
   "metadata": {},
   "outputs": [
    {
     "name": "stdout",
     "output_type": "stream",
     "text": [
      "{'서울': '나쁨', '부산': '나쁨', '광주': '나쁨'}\n"
     ]
    }
   ],
   "source": [
    "result3 = {k: '나쁨' for k,v in dust.items() if v >= 50}\n",
    "print(result3)"
   ]
  },
  {
   "cell_type": "markdown",
   "id": "4e6a8b57-7e46-454a-ad9c-387aeee28e50",
   "metadata": {},
   "source": [
    "# 4. 세트 메소드\n",
    "순서가 아닌 집합으로써!\n",
    "하나일 때는 add 여러개는 update"
   ]
  },
  {
   "cell_type": "code",
   "execution_count": 128,
   "id": "6bf6fcb8-2717-4b87-95bf-f93c84188b52",
   "metadata": {},
   "outputs": [],
   "source": [
    "fruits = {'apple', 'banana', 'melon'}\n",
    "# 집합은 중복이 안된다. 순서 없음."
   ]
  },
  {
   "cell_type": "code",
   "execution_count": 129,
   "id": "d85ae77e-e8e3-49b5-aa4a-97ad88e5d898",
   "metadata": {},
   "outputs": [
    {
     "name": "stdout",
     "output_type": "stream",
     "text": [
      "{'apple', 'watermelon', 'melon', 'banana'}\n",
      "{'apple', 'watermelon', 'melon', 'banana'}\n"
     ]
    }
   ],
   "source": [
    "# .add(x)\n",
    "fruits.add('watermelon')\n",
    "print(fruits)\n",
    "fruits.add('watermelon')\n",
    "print(fruits)"
   ]
  },
  {
   "cell_type": "code",
   "execution_count": 131,
   "id": "acaac539-87d3-4271-8da9-c5280e98b61c",
   "metadata": {},
   "outputs": [
    {
     "name": "stdout",
     "output_type": "stream",
     "text": [
      "{'melon', 'g', 'r', 'banana', 'a', 'p', 'apple', 'watermelon', 'e'}\n"
     ]
    }
   ],
   "source": [
    "# .update() grape를 하나의 집함으로 보고 하나 하나 쪼개서 넣음.\n",
    "fruits.update('grape')\n",
    "print(fruits)"
   ]
  },
  {
   "cell_type": "code",
   "execution_count": 132,
   "id": "97c95c85-503c-467a-961c-27b85274c6aa",
   "metadata": {},
   "outputs": [
    {
     "name": "stdout",
     "output_type": "stream",
     "text": [
      "{'melon', 'g', 'r', 'banana', 'orange', 'a', 'p', 'apple', 'watermelon', 'e', 'pear'}\n"
     ]
    }
   ],
   "source": [
    "fruits.update({'orange', 'pear'})\n",
    "print(fruits)"
   ]
  },
  {
   "cell_type": "code",
   "execution_count": 133,
   "id": "0961917f-5999-443d-b41c-35adb4ba11e5",
   "metadata": {},
   "outputs": [
    {
     "name": "stdout",
     "output_type": "stream",
     "text": [
      "{'melon', 'g', 'r', 'banana', 'a', 'p', 'apple', 'watermelon', 'e', 'pear'}\n"
     ]
    }
   ],
   "source": [
    "# .remove()\n",
    "fruits.remove('orange')\n",
    "print(fruits)"
   ]
  },
  {
   "cell_type": "code",
   "execution_count": 135,
   "id": "8675a285-20a3-42df-b3bd-c238d3566263",
   "metadata": {},
   "outputs": [
    {
     "name": "stdout",
     "output_type": "stream",
     "text": [
      "{'r', 'banana', 'a', 'p', 'apple', 'watermelon', 'e', 'pear'}\n"
     ]
    }
   ],
   "source": [
    "# .pop() 들어 있는 기준으로 앞에서부터 빠지지만 빼는 것 자체는 랜덤.\n",
    "fruits.pop()\n",
    "print(fruits)"
   ]
  },
  {
   "cell_type": "markdown",
   "id": "411a67fb-fec0-4b49-9926-4065a28dd24d",
   "metadata": {},
   "source": [
    "# 5. map(), zip(), filter()"
   ]
  },
  {
   "cell_type": "markdown",
   "id": "68451d84-04cb-4669-b844-7611073449e2",
   "metadata": {},
   "source": [
    "## 5.1 map()\n",
    "```python\n",
    "map(function, iterable)\n",
    "```"
   ]
  },
  {
   "cell_type": "code",
   "execution_count": 137,
   "id": "9a5f5661-ead8-4b7e-a3b4-f489af7b547a",
   "metadata": {},
   "outputs": [
    {
     "name": "stdout",
     "output_type": "stream",
     "text": [
      "<map object at 0x000001EE0CA13DF0>\n",
      "['1', '2', '3']\n"
     ]
    }
   ],
   "source": [
    "a= [1, 2, 3]\n",
    "\n",
    "number_str = map(str, a)\n",
    "print(number_str)\n",
    "print(list(number_str))"
   ]
  },
  {
   "cell_type": "code",
   "execution_count": 138,
   "id": "e7301ced-a4cc-47a3-a04b-bab104bc990d",
   "metadata": {},
   "outputs": [],
   "source": [
    "def cube(x):\n",
    "    return x ** 3"
   ]
  },
  {
   "cell_type": "code",
   "execution_count": 140,
   "id": "729df3cc-47f7-4802-b66d-c8709dc6dd87",
   "metadata": {},
   "outputs": [
    {
     "name": "stdout",
     "output_type": "stream",
     "text": [
      "[1, 8, 27]\n"
     ]
    }
   ],
   "source": [
    "# for문을 활용하여 모든 item에 cube함수 실행\n",
    "result = []\n",
    "for i in a:\n",
    "    result.append(cube(i))\n",
    "print(result)"
   ]
  },
  {
   "cell_type": "code",
   "execution_count": 141,
   "id": "3794433f-5673-46a6-95f8-64acab06bec5",
   "metadata": {},
   "outputs": [
    {
     "name": "stdout",
     "output_type": "stream",
     "text": [
      "[1, 8, 27]\n"
     ]
    }
   ],
   "source": [
    "# map\n",
    "result2 =map(cube, a)\n",
    "print(list(result2))"
   ]
  },
  {
   "cell_type": "code",
   "execution_count": 143,
   "id": "600d227c-2991-426f-8744-6ca4c2243777",
   "metadata": {},
   "outputs": [
    {
     "name": "stdin",
     "output_type": "stream",
     "text": [
      " 1 2 3 4 5\n"
     ]
    },
    {
     "name": "stdout",
     "output_type": "stream",
     "text": [
      "[1, 2, 3, 4, 5]\n"
     ]
    }
   ],
   "source": [
    "numbers = list(map(int, input().split()))\n",
    "print(numbers)"
   ]
  },
  {
   "cell_type": "markdown",
   "id": "7afba07e-e798-46fb-800d-979f2bd0d735",
   "metadata": {},
   "source": [
    "## 5.2 zip\n",
    "두 개의 리스트를 하나로 합해줌"
   ]
  },
  {
   "cell_type": "code",
   "execution_count": 144,
   "id": "4461f9d7-5908-458d-b71d-bd937bb7ac6f",
   "metadata": {},
   "outputs": [],
   "source": [
    "a = [1, 2, 3]\n",
    "b = [100, 200, 300]"
   ]
  },
  {
   "cell_type": "code",
   "execution_count": 146,
   "id": "15efbb30-5e54-4bdc-af39-25513939cea2",
   "metadata": {},
   "outputs": [
    {
     "name": "stdout",
     "output_type": "stream",
     "text": [
      "<zip object at 0x000001EE0CECFC00>\n",
      "[(1, 100), (2, 200), (3, 300)]\n"
     ]
    }
   ],
   "source": [
    "result = zip(a, b)\n",
    "print(result)\n",
    "#위치를 알려줌\n",
    "print(list(result))"
   ]
  },
  {
   "cell_type": "markdown",
   "id": "a25d512b-bd8b-4623-af5d-b9e93cfd4dfa",
   "metadata": {},
   "source": [
    "## 5.3 filter\n",
    "```python\n",
    "filter(function, iterable)\n",
    "```\n",
    "filter에 들어가는 function은 T/F를 반환해야 합니다."
   ]
  },
  {
   "cell_type": "code",
   "execution_count": 147,
   "id": "8ba547da-cc69-4fef-95ad-fa5fa8b463b3",
   "metadata": {},
   "outputs": [],
   "source": [
    "def is_odd(x):\n",
    "    # if x % 2 == 1:\n",
    "    #     return True\n",
    "    # else:\n",
    "    #     return False\n",
    "    return bool(x % 2)\n",
    "# 1 -> True 0 -> False"
   ]
  },
  {
   "cell_type": "code",
   "execution_count": 148,
   "id": "15065b25-cbec-42d4-ae18-1ca4d7b7de43",
   "metadata": {},
   "outputs": [
    {
     "name": "stdout",
     "output_type": "stream",
     "text": [
      "<filter object at 0x000001EE0CA14AC0>\n",
      "[1, 3, 5]\n"
     ]
    }
   ],
   "source": [
    "numbers = [1, 2, 3, 4, 5]\n",
    "result = filter(is_odd, numbers)\n",
    "print(result)\n",
    "print(list(result))"
   ]
  }
 ],
 "metadata": {
  "kernelspec": {
   "display_name": "Python 3 (ipykernel)",
   "language": "python",
   "name": "python3"
  },
  "language_info": {
   "codemirror_mode": {
    "name": "ipython",
    "version": 3
   },
   "file_extension": ".py",
   "mimetype": "text/x-python",
   "name": "python",
   "nbconvert_exporter": "python",
   "pygments_lexer": "ipython3",
   "version": "3.11.4"
  }
 },
 "nbformat": 4,
 "nbformat_minor": 5
}
