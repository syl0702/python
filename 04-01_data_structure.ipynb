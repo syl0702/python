{
 "cells": [
  {
   "cell_type": "code",
   "execution_count": 1,
   "id": "73c85ffc-9df5-4651-a235-7b9eb1d45f72",
   "metadata": {},
   "outputs": [
    {
     "name": "stdout",
     "output_type": "stream",
     "text": [
      "hello\n"
     ]
    }
   ],
   "source": [
    "print('hello')"
   ]
  },
  {
   "cell_type": "code",
   "execution_count": 2,
   "id": "bb8217d0-9cc7-4cbe-976f-d84a4a509309",
   "metadata": {},
   "outputs": [
    {
     "data": {
      "text/plain": [
       "'123'"
      ]
     },
     "execution_count": 2,
     "metadata": {},
     "output_type": "execute_result"
    }
   ],
   "source": [
    "''.join(['1', '2', '3'])"
   ]
  },
  {
   "cell_type": "markdown",
   "id": "2f3b95c2-cc29-4af9-8f14-9485d9977714",
   "metadata": {},
   "source": [
    "# 1. 문자열 메소드"
   ]
  },
  {
   "cell_type": "code",
   "execution_count": 12,
   "id": "37817a1f-df52-4955-a52b-61489aff5de3",
   "metadata": {},
   "outputs": [],
   "source": [
    "a = 'hello my name is seoyon'"
   ]
  },
  {
   "cell_type": "code",
   "execution_count": 4,
   "id": "fe743648-6c4c-4830-a03d-caa7765ef580",
   "metadata": {},
   "outputs": [
    {
     "ename": "TypeError",
     "evalue": "'str' object does not support item assignment",
     "output_type": "error",
     "traceback": [
      "\u001b[1;31m---------------------------------------------------------------------------\u001b[0m",
      "\u001b[1;31mTypeError\u001b[0m                                 Traceback (most recent call last)",
      "Cell \u001b[1;32mIn[4], line 1\u001b[0m\n\u001b[1;32m----> 1\u001b[0m \u001b[43ma\u001b[49m\u001b[43m[\u001b[49m\u001b[38;5;241;43m0\u001b[39;49m\u001b[43m]\u001b[49m \u001b[38;5;241m=\u001b[39m \u001b[38;5;124m'\u001b[39m\u001b[38;5;124mH\u001b[39m\u001b[38;5;124m'\u001b[39m\n\u001b[0;32m      2\u001b[0m \u001b[38;5;66;03m# 수정 불가\u001b[39;00m\n",
      "\u001b[1;31mTypeError\u001b[0m: 'str' object does not support item assignment"
     ]
    }
   ],
   "source": [
    "a[0] = 'H'\n",
    "# 수정 불가"
   ]
  },
  {
   "cell_type": "code",
   "execution_count": 13,
   "id": "97942b39-f7a4-4969-9ef2-dcabfbea1c5c",
   "metadata": {},
   "outputs": [
    {
     "data": {
      "text/plain": [
       "'Hello my name is seoyon'"
      ]
     },
     "execution_count": 13,
     "metadata": {},
     "output_type": "execute_result"
    }
   ],
   "source": [
    "a.capitalize()"
   ]
  },
  {
   "cell_type": "code",
   "execution_count": 14,
   "id": "ef9a2a9d-a7b4-4378-a0e2-bca4b1dd66d7",
   "metadata": {},
   "outputs": [
    {
     "name": "stdout",
     "output_type": "stream",
     "text": [
      "hello my name is seoyon\n"
     ]
    }
   ],
   "source": [
    "print(a)\n",
    "# 이때 a라는 원본은 그대로. capitalize를 통해 새로운 걸로 반환됨. immutable"
   ]
  },
  {
   "cell_type": "code",
   "execution_count": 15,
   "id": "9f781561-fcc6-45a7-9d63-c5f494819aba",
   "metadata": {},
   "outputs": [],
   "source": [
    "a = a.capitalize()"
   ]
  },
  {
   "cell_type": "code",
   "execution_count": 16,
   "id": "46199bfb-0d18-4aa3-9d89-3cf22c68b87a",
   "metadata": {},
   "outputs": [
    {
     "name": "stdout",
     "output_type": "stream",
     "text": [
      "Hello my name is seoyon\n"
     ]
    }
   ],
   "source": [
    "print(a)"
   ]
  },
  {
   "cell_type": "code",
   "execution_count": 17,
   "id": "a7c99322-dc10-4f46-a570-3a27caff8334",
   "metadata": {},
   "outputs": [
    {
     "data": {
      "text/plain": [
       "'Hello My Name Is Seoyon'"
      ]
     },
     "execution_count": 17,
     "metadata": {},
     "output_type": "execute_result"
    }
   ],
   "source": [
    "a.title()"
   ]
  },
  {
   "cell_type": "code",
   "execution_count": 18,
   "id": "f678e017-0b37-4ad3-93f4-4852d805c66a",
   "metadata": {},
   "outputs": [
    {
     "data": {
      "text/plain": [
       "'HELLO MY NAME IS SEOYON'"
      ]
     },
     "execution_count": 18,
     "metadata": {},
     "output_type": "execute_result"
    }
   ],
   "source": [
    "a.upper()"
   ]
  },
  {
   "cell_type": "code",
   "execution_count": 19,
   "id": "07d3fa0f-9f2b-47a9-beea-d27724c7412c",
   "metadata": {},
   "outputs": [
    {
     "data": {
      "text/plain": [
       "'hello my name is seoyon'"
      ]
     },
     "execution_count": 19,
     "metadata": {},
     "output_type": "execute_result"
    }
   ],
   "source": [
    "a.lower()"
   ]
  },
  {
   "cell_type": "code",
   "execution_count": 20,
   "id": "54a0ec70-ddfe-41ee-8ca1-af6ffe937c0b",
   "metadata": {},
   "outputs": [
    {
     "name": "stdout",
     "output_type": "stream",
     "text": [
      "Hello my name is seoyon\n"
     ]
    }
   ],
   "source": [
    "print(a)"
   ]
  },
  {
   "cell_type": "code",
   "execution_count": 21,
   "id": "cf5f4fdd-3938-44f4-a3cc-3c9c199827c1",
   "metadata": {},
   "outputs": [
    {
     "data": {
      "text/plain": [
       "'hi,my,name'"
      ]
     },
     "execution_count": 21,
     "metadata": {},
     "output_type": "execute_result"
    }
   ],
   "source": [
    "# ''.join(iterable)\n",
    "my_list = ['hi', 'my', 'name']\n",
    "','.join(my_list)"
   ]
  },
  {
   "cell_type": "code",
   "execution_count": 22,
   "id": "6d2cfadf-4527-4954-abd6-6ab6e1d1860d",
   "metadata": {},
   "outputs": [
    {
     "data": {
      "text/plain": [
       "'w!!!!!!!!!!!!w'"
      ]
     },
     "execution_count": 22,
     "metadata": {},
     "output_type": "execute_result"
    }
   ],
   "source": [
    "# .replace(old, new[, count])\n",
    "'woooooooooooow'.replace('o', '!')"
   ]
  },
  {
   "cell_type": "code",
   "execution_count": 23,
   "id": "e4a87670-6c43-405b-afca-4d46ecf05657",
   "metadata": {},
   "outputs": [
    {
     "data": {
      "text/plain": [
       "'w!!!ooooooooow'"
      ]
     },
     "execution_count": 23,
     "metadata": {},
     "output_type": "execute_result"
    }
   ],
   "source": [
    "'woooooooooooow'.replace('o', '!', 3)"
   ]
  },
  {
   "cell_type": "code",
   "execution_count": 27,
   "id": "a0728530-02b4-4827-8c85-7bf5f889b890",
   "metadata": {},
   "outputs": [
    {
     "name": "stdout",
     "output_type": "stream",
     "text": [
      "                 hello\n",
      "\n",
      "hello\n",
      "ello\n",
      "ellohihihihi\n",
      "hihihihihihihihihihihihello\n"
     ]
    }
   ],
   "source": [
    "# .strip(): 띄어쓰기 및 비어 있는 공백 지울 때 사용\n",
    "my_string = '                 hello\\n'\n",
    "print(my_string)\n",
    "print(my_string.strip())\n",
    "\n",
    "my_string2 = 'hihihihihihihihihihihihellohihihihi'\n",
    "print(my_string2.strip('hi'))\n",
    "print(my_string2.lstrip('hi'))\n",
    "print(my_string2.rstrip('hi'))"
   ]
  },
  {
   "cell_type": "code",
   "execution_count": 28,
   "id": "edf37e29-6266-4133-9072-8cb8eedd383d",
   "metadata": {},
   "outputs": [
    {
     "name": "stdout",
     "output_type": "stream",
     "text": [
      "1\n",
      "-1\n",
      "1\n",
      "2\n"
     ]
    }
   ],
   "source": [
    "# .find(x)\n",
    "a = 'apple'\n",
    "print(a.find('p'))\n",
    "print(a.find('z'))\n",
    "# 문자가 없으면 -1이 나옴\n",
    "\n",
    "for i in range(len(a)):\n",
    "    if 'p' == a[i]:\n",
    "        print(i)"
   ]
  },
  {
   "cell_type": "code",
   "execution_count": 29,
   "id": "ab98037c-7b7f-40aa-96d8-572d3b6c2c9f",
   "metadata": {},
   "outputs": [
    {
     "name": "stdout",
     "output_type": "stream",
     "text": [
      "1\n"
     ]
    },
    {
     "ename": "ValueError",
     "evalue": "substring not found",
     "output_type": "error",
     "traceback": [
      "\u001b[1;31m---------------------------------------------------------------------------\u001b[0m",
      "\u001b[1;31mValueError\u001b[0m                                Traceback (most recent call last)",
      "Cell \u001b[1;32mIn[29], line 4\u001b[0m\n\u001b[0;32m      2\u001b[0m a \u001b[38;5;241m=\u001b[39m \u001b[38;5;124m'\u001b[39m\u001b[38;5;124mapple\u001b[39m\u001b[38;5;124m'\u001b[39m\n\u001b[0;32m      3\u001b[0m \u001b[38;5;28mprint\u001b[39m(a\u001b[38;5;241m.\u001b[39mindex(\u001b[38;5;124m'\u001b[39m\u001b[38;5;124mp\u001b[39m\u001b[38;5;124m'\u001b[39m))\n\u001b[1;32m----> 4\u001b[0m \u001b[38;5;28mprint\u001b[39m(\u001b[43ma\u001b[49m\u001b[38;5;241;43m.\u001b[39;49m\u001b[43mindex\u001b[49m\u001b[43m(\u001b[49m\u001b[38;5;124;43m'\u001b[39;49m\u001b[38;5;124;43mz\u001b[39;49m\u001b[38;5;124;43m'\u001b[39;49m\u001b[43m)\u001b[49m)\n",
      "\u001b[1;31mValueError\u001b[0m: substring not found"
     ]
    }
   ],
   "source": [
    "# .index(x) 문자가 없으면 에러가 뜸\n",
    "a = 'apple'\n",
    "print(a.index('p'))\n",
    "print(a.index('z'))"
   ]
  },
  {
   "cell_type": "code",
   "execution_count": 30,
   "id": "1e3778d5-410d-4071-85bd-cf2f58c499e8",
   "metadata": {},
   "outputs": [
    {
     "name": "stdout",
     "output_type": "stream",
     "text": [
      "['my', 'name', 'is', 'lee']\n",
      "['my_name_', 's_lee']\n"
     ]
    }
   ],
   "source": [
    "# .split(x)\n",
    "a = 'my_name_is_lee'\n",
    "print(a.split('_'))\n",
    "print(a.split('i'))"
   ]
  },
  {
   "cell_type": "code",
   "execution_count": 31,
   "id": "510396be-107c-4a3f-b577-5681bec559eb",
   "metadata": {},
   "outputs": [
    {
     "data": {
      "text/plain": [
       "6"
      ]
     },
     "execution_count": 31,
     "metadata": {},
     "output_type": "execute_result"
    }
   ],
   "source": [
    "# .count()\n",
    "'woooooow'.count('o')"
   ]
  },
  {
   "cell_type": "markdown",
   "id": "fc4f7710-80ba-436a-a5d4-287b38b41d65",
   "metadata": {},
   "source": [
    "# 2. 리스트 메소드"
   ]
  },
  {
   "cell_type": "code",
   "execution_count": 32,
   "id": "643f4ca4-6019-40f8-a22f-6a760982c858",
   "metadata": {},
   "outputs": [],
   "source": [
    "numbers = [1, 2, 2, 5, 2, 1, 6, 2, 4, 4]"
   ]
  },
  {
   "cell_type": "code",
   "execution_count": 33,
   "id": "e5e3efe8-08bb-4820-9dc5-3755dc697949",
   "metadata": {},
   "outputs": [
    {
     "name": "stdout",
     "output_type": "stream",
     "text": [
      "[1, 2, 2, 5, 2, 1, 6, 2, 4, 4, 10]\n"
     ]
    }
   ],
   "source": [
    "# .append(x)\n",
    "numbers.append(10)\n",
    "# 원본 자체를 수정함\n",
    "print(numbers)"
   ]
  },
  {
   "cell_type": "code",
   "execution_count": 34,
   "id": "e37a4fa1-c148-4653-b169-47629a8534dd",
   "metadata": {},
   "outputs": [
    {
     "name": "stdout",
     "output_type": "stream",
     "text": [
      "[1, 2, 2, 5, 2, 1, 6, 2, 4, 4, 10, 99, 100]\n",
      "[1, 2, 2, 5, 2, 1, 6, 2, 4, 4, 10, 99, 100, 99, 100]\n"
     ]
    }
   ],
   "source": [
    "# .extend(iterable)\n",
    "a = [99, 100]\n",
    "numbers.extend(a)\n",
    "print(numbers)\n",
    "print(numbers + a)"
   ]
  },
  {
   "cell_type": "code",
   "execution_count": 35,
   "id": "06996a68-192b-42af-9232-9a156e4901d1",
   "metadata": {},
   "outputs": [
    {
     "name": "stdout",
     "output_type": "stream",
     "text": [
      "[1, 2, 2, 3.5, 5, 2, 1, 6, 2, 4, 4, 10, 99, 100]\n"
     ]
    }
   ],
   "source": [
    "# insert(idx, x) 맨 앞 혹은 중간에 넣을 수 있다.\n",
    "numbers.insert(3, 3.5)\n",
    "print(numbers)"
   ]
  },
  {
   "cell_type": "code",
   "execution_count": 36,
   "id": "024cc636-72b9-431b-b5a9-be535ac99f43",
   "metadata": {},
   "outputs": [
    {
     "name": "stdout",
     "output_type": "stream",
     "text": [
      "[1, 2, 2, 5, 2, 1, 6, 2, 4, 4, 10, 99, 100]\n"
     ]
    }
   ],
   "source": [
    "# .remove(x)\n",
    "numbers.remove(3.5)\n",
    "print(numbers)"
   ]
  },
  {
   "cell_type": "code",
   "execution_count": 37,
   "id": "ec1fb6f8-ccf7-4d1f-abdf-d7f5e55d4097",
   "metadata": {},
   "outputs": [
    {
     "name": "stdout",
     "output_type": "stream",
     "text": [
      "[1, 2, 2, 5, 2, 1, 6, 2, 4, 4, 10, 99]\n"
     ]
    }
   ],
   "source": [
    "# .pop([idx]) 인자를 빼냄 (디폴트는 맨 뒤)\n",
    "numbers.pop()\n",
    "print(numbers)"
   ]
  },
  {
   "cell_type": "code",
   "execution_count": 38,
   "id": "8f0101db-8219-48b0-988f-d864091af12e",
   "metadata": {},
   "outputs": [
    {
     "name": "stdout",
     "output_type": "stream",
     "text": [
      "[2, 2, 5, 2, 1, 6, 2, 4, 4, 10, 99]\n"
     ]
    }
   ],
   "source": [
    "numbers.pop(0)\n",
    "print(numbers)"
   ]
  },
  {
   "cell_type": "code",
   "execution_count": 39,
   "id": "c5dfd9fb-8b33-47d0-a227-c36fdcf649dd",
   "metadata": {},
   "outputs": [
    {
     "name": "stdout",
     "output_type": "stream",
     "text": [
      "[1, 2, 2, 2, 2, 4, 4, 5, 6, 10, 99]\n",
      "[99, 10, 6, 5, 4, 4, 2, 2, 2, 2, 1]\n"
     ]
    }
   ],
   "source": [
    "# .sort() 정렬하는 메소드\n",
    "numbers.sort()\n",
    "print(numbers)\n",
    "numbers.sort(reverse = True)\n",
    "print(numbers)"
   ]
  },
  {
   "cell_type": "code",
   "execution_count": 40,
   "id": "3f8497e8-e6a8-42fc-974e-598d18b1b748",
   "metadata": {},
   "outputs": [
    {
     "name": "stdout",
     "output_type": "stream",
     "text": [
      "[99, 10, 6, 5, 4, 4, 2, 2, 2, 2, 1]\n",
      "[1, 2, 2, 2, 2, 4, 4, 5, 6, 10, 99]\n",
      "[99, 10, 6, 5, 4, 4, 2, 2, 2, 2, 1]\n"
     ]
    }
   ],
   "source": [
    "# .reverse()\n",
    "print(numbers)\n",
    "numbers.reverse()\n",
    "print(numbers)\n",
    "numbers = numbers[::-1]\n",
    "# 시작점 비어있으면 자동으로 0 집어 넣고 맨 마지막도 비어 있으면 -1\n",
    "# 뒤로 한 칸 씩 간다.\n",
    "print(numbers)"
   ]
  },
  {
   "cell_type": "markdown",
   "id": "f435eb1f-dd32-40dd-ab9a-77e93882056b",
   "metadata": {},
   "source": [
    "## 2.1 list copy"
   ]
  },
  {
   "cell_type": "code",
   "execution_count": 41,
   "id": "e44ec43d-ce69-49e2-804f-5f10aaf14bc4",
   "metadata": {},
   "outputs": [],
   "source": [
    "origin_list = [1, 2, 3]\n",
    "copy_list = origin_list"
   ]
  },
  {
   "cell_type": "code",
   "execution_count": 42,
   "id": "95ea42b2-3f90-4934-b907-be696aefa1b3",
   "metadata": {},
   "outputs": [
    {
     "name": "stdout",
     "output_type": "stream",
     "text": [
      "[1, 2, 3]\n",
      "[1, 2, 3]\n"
     ]
    }
   ],
   "source": [
    "print(origin_list)\n",
    "print(copy_list)"
   ]
  },
  {
   "cell_type": "code",
   "execution_count": 43,
   "id": "fdda5464-1090-47c8-9d3f-793038db6bad",
   "metadata": {},
   "outputs": [],
   "source": [
    "copy_list[0] = 100"
   ]
  },
  {
   "cell_type": "code",
   "execution_count": 44,
   "id": "d9c03c16-25c3-4765-8f99-104f9e045e9e",
   "metadata": {},
   "outputs": [
    {
     "name": "stdout",
     "output_type": "stream",
     "text": [
      "[100, 2, 3]\n",
      "[100, 2, 3]\n"
     ]
    }
   ],
   "source": [
    "print(origin_list)\n",
    "print(copy_list)"
   ]
  },
  {
   "cell_type": "code",
   "execution_count": 45,
   "id": "e6813cb3-7690-4ca5-b026-d2515f168a5c",
   "metadata": {},
   "outputs": [],
   "source": [
    "# 컴퓨터 메모리 안에 저장된 것을 list가 주소 값만 저장.\n",
    "# 데이터 자체를 직접 할당하는 게 아니라 주소를 가지고 있음."
   ]
  },
  {
   "cell_type": "code",
   "execution_count": 46,
   "id": "d1b2da85-900e-4453-9980-e2728d058b20",
   "metadata": {},
   "outputs": [
    {
     "name": "stdout",
     "output_type": "stream",
     "text": [
      "[1, 2, 3]\n",
      "[100, 2, 3]\n"
     ]
    }
   ],
   "source": [
    "a = [1, 2, 3]\n",
    "# b는 새로운 걸 만들고 싶어\n",
    "b = a[:]\n",
    "b = list(a)\n",
    "b[0] = 100\n",
    "\n",
    "print(a)\n",
    "print(b)"
   ]
  },
  {
   "cell_type": "code",
   "execution_count": 47,
   "id": "40ce168c-6e09-43f9-911c-7aa3dc967f45",
   "metadata": {},
   "outputs": [
    {
     "name": "stdout",
     "output_type": "stream",
     "text": [
      "[1, 2, [100, 4]]\n",
      "[1, 2, [100, 4]]\n"
     ]
    }
   ],
   "source": [
    "a = [1, 2, [3, 4]]\n",
    "b = a[:]\n",
    "\n",
    "b[2][0] = 100\n",
    "\n",
    "print(a)\n",
    "print(b)"
   ]
  },
  {
   "cell_type": "code",
   "execution_count": 49,
   "id": "dc5d0f92-b0c5-4caa-9d49-e10fdc3f6f55",
   "metadata": {},
   "outputs": [
    {
     "name": "stdout",
     "output_type": "stream",
     "text": [
      "[1, 2, [3, 4]]\n",
      "[1, 2, [100, 4]]\n"
     ]
    }
   ],
   "source": [
    "import copy\n",
    "a = [1, 2, [3, 4]]\n",
    "b = copy.deepcopy(a)\n",
    "\n",
    "b[2][0] = 100\n",
    "\n",
    "print(a)\n",
    "print(b)"
   ]
  },
  {
   "cell_type": "markdown",
   "id": "74314cd4-1f16-46dd-9a3b-ef4a5fcd9e4a",
   "metadata": {},
   "source": [
    "## 2.2 list comprehension"
   ]
  },
  {
   "cell_type": "code",
   "execution_count": 50,
   "id": "e78bfe90-a115-4abf-b235-3faf2d758328",
   "metadata": {},
   "outputs": [
    {
     "name": "stdout",
     "output_type": "stream",
     "text": [
      "[1, 2, 3, 4, 5, 6, 7, 8, 9, 10]\n"
     ]
    }
   ],
   "source": [
    "numbers = list(range(1, 11))\n",
    "print(numbers)"
   ]
  },
  {
   "cell_type": "code",
   "execution_count": 51,
   "id": "22fbb164-131d-4bf5-a876-c181469fd336",
   "metadata": {},
   "outputs": [
    {
     "name": "stdout",
     "output_type": "stream",
     "text": [
      "[1, 8, 27, 64, 125, 216, 343, 512, 729, 1000]\n"
     ]
    }
   ],
   "source": [
    "# [1, 8, 27, ...1000]\n",
    "result = []\n",
    "for number in numbers:\n",
    "    result.append(number ** 3)\n",
    "\n",
    "print(result)"
   ]
  },
  {
   "cell_type": "code",
   "execution_count": 52,
   "id": "3eed8dc3-5840-4f64-87ef-d06ad9ccbe44",
   "metadata": {},
   "outputs": [
    {
     "name": "stdout",
     "output_type": "stream",
     "text": [
      "[1, 8, 27, 64, 125, 216, 343, 512, 729, 1000]\n"
     ]
    }
   ],
   "source": [
    "result2 = [number ** 3 for number in numbers]\n",
    "print(result2)\n",
    "# list 안에 for문 돌려서 반복 작업을 돌린다. but 현재는 지양할 것."
   ]
  },
  {
   "cell_type": "code",
   "execution_count": 53,
   "id": "9b32d5bb-8122-4303-869d-acf47abcdf30",
   "metadata": {},
   "outputs": [
    {
     "name": "stdout",
     "output_type": "stream",
     "text": [
      "[2, 4, 6, 8, 10]\n"
     ]
    }
   ],
   "source": [
    "# 짝수만 고르기\n",
    "even_list = []\n",
    "for i in numbers:\n",
    "    if i % 2 == 0:\n",
    "        even_list.append(i)\n",
    "\n",
    "print(even_list)"
   ]
  },
  {
   "cell_type": "code",
   "execution_count": 54,
   "id": "74414c75-09de-4006-80fa-e97ea3abb962",
   "metadata": {},
   "outputs": [
    {
     "name": "stdout",
     "output_type": "stream",
     "text": [
      "[2, 4, 6, 8, 10]\n"
     ]
    }
   ],
   "source": [
    "# 짝수만 고르기 (list comprehension)\n",
    "even_list2 = [i for i in numbers if i % 2 == 0]\n",
    "print(even_list2)"
   ]
  },
  {
   "cell_type": "code",
   "execution_count": 55,
   "id": "ecf2fd2f-dd42-442f-b09e-ecd20330f47f",
   "metadata": {},
   "outputs": [],
   "source": [
    "words = 'my name is seoyon'\n",
    "vowels = 'aeiou'\n",
    "\n",
    "# => my nm s syn 모음 삭제!"
   ]
  },
  {
   "cell_type": "code",
   "execution_count": 56,
   "id": "0ff975de-d22f-4c77-af0b-09c364407fe2",
   "metadata": {},
   "outputs": [
    {
     "name": "stdout",
     "output_type": "stream",
     "text": [
      "['m', 'y', ' ', 'n', 'm', ' ', 's', ' ', 's', 'y', 'n']\n",
      "my nm s syn\n"
     ]
    }
   ],
   "source": [
    "# 1. for문 버전\n",
    "result = []\n",
    "for char in words:\n",
    "    if char not in vowels:\n",
    "        result.append(char)\n",
    "\n",
    "print(result)\n",
    "print(''.join(result))"
   ]
  },
  {
   "cell_type": "code",
   "execution_count": 57,
   "id": "7e0d01fd-9452-49e5-8f40-7c41f3a1f94a",
   "metadata": {},
   "outputs": [
    {
     "name": "stdout",
     "output_type": "stream",
     "text": [
      "['m', 'y', ' ', 'n', 'm', ' ', 's', ' ', 's', 'y', 'n']\n"
     ]
    }
   ],
   "source": [
    "# 2. list comprehension 버전\n",
    "result2 = [char for char in words if char not in vowels]\n",
    "print(result2)"
   ]
  },
  {
   "cell_type": "code",
   "execution_count": 59,
   "id": "93c943e0-2097-46a6-8fac-f3b5dac8a6d9",
   "metadata": {},
   "outputs": [
    {
     "name": "stdout",
     "output_type": "stream",
     "text": [
      "['M', 'Y', ' ', 'N', 'M', ' ', 'S', ' ', 'S', 'Y', 'N']\n",
      "MY NM S SYN\n"
     ]
    }
   ],
   "source": [
    "result3 = [char.upper() for char in words if char not in vowels]\n",
    "print(result3)\n",
    "print(''.join(result3))"
   ]
  },
  {
   "cell_type": "markdown",
   "id": "19e421a4-d444-4192-b7a9-73b709263857",
   "metadata": {},
   "source": [
    "# 3. 딕셔너리 메소드"
   ]
  },
  {
   "cell_type": "code",
   "execution_count": 60,
   "id": "06aa925f-1ca9-43dc-87eb-41e8126473fc",
   "metadata": {},
   "outputs": [],
   "source": [
    "info = {\n",
    "    'name': 'seoyon',\n",
    "    'location': 'seoul',\n",
    "}"
   ]
  },
  {
   "cell_type": "code",
   "execution_count": 61,
   "id": "2e63dc14-e4e4-40e2-a952-ba6253f6c20a",
   "metadata": {},
   "outputs": [
    {
     "data": {
      "text/plain": [
       "'seoyon'"
      ]
     },
     "execution_count": 61,
     "metadata": {},
     "output_type": "execute_result"
    }
   ],
   "source": [
    "info['name']"
   ]
  },
  {
   "cell_type": "code",
   "execution_count": 63,
   "id": "91f11451-8132-4ace-8862-42282ddf066a",
   "metadata": {},
   "outputs": [
    {
     "name": "stdout",
     "output_type": "stream",
     "text": [
      "lee\n"
     ]
    }
   ],
   "source": [
    "info['name'] = 'lee'\n",
    "print(info['name'])"
   ]
  },
  {
   "cell_type": "code",
   "execution_count": 64,
   "id": "bcd0fec6-fe24-40b7-bcce-4096d0f2f8f7",
   "metadata": {},
   "outputs": [
    {
     "name": "stdout",
     "output_type": "stream",
     "text": [
      "{'name': 'lee'}\n"
     ]
    }
   ],
   "source": [
    "# .pop()\n",
    "info.pop('location')\n",
    "print(info)\n",
    "# key error"
   ]
  },
  {
   "cell_type": "code",
   "execution_count": 65,
   "id": "8ae20ffa-c151-4c54-b85d-bdf94891deb6",
   "metadata": {},
   "outputs": [
    {
     "name": "stdout",
     "output_type": "stream",
     "text": [
      "None\n",
      "{'name': 'lee'}\n"
     ]
    }
   ],
   "source": [
    "# .pop(key[, default])\n",
    "print(info.pop('location', None))\n",
    "print(info)"
   ]
  },
  {
   "cell_type": "code",
   "execution_count": 66,
   "id": "21685c6c-d843-4e7f-ab8a-0d15660bbfc2",
   "metadata": {},
   "outputs": [
    {
     "name": "stdout",
     "output_type": "stream",
     "text": [
      "{'name': 'seoyon'}\n"
     ]
    }
   ],
   "source": [
    "# .update(key = value)\n",
    "info.update(name = 'seoyon')\n",
    "print(info)"
   ]
  },
  {
   "cell_type": "code",
   "execution_count": 67,
   "id": "c589f267-c161-4a82-9148-15dbdfb02322",
   "metadata": {},
   "outputs": [
    {
     "name": "stdout",
     "output_type": "stream",
     "text": [
      "seoyon\n"
     ]
    }
   ],
   "source": [
    "# .get(key[, default])\n",
    "print(info.get('name'))"
   ]
  },
  {
   "cell_type": "code",
   "execution_count": 69,
   "id": "20491dec-af85-485a-81d1-14a7930a799e",
   "metadata": {},
   "outputs": [
    {
     "name": "stdout",
     "output_type": "stream",
     "text": [
      "123\n"
     ]
    }
   ],
   "source": [
    "print(info.get('school', '123'))\n",
    "# print(info['school'])"
   ]
  },
  {
   "cell_type": "markdown",
   "id": "1944a09b-d09a-4b71-b831-2e6de257db71",
   "metadata": {},
   "source": [
    "## 3.1 dict comprehension"
   ]
  },
  {
   "cell_type": "code",
   "execution_count": 70,
   "id": "e14a9f68-d885-45cd-80c1-e840a6104cc7",
   "metadata": {},
   "outputs": [],
   "source": [
    "# {1: 1, 2: 8, 3: 27}"
   ]
  },
  {
   "cell_type": "code",
   "execution_count": 71,
   "id": "8a9cf9b2-abf4-46bd-811f-3ddc8bc89f0c",
   "metadata": {},
   "outputs": [
    {
     "name": "stdout",
     "output_type": "stream",
     "text": [
      "{1: 1, 2: 8, 3: 27}\n"
     ]
    }
   ],
   "source": [
    "# for\n",
    "cube_dict = {}\n",
    "for i in range(1, 4):\n",
    "    cube_dict[i] = i ** 3\n",
    "print(cube_dict)"
   ]
  },
  {
   "cell_type": "code",
   "execution_count": 72,
   "id": "e30c546c-8ed9-4746-bdaa-3f4e3b22d005",
   "metadata": {},
   "outputs": [
    {
     "name": "stdout",
     "output_type": "stream",
     "text": [
      "{1: 1, 2: 8, 3: 27}\n"
     ]
    }
   ],
   "source": [
    "# comp\n",
    "cube_dict2 = {i: i ** 3 for i in range(1,4)}\n",
    "print(cube_dict2)"
   ]
  },
  {
   "cell_type": "code",
   "execution_count": 74,
   "id": "5e9ae385-6db9-4800-b003-19df41c13386",
   "metadata": {},
   "outputs": [],
   "source": [
    "# 50 이상 미세먼지인 장소만 기록하기\n",
    "dust = {\n",
    "    '서울' : 100,\n",
    "    '대구' : 30,\n",
    "    '대전' : 10,\n",
    "    '부산' : 80,\n",
    "    '광주' : 50,\n",
    "}\n",
    "# =>\n",
    "# result = {\n",
    "#     '서울': 100,\n",
    "#     '부산': 80,\n",
    "#     '광주': 50,\n",
    "# }"
   ]
  },
  {
   "cell_type": "code",
   "execution_count": 76,
   "id": "a47d8e8b-bd5a-403b-980f-e7a581a85e11",
   "metadata": {},
   "outputs": [
    {
     "name": "stdout",
     "output_type": "stream",
     "text": [
      "{'서울': 100, '부산': 80, '광주': 50}\n"
     ]
    }
   ],
   "source": [
    "# 1. for\n",
    "result = {}\n",
    "for k, v in dust.items():\n",
    "    if v >= 50:\n",
    "        result[k] = v\n",
    "print(result)"
   ]
  },
  {
   "cell_type": "code",
   "execution_count": 78,
   "id": "70603e45-dfe4-446a-b8b8-a7db75d5e05f",
   "metadata": {},
   "outputs": [
    {
     "name": "stdout",
     "output_type": "stream",
     "text": [
      "{'서울': 100, '부산': 80, '광주': 50}\n"
     ]
    }
   ],
   "source": [
    "# 2. comp\n",
    "result2 = {k: v for k, v in dust.items() if v >= 50}\n",
    "print(result2)"
   ]
  },
  {
   "cell_type": "code",
   "execution_count": 79,
   "id": "e71deba3-b226-47b9-8941-290814c098f5",
   "metadata": {},
   "outputs": [
    {
     "name": "stdout",
     "output_type": "stream",
     "text": [
      "{'서울': '나쁨', '부산': '나쁨', '광주': '나쁨'}\n"
     ]
    }
   ],
   "source": [
    "result3 = {k: '나쁨' for k, v in dust.items() if v >= 50}\n",
    "print(result3)"
   ]
  },
  {
   "cell_type": "markdown",
   "id": "eb5e0ed7-7f82-4abc-8fbf-8a949a0a81bf",
   "metadata": {},
   "source": [
    "# 4. 세트 메소드\n",
    "순서가 아닌 집합으로써! 하나일 때는 add 여러개는 update 사용"
   ]
  },
  {
   "cell_type": "code",
   "execution_count": 80,
   "id": "a18e64f8-d6c3-4f89-bc60-ea2eeed9ba7a",
   "metadata": {},
   "outputs": [],
   "source": [
    "fruits = {'apple', 'banana', 'melon'}\n",
    "# 집합은 중복이 안된다. 순서 없음."
   ]
  },
  {
   "cell_type": "code",
   "execution_count": 81,
   "id": "f40841d2-f79b-4429-9f29-029d668557c2",
   "metadata": {},
   "outputs": [
    {
     "name": "stdout",
     "output_type": "stream",
     "text": [
      "{'banana', 'watermelon', 'apple', 'melon'}\n",
      "{'banana', 'watermelon', 'apple', 'melon'}\n"
     ]
    }
   ],
   "source": [
    "# .add(x)\n",
    "fruits.add('watermelon')\n",
    "print(fruits)\n",
    "fruits.add('watermelon')\n",
    "print(fruits)"
   ]
  },
  {
   "cell_type": "code",
   "execution_count": 82,
   "id": "a410b180-6bf5-4a27-8487-e700cc93b61d",
   "metadata": {},
   "outputs": [
    {
     "name": "stdout",
     "output_type": "stream",
     "text": [
      "{'g', 'watermelon', 'apple', 'r', 'melon', 'banana', 'a', 'e', 'p'}\n"
     ]
    }
   ],
   "source": [
    "# .update() grape를 하나의 집합으로 보고 하나하나 쪼개서 넣음.\n",
    "fruits.update('grape')\n",
    "print(fruits)"
   ]
  },
  {
   "cell_type": "code",
   "execution_count": 83,
   "id": "e1332531-5e2a-4fa8-8a8b-8c98647c685c",
   "metadata": {},
   "outputs": [
    {
     "name": "stdout",
     "output_type": "stream",
     "text": [
      "{'g', 'pear', 'watermelon', 'apple', 'r', 'orange', 'melon', 'banana', 'a', 'e', 'p'}\n"
     ]
    }
   ],
   "source": [
    "fruits.update({'orange', 'pear'})\n",
    "print(fruits)"
   ]
  },
  {
   "cell_type": "code",
   "execution_count": 84,
   "id": "9b542520-e070-4721-a524-ad9ee69f5c78",
   "metadata": {},
   "outputs": [
    {
     "name": "stdout",
     "output_type": "stream",
     "text": [
      "{'g', 'pear', 'watermelon', 'apple', 'r', 'melon', 'banana', 'a', 'e', 'p'}\n"
     ]
    }
   ],
   "source": [
    "# .remove()\n",
    "fruits.remove('orange')\n",
    "print(fruits)"
   ]
  },
  {
   "cell_type": "code",
   "execution_count": 85,
   "id": "a2835631-fe9d-475d-b71d-c14f42060d22",
   "metadata": {},
   "outputs": [
    {
     "name": "stdout",
     "output_type": "stream",
     "text": [
      "{'pear', 'watermelon', 'apple', 'r', 'melon', 'banana', 'a', 'e', 'p'}\n"
     ]
    }
   ],
   "source": [
    "# .pop() 들어 있는 기준으로 앞에서부터 빠지지만 빼는 것 자체가 랜덤.\n",
    "fruits.pop()\n",
    "print(fruits)"
   ]
  },
  {
   "cell_type": "markdown",
   "id": "87cd6c0e-25bb-44b1-814f-1c90a2d01dd9",
   "metadata": {},
   "source": [
    "# 5. map(), zip(), filter()\n",
    "## 5.1 map()\n",
    "```python\n",
    "map(function, iterable)\n",
    "```"
   ]
  },
  {
   "cell_type": "code",
   "execution_count": 86,
   "id": "e3e2835f-d485-4214-b20e-8151af1c37b7",
   "metadata": {},
   "outputs": [
    {
     "name": "stdout",
     "output_type": "stream",
     "text": [
      "<map object at 0x0000025DBF7F80D0>\n",
      "['1', '2', '3']\n"
     ]
    }
   ],
   "source": [
    "a = [1, 2, 3]\n",
    "\n",
    "number_str = map(str, a)\n",
    "print(number_str)\n",
    "print(list(number_str))"
   ]
  },
  {
   "cell_type": "code",
   "execution_count": 87,
   "id": "2ae49ed6-54db-46c1-a66b-30a3b5601430",
   "metadata": {},
   "outputs": [],
   "source": [
    "def cube(x):\n",
    "    return x ** 3"
   ]
  },
  {
   "cell_type": "code",
   "execution_count": 88,
   "id": "c65781cb-d697-4414-a851-da96575b013c",
   "metadata": {},
   "outputs": [
    {
     "name": "stdout",
     "output_type": "stream",
     "text": [
      "[1, 8, 27]\n"
     ]
    }
   ],
   "source": [
    "# for문을 활용하여 모든 item에 cube 함수 실행\n",
    "result = []\n",
    "for i in a:\n",
    "    result.append(cube(i))\n",
    "print(result)"
   ]
  },
  {
   "cell_type": "code",
   "execution_count": 89,
   "id": "4ee59ce6-2b71-4785-94d0-cfc32d958b60",
   "metadata": {},
   "outputs": [
    {
     "name": "stdout",
     "output_type": "stream",
     "text": [
      "[1, 8, 27]\n"
     ]
    }
   ],
   "source": [
    "# map\n",
    "result2 = map(cube, a)\n",
    "print(list(result2))"
   ]
  },
  {
   "cell_type": "code",
   "execution_count": 90,
   "id": "8adb1e52-9415-45a1-8a76-98c0c837f9ce",
   "metadata": {},
   "outputs": [
    {
     "name": "stdin",
     "output_type": "stream",
     "text": [
      " 1 2 3 4 5\n"
     ]
    },
    {
     "name": "stdout",
     "output_type": "stream",
     "text": [
      "[1, 2, 3, 4, 5]\n"
     ]
    }
   ],
   "source": [
    "numbers = list(map(int, input().split()))\n",
    "print(numbers)"
   ]
  },
  {
   "cell_type": "markdown",
   "id": "06d5d9b9-345d-4b68-98f0-bd133556e3d4",
   "metadata": {},
   "source": [
    "## 5.2 zip\n",
    "두 개의 리스트를 하나로 합해줌"
   ]
  },
  {
   "cell_type": "code",
   "execution_count": 91,
   "id": "15cb37f7-f45c-4d14-9a07-70169d942108",
   "metadata": {},
   "outputs": [],
   "source": [
    "a = [1, 2, 3]\n",
    "b = [100, 200, 300]"
   ]
  },
  {
   "cell_type": "code",
   "execution_count": 92,
   "id": "c47196fd-3ddd-428c-b1d3-231af4cf6e53",
   "metadata": {},
   "outputs": [
    {
     "name": "stdout",
     "output_type": "stream",
     "text": [
      "<zip object at 0x0000025DBFC57040>\n",
      "[(1, 100), (2, 200), (3, 300)]\n"
     ]
    }
   ],
   "source": [
    "result = zip(a, b)\n",
    "print(result)\n",
    "# 위치를 알려줌\n",
    "print(list(result))"
   ]
  },
  {
   "cell_type": "markdown",
   "id": "863c2c92-1cfb-48f9-a52c-4a921d14f500",
   "metadata": {},
   "source": [
    "## 5.3 filter\n",
    "```python\n",
    "filter(function, iterable)\n",
    "```\n",
    "filter에 들어가는 function은 T/F를 반환해야 합니다."
   ]
  },
  {
   "cell_type": "code",
   "execution_count": 93,
   "id": "2177a611-1a55-40b2-b4b8-28ae653680b3",
   "metadata": {},
   "outputs": [],
   "source": [
    "def is_odd(x):\n",
    "    return bool(x % 2)\n",
    "# 1 -> True 0 -> False"
   ]
  },
  {
   "cell_type": "code",
   "execution_count": 94,
   "id": "3ecbd54c-c795-455d-95d0-7f1fa8e2e3b4",
   "metadata": {},
   "outputs": [
    {
     "name": "stdout",
     "output_type": "stream",
     "text": [
      "<filter object at 0x0000025DBF800490>\n",
      "[1, 3, 5]\n"
     ]
    }
   ],
   "source": [
    "numbers = [1, 2, 3, 4, 5]\n",
    "result = filter(is_odd, numbers)\n",
    "print(result)\n",
    "print(list(result))"
   ]
  }
 ],
 "metadata": {
  "kernelspec": {
   "display_name": "Python 3 (ipykernel)",
   "language": "python",
   "name": "python3"
  },
  "language_info": {
   "codemirror_mode": {
    "name": "ipython",
    "version": 3
   },
   "file_extension": ".py",
   "mimetype": "text/x-python",
   "name": "python",
   "nbconvert_exporter": "python",
   "pygments_lexer": "ipython3",
   "version": "3.11.4"
  }
 },
 "nbformat": 4,
 "nbformat_minor": 5
}
