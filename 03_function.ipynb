{
 "cells": [
  {
   "cell_type": "markdown",
   "id": "2c9ed6eb-152f-4a58-809a-87679d58039a",
   "metadata": {},
   "source": [
    "# 함수(function)"
   ]
  },
  {
   "cell_type": "code",
   "execution_count": 3,
   "id": "6d1a0a1e-8613-489d-98b9-08434a949843",
   "metadata": {},
   "outputs": [
    {
     "name": "stdout",
     "output_type": "stream",
     "text": [
      "직사각형의 둘레는 60, 면적은 200 입니다.\n",
      "직사각형의 둘레는 260, 면적은 4000 입니다.\n"
     ]
    }
   ],
   "source": [
    "height = 10\n",
    "width = 20\n",
    "\n",
    "height2 = 50\n",
    "width2 = 80\n",
    "\n",
    "# 직사각형의 둘레는 ***, 면적은 *** 입니다.\n",
    "\n",
    "area = height * width\n",
    "perimeter = (height + width) * 2\n",
    "print(f'직사각형의 둘레는 {perimeter}, 면적은 {area} 입니다.')\n",
    "\n",
    "area = height2 * width2\n",
    "perimeter = (height2 + width2) * 2\n",
    "print(f'직사각형의 둘레는 {perimeter}, 면적은 {area} 입니다.')\n"
   ]
  },
  {
   "cell_type": "markdown",
   "id": "88b62d70-a0fd-4768-add5-8336bfb1c007",
   "metadata": {},
   "source": [
    "## 함수의 선언과 호출\n",
    "\n",
    "- 함수의 선언\n",
    "```python\n",
    "def func_name(parameter1, parameter2...):\n",
    "    code1\n",
    "    code2\n",
    "    ...\n",
    "    return value\n",
    "```\n",
    "\n",
    "\n",
    "- 함수의 호출(실행)\n",
    "```python\n",
    "func_name(parameter1, parameter2)\n",
    "```"
   ]
  },
  {
   "cell_type": "code",
   "execution_count": 7,
   "id": "a30f933b-b622-4b1a-b0fe-f032cedeeb30",
   "metadata": {},
   "outputs": [],
   "source": [
    "def rectangle(height, width):\n",
    "    # height = 10\n",
    "    # widtth = 20\n",
    "    area = height * width\n",
    "    perimeter = (height + width) * 2\n",
    "    print(f'직사각형의 둘레는 {perimeter}, 면적은 {area}입니다.')"
   ]
  },
  {
   "cell_type": "code",
   "execution_count": 8,
   "id": "b30fbd97-36c1-4b37-91e1-b63717fc52ab",
   "metadata": {},
   "outputs": [
    {
     "name": "stdout",
     "output_type": "stream",
     "text": [
      "직사각형의 둘레는 60, 면적은 200입니다.\n"
     ]
    }
   ],
   "source": [
    "rectangle(10, 20)"
   ]
  },
  {
   "cell_type": "code",
   "execution_count": 9,
   "id": "c7431060-4e2d-4020-aa9c-fcdc9a53c028",
   "metadata": {},
   "outputs": [
    {
     "data": {
      "text/plain": [
       "['ArithmeticError',\n",
       " 'AssertionError',\n",
       " 'AttributeError',\n",
       " 'BaseException',\n",
       " 'BaseExceptionGroup',\n",
       " 'BlockingIOError',\n",
       " 'BrokenPipeError',\n",
       " 'BufferError',\n",
       " 'BytesWarning',\n",
       " 'ChildProcessError',\n",
       " 'ConnectionAbortedError',\n",
       " 'ConnectionError',\n",
       " 'ConnectionRefusedError',\n",
       " 'ConnectionResetError',\n",
       " 'DeprecationWarning',\n",
       " 'EOFError',\n",
       " 'Ellipsis',\n",
       " 'EncodingWarning',\n",
       " 'EnvironmentError',\n",
       " 'Exception',\n",
       " 'ExceptionGroup',\n",
       " 'False',\n",
       " 'FileExistsError',\n",
       " 'FileNotFoundError',\n",
       " 'FloatingPointError',\n",
       " 'FutureWarning',\n",
       " 'GeneratorExit',\n",
       " 'IOError',\n",
       " 'ImportError',\n",
       " 'ImportWarning',\n",
       " 'IndentationError',\n",
       " 'IndexError',\n",
       " 'InterruptedError',\n",
       " 'IsADirectoryError',\n",
       " 'KeyError',\n",
       " 'KeyboardInterrupt',\n",
       " 'LookupError',\n",
       " 'MemoryError',\n",
       " 'ModuleNotFoundError',\n",
       " 'NameError',\n",
       " 'None',\n",
       " 'NotADirectoryError',\n",
       " 'NotImplemented',\n",
       " 'NotImplementedError',\n",
       " 'OSError',\n",
       " 'OverflowError',\n",
       " 'PendingDeprecationWarning',\n",
       " 'PermissionError',\n",
       " 'ProcessLookupError',\n",
       " 'RecursionError',\n",
       " 'ReferenceError',\n",
       " 'ResourceWarning',\n",
       " 'RuntimeError',\n",
       " 'RuntimeWarning',\n",
       " 'StopAsyncIteration',\n",
       " 'StopIteration',\n",
       " 'SyntaxError',\n",
       " 'SyntaxWarning',\n",
       " 'SystemError',\n",
       " 'SystemExit',\n",
       " 'TabError',\n",
       " 'TimeoutError',\n",
       " 'True',\n",
       " 'TypeError',\n",
       " 'UnboundLocalError',\n",
       " 'UnicodeDecodeError',\n",
       " 'UnicodeEncodeError',\n",
       " 'UnicodeError',\n",
       " 'UnicodeTranslateError',\n",
       " 'UnicodeWarning',\n",
       " 'UserWarning',\n",
       " 'ValueError',\n",
       " 'Warning',\n",
       " 'WindowsError',\n",
       " 'ZeroDivisionError',\n",
       " '__IPYTHON__',\n",
       " '__build_class__',\n",
       " '__debug__',\n",
       " '__doc__',\n",
       " '__import__',\n",
       " '__loader__',\n",
       " '__name__',\n",
       " '__package__',\n",
       " '__spec__',\n",
       " 'abs',\n",
       " 'aiter',\n",
       " 'all',\n",
       " 'anext',\n",
       " 'any',\n",
       " 'ascii',\n",
       " 'bin',\n",
       " 'bool',\n",
       " 'breakpoint',\n",
       " 'bytearray',\n",
       " 'bytes',\n",
       " 'callable',\n",
       " 'chr',\n",
       " 'classmethod',\n",
       " 'compile',\n",
       " 'complex',\n",
       " 'copyright',\n",
       " 'credits',\n",
       " 'delattr',\n",
       " 'dict',\n",
       " 'dir',\n",
       " 'display',\n",
       " 'divmod',\n",
       " 'enumerate',\n",
       " 'eval',\n",
       " 'exec',\n",
       " 'execfile',\n",
       " 'filter',\n",
       " 'float',\n",
       " 'format',\n",
       " 'frozenset',\n",
       " 'get_ipython',\n",
       " 'getattr',\n",
       " 'globals',\n",
       " 'hasattr',\n",
       " 'hash',\n",
       " 'help',\n",
       " 'hex',\n",
       " 'id',\n",
       " 'input',\n",
       " 'int',\n",
       " 'isinstance',\n",
       " 'issubclass',\n",
       " 'iter',\n",
       " 'len',\n",
       " 'license',\n",
       " 'list',\n",
       " 'locals',\n",
       " 'map',\n",
       " 'max',\n",
       " 'memoryview',\n",
       " 'min',\n",
       " 'next',\n",
       " 'object',\n",
       " 'oct',\n",
       " 'open',\n",
       " 'ord',\n",
       " 'pow',\n",
       " 'print',\n",
       " 'property',\n",
       " 'range',\n",
       " 'repr',\n",
       " 'reversed',\n",
       " 'round',\n",
       " 'runfile',\n",
       " 'set',\n",
       " 'setattr',\n",
       " 'slice',\n",
       " 'sorted',\n",
       " 'staticmethod',\n",
       " 'str',\n",
       " 'sum',\n",
       " 'super',\n",
       " 'tuple',\n",
       " 'type',\n",
       " 'vars',\n",
       " 'zip']"
      ]
     },
     "execution_count": 9,
     "metadata": {},
     "output_type": "execute_result"
    }
   ],
   "source": [
    "dir(__builtins__)"
   ]
  },
  {
   "cell_type": "code",
   "execution_count": 10,
   "id": "9b5dcc2d-9d26-44b3-8bbf-a7234213a571",
   "metadata": {},
   "outputs": [
    {
     "data": {
      "text/plain": [
       "5"
      ]
     },
     "execution_count": 10,
     "metadata": {},
     "output_type": "execute_result"
    }
   ],
   "source": [
    "max(1, 5)"
   ]
  },
  {
   "cell_type": "code",
   "execution_count": 19,
   "id": "f7834dce-fdcf-4813-bc00-e9f8889df4d3",
   "metadata": {},
   "outputs": [],
   "source": [
    "# 두 개의 정수를 받아서 큰 수를 출력\n",
    "def my_max(num1, num2):\n",
    "    if num1 > num2:\n",
    "        print(f'{num1}이 더 큽니다.')\n",
    "    elif num1 < num2:\n",
    "        print(f'{num2}이 더 큽니다.')\n",
    "    else:\n",
    "        print('두 수가 같습니다.')\n",
    "    # return None (python이 자동으로 실행)"
   ]
  },
  {
   "cell_type": "code",
   "execution_count": 18,
   "id": "b7d85d08-7e08-46a6-8137-56a25008987d",
   "metadata": {},
   "outputs": [
    {
     "name": "stdout",
     "output_type": "stream",
     "text": [
      "5이 더 큽니다.\n",
      "None\n"
     ]
    }
   ],
   "source": [
    "result = my_max(1,5)\n",
    "print(result)"
   ]
  },
  {
   "cell_type": "markdown",
   "id": "97e3efe7-01af-4ae7-8221-126755175439",
   "metadata": {},
   "source": [
    "## 함수의 return\n",
    "\n",
    "- 함수가 return을 만나면 해당 값을 반환하고 함수를 종료\n",
    "- 만약 return이 없다면 None을 자동으로 반환\n",
    "- return은 오직 하나의 객체만 반환"
   ]
  },
  {
   "cell_type": "code",
   "execution_count": 25,
   "id": "851c9a6b-f0d0-48ee-bd5f-65e1cf416354",
   "metadata": {},
   "outputs": [],
   "source": [
    "# 두 개의 정수를 받아서 큰 수를 반환\n",
    "def my_max2(num1, num2):\n",
    "\n",
    "    # return 'hello'\n",
    "    \n",
    "    if num1 > num2:\n",
    "        return num1\n",
    "    elif num1 < num2:\n",
    "        return num2\n",
    "    else:\n",
    "        return 0"
   ]
  },
  {
   "cell_type": "code",
   "execution_count": 26,
   "id": "f44ab4de-9917-4bbc-9709-69968d199fda",
   "metadata": {},
   "outputs": [
    {
     "name": "stdout",
     "output_type": "stream",
     "text": [
      "2가 더 큽니다.\n"
     ]
    }
   ],
   "source": [
    "result = my_max2(1, 2)\n",
    "print(f'{result}가 더 큽니다.')"
   ]
  },
  {
   "cell_type": "code",
   "execution_count": 32,
   "id": "49661d8c-9217-4ff1-bb45-7cee77c1daf6",
   "metadata": {},
   "outputs": [],
   "source": [
    "def my_list_max(list_a, list_b):\n",
    "    if sum(list_a) > sum(list_b):\n",
    "        return list_a, 123\n",
    "    else:\n",
    "        return list_b, 123"
   ]
  },
  {
   "cell_type": "code",
   "execution_count": 33,
   "id": "b5d1f274-18b7-4e89-8b15-5fd9292db948",
   "metadata": {},
   "outputs": [
    {
     "data": {
      "text/plain": [
       "([11, 12], 123)"
      ]
     },
     "execution_count": 33,
     "metadata": {},
     "output_type": "execute_result"
    }
   ],
   "source": [
    "my_list_max([10, 11], [11, 12])"
   ]
  },
  {
   "cell_type": "markdown",
   "id": "9474835c-751f-4591-9815-439099dd7bf1",
   "metadata": {},
   "source": [
    "## 함수의 인수"
   ]
  },
  {
   "cell_type": "markdown",
   "id": "0b6ef8b4-d14a-43d6-a442-ddefe840c86e",
   "metadata": {},
   "source": [
    "### 위치 인수\n",
    "기본적으로 함수는 인수의 위치로 판단합니다."
   ]
  },
  {
   "cell_type": "code",
   "execution_count": 3,
   "id": "032a5527-e03d-49c3-be83-a477c9573509",
   "metadata": {},
   "outputs": [
    {
     "name": "stdout",
     "output_type": "stream",
     "text": [
      "1570.0\n",
      "785.0\n"
     ]
    }
   ],
   "source": [
    "def cylinder(r, h):\n",
    "    return 3.14 * r**2 * h\n",
    "\n",
    "print(cylinder(10, 5))\n",
    "print(cylinder(5,10))"
   ]
  },
  {
   "cell_type": "markdown",
   "id": "4f17fa37-29d7-408b-bc67-67f78815a1ef",
   "metadata": {},
   "source": [
    "### 기본값\n",
    "\n",
    "```python\n",
    "def func(p1=v1):\n",
    "    return v1\n",
    "```"
   ]
  },
  {
   "cell_type": "code",
   "execution_count": 6,
   "id": "41430e2d-bfe7-469f-a39f-fb485c1244a1",
   "metadata": {},
   "outputs": [
    {
     "name": "stdout",
     "output_type": "stream",
     "text": [
      "서연님 반갑습니다.\n",
      "익명님 반갑습니다.\n"
     ]
    }
   ],
   "source": [
    "def greeting(name='익명'):\n",
    "    return f'{name}님 반갑습니다.'\n",
    "\n",
    "print(greeting('서연'))\n",
    "print(greeting())"
   ]
  },
  {
   "cell_type": "code",
   "execution_count": 7,
   "id": "4af4a01a-39fc-48ca-a6f2-f3c774701fc4",
   "metadata": {},
   "outputs": [
    {
     "ename": "SyntaxError",
     "evalue": "non-default argument follows default argument (2157677426.py, line 1)",
     "output_type": "error",
     "traceback": [
      "\u001b[1;36m  Cell \u001b[1;32mIn[7], line 1\u001b[1;36m\u001b[0m\n\u001b[1;33m    def greeting(name='익명', age):\u001b[0m\n\u001b[1;37m                            ^\u001b[0m\n\u001b[1;31mSyntaxError\u001b[0m\u001b[1;31m:\u001b[0m non-default argument follows default argument\n"
     ]
    }
   ],
   "source": [
    "def greeting(name='익명', age):\n",
    "    return f'{name}님은 {age}입니다.'\n"
   ]
  },
  {
   "cell_type": "code",
   "execution_count": 8,
   "id": "0f2b3778-4717-4e02-abd1-1e79a8ce677f",
   "metadata": {},
   "outputs": [
    {
     "name": "stdout",
     "output_type": "stream",
     "text": [
      "홍길동님은 10살 입니다.\n",
      "익명님은 20살 입니다.\n"
     ]
    }
   ],
   "source": [
    "def greeting(age, name='익명'):\n",
    "    return f'{name}님은 {age}살 입니다.'\n",
    "\n",
    "print(greeting(10, '홍길동'))\n",
    "print(greeting(20))"
   ]
  },
  {
   "cell_type": "markdown",
   "id": "7dafdd61-d86c-4228-9567-7071f6def397",
   "metadata": {},
   "source": [
    "### 키워드 인자\n",
    "함수를 호출(실행)할 때 내가 원하는 위치에 직접적으로 특정 인자를 전달 가능"
   ]
  },
  {
   "cell_type": "code",
   "execution_count": 11,
   "id": "b29e7ca0-9ac4-4f87-bd4d-c7daeedcbf7b",
   "metadata": {},
   "outputs": [
    {
     "name": "stdout",
     "output_type": "stream",
     "text": [
      "홍길동님은 10살 입니다.\n",
      "홍길동님은 10살 입니다.\n"
     ]
    }
   ],
   "source": [
    "def greeting(age, name='익명'):\n",
    "    return f'{name}님은 {age}살 입니다.'\n",
    "\n",
    "print(greeting(10, '홍길동'))\n",
    "print(greeting(name='홍길동', age=10))"
   ]
  },
  {
   "cell_type": "code",
   "execution_count": 15,
   "id": "2552c491-0b8d-49cf-9c0d-4c7e8786350f",
   "metadata": {},
   "outputs": [
    {
     "name": "stdout",
     "output_type": "stream",
     "text": [
      "안녕\n",
      "안녕!하세요!hi!hello?"
     ]
    }
   ],
   "source": [
    "print('안녕')\n",
    "print('안녕', '하세요', 'hi', 'hello', sep='!', end='?')"
   ]
  },
  {
   "cell_type": "markdown",
   "id": "02b8d6b6-bd04-45a0-92d0-269b1f74cbcd",
   "metadata": {},
   "source": [
    "### 가변 인자 리스트\n",
    "```python\n",
    "def func(*params):\n",
    "    pass\n",
    "```"
   ]
  },
  {
   "cell_type": "code",
   "execution_count": 17,
   "id": "31aba20d-b666-4b69-9740-20c100d9b85d",
   "metadata": {},
   "outputs": [
    {
     "name": "stdout",
     "output_type": "stream",
     "text": [
      "('hi', 'hello', '안녕', '하세요')\n",
      "<class 'tuple'>\n"
     ]
    }
   ],
   "source": [
    "def my_print(*words):\n",
    "    print(words)\n",
    "    print(type(words))\n",
    "\n",
    "my_print('hi', 'hello', '안녕', '하세요')"
   ]
  },
  {
   "cell_type": "code",
   "execution_count": 27,
   "id": "983bf422-34db-4f08-a9a3-4375e03d42e6",
   "metadata": {},
   "outputs": [],
   "source": [
    "def my_max(*numbers):\n",
    "    result = numbers[0]\n",
    "\n",
    "    for number in numbers:\n",
    "        if result < number:\n",
    "            result = number\n",
    "\n",
    "    return result\n"
   ]
  },
  {
   "cell_type": "code",
   "execution_count": 28,
   "id": "0b2b0bde-d6f1-4b12-ae19-b63f12d9b365",
   "metadata": {},
   "outputs": [
    {
     "name": "stdout",
     "output_type": "stream",
     "text": [
      "5\n",
      "-1\n"
     ]
    }
   ],
   "source": [
    "print(my_max(1, 2, 3, 4, 5))\n",
    "print(my_max(-1, -2, -3, -4))"
   ]
  },
  {
   "cell_type": "code",
   "execution_count": 29,
   "id": "df03aff8-1ba6-4fa9-a2aa-e85555793ca7",
   "metadata": {},
   "outputs": [
    {
     "data": {
      "text/plain": [
       "-1"
      ]
     },
     "execution_count": 29,
     "metadata": {},
     "output_type": "execute_result"
    }
   ],
   "source": [
    "max(-1, -2, -3, -4, -5)"
   ]
  },
  {
   "cell_type": "markdown",
   "id": "93b35c8c-8560-48c5-a5a0-2d3ac53d6f5d",
   "metadata": {},
   "source": [
    "### 정의되지 않은 키워드 인자 처리하기\n",
    "\n",
    "```python\n",
    "def func(**kwargs):\n",
    "    pass\n",
    "```"
   ]
  },
  {
   "cell_type": "code",
   "execution_count": 30,
   "id": "979ddd10-7350-48eb-bc75-1780ff84a473",
   "metadata": {},
   "outputs": [
    {
     "data": {
      "text/plain": [
       "{'name': 'hong', 'age': 20}"
      ]
     },
     "execution_count": 30,
     "metadata": {},
     "output_type": "execute_result"
    }
   ],
   "source": [
    "info = {\n",
    "    'name': 'hong',\n",
    "    'age': 20,\n",
    "}\n",
    "\n",
    "info"
   ]
  },
  {
   "cell_type": "code",
   "execution_count": 32,
   "id": "f4b5aaa8-d1e7-4df6-9814-d173f110b4ec",
   "metadata": {},
   "outputs": [
    {
     "name": "stdout",
     "output_type": "stream",
     "text": [
      "{'name': 'hong', 'age': 20, 'asdf': 1234}\n"
     ]
    }
   ],
   "source": [
    "info = dict(name='hong', age=20, asdf=1234)\n",
    "print(info)"
   ]
  },
  {
   "cell_type": "code",
   "execution_count": 36,
   "id": "51cc91d1-c721-4f43-96f9-d73b59c72430",
   "metadata": {},
   "outputs": [
    {
     "name": "stdout",
     "output_type": "stream",
     "text": [
      "korean는 안녕입니다.\n",
      "english는 hello입니다.\n"
     ]
    }
   ],
   "source": [
    "def fake_dict(**kwargs):\n",
    "    for key, value in kwargs.items():\n",
    "        print(f'{key}는 {value}입니다.')\n",
    "\n",
    "fake_dict(korean='안녕', english='hello')"
   ]
  },
  {
   "cell_type": "markdown",
   "id": "13be2716-2b70-4ee1-9066-effc8165b93b",
   "metadata": {},
   "source": [
    "### 딕셔너리를 인자로 넣기(unpacking)"
   ]
  },
  {
   "cell_type": "code",
   "execution_count": 43,
   "id": "415b9eee-5c95-460b-b20e-28b38b617e78",
   "metadata": {},
   "outputs": [
    {
     "name": "stdout",
     "output_type": "stream",
     "text": [
      "비밀번호가 일치하지 않습니다.\n"
     ]
    }
   ],
   "source": [
    "def sign_up(username, password, password_confirmation):\n",
    "    if password == password_confirmation:\n",
    "        print(f'{username}님 회원가입이 완료되었습니다.')\n",
    "    else:\n",
    "        print(f'비밀번호가 일치하지 않습니다.')\n",
    "\n",
    "sign_up('seoyon', 'qwer1234', 'qwer12345')"
   ]
  },
  {
   "cell_type": "code",
   "execution_count": 44,
   "id": "81f3985f-52b1-4fe7-8c95-53a7b46cca4e",
   "metadata": {},
   "outputs": [
    {
     "name": "stdout",
     "output_type": "stream",
     "text": [
      "asdf1234님 회원가입이 완료되었습니다.\n"
     ]
    }
   ],
   "source": [
    "my_account = {\n",
    "    'username': 'asdf1234',\n",
    "    'password': '1q2w3e4r',\n",
    "    'password_confirmation': '1q2w3e4r',\n",
    "}\n",
    "\n",
    "sign_up(**my_account)"
   ]
  },
  {
   "cell_type": "markdown",
   "id": "5d177669-74aa-4038-b839-4681263f3c87",
   "metadata": {},
   "source": [
    "### lambda 표현식\n",
    "\n",
    "```python\n",
    "lambda parameter: expression\n",
    "```"
   ]
  },
  {
   "cell_type": "code",
   "execution_count": 46,
   "id": "e91a5a74-2a0a-482f-a7d1-0c0c8f7db21d",
   "metadata": {},
   "outputs": [
    {
     "data": {
      "text/plain": [
       "3"
      ]
     },
     "execution_count": 46,
     "metadata": {},
     "output_type": "execute_result"
    }
   ],
   "source": [
    "(lambda a, b: a + b)(1, 2)"
   ]
  },
  {
   "cell_type": "code",
   "execution_count": 48,
   "id": "43837b3c-fdd1-4dd4-85b5-e1a6f5ea0bc5",
   "metadata": {},
   "outputs": [
    {
     "ename": "TypeError",
     "evalue": "can only concatenate str (not \"int\") to str",
     "output_type": "error",
     "traceback": [
      "\u001b[1;31m---------------------------------------------------------------------------\u001b[0m",
      "\u001b[1;31mTypeError\u001b[0m                                 Traceback (most recent call last)",
      "Cell \u001b[1;32mIn[48], line 5\u001b[0m\n\u001b[0;32m      2\u001b[0m     \u001b[38;5;28;01mreturn\u001b[39;00m a \u001b[38;5;241m+\u001b[39m b\n\u001b[0;32m      4\u001b[0m my_sum(\u001b[38;5;241m1\u001b[39m, \u001b[38;5;241m2\u001b[39m)\n\u001b[1;32m----> 5\u001b[0m my_sum(\u001b[38;5;124;43m'\u001b[39;49m\u001b[38;5;124;43m1\u001b[39;49m\u001b[38;5;124;43m'\u001b[39;49m\u001b[43m \u001b[49m\u001b[38;5;241;43m+\u001b[39;49m\u001b[43m \u001b[49m\u001b[38;5;241;43m2\u001b[39;49m)\n",
      "\u001b[1;31mTypeError\u001b[0m: can only concatenate str (not \"int\") to str"
     ]
    }
   ],
   "source": [
    "def my_sum(a, b):\n",
    "    return a + b\n",
    "\n",
    "my_sum(1, 2)\n",
    "my_sum('1' + 2)"
   ]
  },
  {
   "cell_type": "markdown",
   "id": "27f305cd-2f00-45e6-82ea-d0ecd665b8f5",
   "metadata": {},
   "source": [
    "### 타입 힌트"
   ]
  },
  {
   "cell_type": "code",
   "execution_count": 53,
   "id": "dfeb9418-a9db-4743-a068-af06adf327f8",
   "metadata": {},
   "outputs": [
    {
     "ename": "TypeError",
     "evalue": "can only concatenate str (not \"int\") to str",
     "output_type": "error",
     "traceback": [
      "\u001b[1;31m---------------------------------------------------------------------------\u001b[0m",
      "\u001b[1;31mTypeError\u001b[0m                                 Traceback (most recent call last)",
      "Cell \u001b[1;32mIn[53], line 9\u001b[0m\n\u001b[0;32m      6\u001b[0m     \u001b[38;5;28;01mreturn\u001b[39;00m num1 \u001b[38;5;241m+\u001b[39m num2\n\u001b[0;32m      8\u001b[0m my_sum(\u001b[38;5;241m1\u001b[39m, \u001b[38;5;241m2\u001b[39m)\n\u001b[1;32m----> 9\u001b[0m \u001b[43mmy_sum\u001b[49m\u001b[43m(\u001b[49m\u001b[38;5;124;43m'\u001b[39;49m\u001b[38;5;124;43m1\u001b[39;49m\u001b[38;5;124;43m'\u001b[39;49m\u001b[43m,\u001b[49m\u001b[43m \u001b[49m\u001b[38;5;241;43m2\u001b[39;49m\u001b[43m)\u001b[49m\n",
      "Cell \u001b[1;32mIn[53], line 6\u001b[0m, in \u001b[0;36mmy_sum\u001b[1;34m(num1, num2)\u001b[0m\n\u001b[0;32m      1\u001b[0m \u001b[38;5;28;01mdef\u001b[39;00m \u001b[38;5;21mmy_sum\u001b[39m(num1: \u001b[38;5;28mint\u001b[39m, num2: \u001b[38;5;28mint\u001b[39m) \u001b[38;5;241m-\u001b[39m\u001b[38;5;241m>\u001b[39m \u001b[38;5;28mint\u001b[39m:\n\u001b[0;32m      2\u001b[0m \u001b[38;5;250m    \u001b[39m\u001b[38;5;124;03m'''\u001b[39;00m\n\u001b[0;32m      3\u001b[0m \u001b[38;5;124;03m    두수의 합을 구하는 함수입니다.\u001b[39;00m\n\u001b[0;32m      4\u001b[0m \u001b[38;5;124;03m    매개변수 num1, num2fmf 받아서 num1 + num2를 리턴합니다.\u001b[39;00m\n\u001b[0;32m      5\u001b[0m \u001b[38;5;124;03m    '''\u001b[39;00m\n\u001b[1;32m----> 6\u001b[0m     \u001b[38;5;28;01mreturn\u001b[39;00m \u001b[43mnum1\u001b[49m\u001b[43m \u001b[49m\u001b[38;5;241;43m+\u001b[39;49m\u001b[43m \u001b[49m\u001b[43mnum2\u001b[49m\n",
      "\u001b[1;31mTypeError\u001b[0m: can only concatenate str (not \"int\") to str"
     ]
    }
   ],
   "source": [
    "def my_sum(num1: int, num2: int) -> int:\n",
    "    '''\n",
    "    두수의 합을 구하는 함수입니다.\n",
    "    매개변수 num1, num2fmf 받아서 num1 + num2를 리턴합니다.\n",
    "    '''\n",
    "    return num1 + num2\n",
    "\n",
    "my_sum(1, 2)\n",
    "my_sum('1', 2)"
   ]
  },
  {
   "cell_type": "markdown",
   "id": "a700ed42-2d03-4903-a2c9-23e15f9f5eca",
   "metadata": {},
   "source": [
    "### 이름공간 (scope)\n",
    "파이썬에서 사용되는 이름들은 이름공간(namespace)에 저장되어 있습니다.\n",
    "\n",
    "- Local scope : 정의된 함수 내부\n",
    "- Enclosed scope : 상위 함수\n",
    "- Global scope : 함수 밖의 변수 혹은 import된 모듈\n",
    "- Build-in scope : 파이썬이 기본적으로 가지고 있는 함수 혹은 변수"
   ]
  },
  {
   "cell_type": "code",
   "execution_count": 61,
   "id": "86241f29-9637-4746-a114-fd4b3de626a5",
   "metadata": {},
   "outputs": [],
   "source": [
    "str = '123'"
   ]
  },
  {
   "cell_type": "code",
   "execution_count": 62,
   "id": "a9ed5b8e-b0bb-46f2-9220-58cfdb7ddf02",
   "metadata": {},
   "outputs": [
    {
     "name": "stdout",
     "output_type": "stream",
     "text": [
      "123\n"
     ]
    }
   ],
   "source": [
    "print(str)"
   ]
  },
  {
   "cell_type": "code",
   "execution_count": 56,
   "id": "18517257-ffc6-4e82-8ba7-2bd4edb4dcfc",
   "metadata": {},
   "outputs": [
    {
     "ename": "TypeError",
     "evalue": "'str' object is not callable",
     "output_type": "error",
     "traceback": [
      "\u001b[1;31m---------------------------------------------------------------------------\u001b[0m",
      "\u001b[1;31mTypeError\u001b[0m                                 Traceback (most recent call last)",
      "Cell \u001b[1;32mIn[56], line 1\u001b[0m\n\u001b[1;32m----> 1\u001b[0m \u001b[38;5;28;43mstr\u001b[39;49m\u001b[43m(\u001b[49m\u001b[38;5;241;43m789\u001b[39;49m\u001b[43m)\u001b[49m\n",
      "\u001b[1;31mTypeError\u001b[0m: 'str' object is not callable"
     ]
    }
   ],
   "source": [
    "str(789)"
   ]
  },
  {
   "cell_type": "code",
   "execution_count": 63,
   "id": "de80bf8c-989e-4dc1-acb5-22ab243b65ba",
   "metadata": {},
   "outputs": [],
   "source": [
    "del str"
   ]
  },
  {
   "cell_type": "code",
   "execution_count": 60,
   "id": "ddcadf40-9d38-47ee-9920-201d7081aafd",
   "metadata": {},
   "outputs": [
    {
     "name": "stdout",
     "output_type": "stream",
     "text": [
      "5\n"
     ]
    }
   ],
   "source": [
    "a = 1\n",
    "def localscope(a):\n",
    "    print(a)\n",
    "\n",
    "localscope(5)"
   ]
  },
  {
   "cell_type": "code",
   "execution_count": 65,
   "id": "9a965e80-2d91-45ee-8007-61993902577f",
   "metadata": {},
   "outputs": [
    {
     "name": "stdout",
     "output_type": "stream",
     "text": [
      "20\n",
      "20\n"
     ]
    }
   ],
   "source": [
    "num = 10\n",
    "def scope():\n",
    "    global num\n",
    "    num = 20\n",
    "    print(num)\n",
    "\n",
    "scope()\n",
    "print(num)"
   ]
  },
  {
   "cell_type": "markdown",
   "id": "98c713e0-d7d8-4786-98af-13a33ebcc356",
   "metadata": {},
   "source": [
    "## 재귀 (recursive)\n",
    "재귀 함수는 함수 내부에서 자기 자신을 호출하는 함수를 의미한다."
   ]
  },
  {
   "cell_type": "code",
   "execution_count": 67,
   "id": "12252e6a-667a-4242-b930-9f274bcd9443",
   "metadata": {},
   "outputs": [
    {
     "data": {
      "text/plain": [
       "120"
      ]
     },
     "execution_count": 67,
     "metadata": {},
     "output_type": "execute_result"
    }
   ],
   "source": [
    "# 팩토리얼\n",
    "def fact(n):\n",
    "    result = 1\n",
    "\n",
    "    while n > 1:\n",
    "        result = result * n\n",
    "        # result *= n\n",
    "        n = n - 1\n",
    "        # n -= 1\n",
    "    return result\n",
    "\n",
    "fact(5)"
   ]
  },
  {
   "cell_type": "markdown",
   "id": "1bce1105-fd93-4859-9d4d-e8f4e60095bd",
   "metadata": {},
   "source": [
    "```\n",
    "1! = 1\n",
    "2! = 1 * 2 = 1! * 2\n",
    "3! = 1 * 2 * 3 = 2! * 3\n",
    "\n",
    "fact(5)\n",
    "fact( fact(4) * 5)\n",
    "fact( fact( fact(3) *4 ) * 5 )\n",
    "\n",
    "print('hello')\n",
    "```"
   ]
  },
  {
   "cell_type": "code",
   "execution_count": 68,
   "id": "23cf692f-afd0-415a-9cb1-1ae98478540a",
   "metadata": {},
   "outputs": [
    {
     "data": {
      "text/plain": [
       "120"
      ]
     },
     "execution_count": 68,
     "metadata": {},
     "output_type": "execute_result"
    }
   ],
   "source": [
    "def factorial(n):\n",
    "    if n <= 1:\n",
    "        return 1\n",
    "    else:\n",
    "        return factorial(n-1) * n\n",
    "        # 10! = 9! * 10 = ... = 1! ... = 0! * 1\n",
    "\n",
    "factorial(5)"
   ]
  },
  {
   "cell_type": "code",
   "execution_count": 69,
   "id": "b56c704a-ff4d-406f-b94d-58cb86a10595",
   "metadata": {},
   "outputs": [],
   "source": [
    "# def test_error(n):\n",
    "#     return test_error(n)\n",
    "# test_error(1)"
   ]
  },
  {
   "cell_type": "markdown",
   "id": "328529be-e3d6-4ba0-a7b6-6b7cc49f171f",
   "metadata": {},
   "source": [
    "### 피보나치 수열\n",
    "\n",
    "```\n",
    "F(0) = F(1) = 1\n",
    "F(n) = F(n-1) + F(n-2)\n",
    "\n",
    "```"
   ]
  },
  {
   "cell_type": "code",
   "execution_count": 82,
   "id": "3d92aa1a-f8a3-466f-b470-de9baa6e60cc",
   "metadata": {},
   "outputs": [
    {
     "data": {
      "text/plain": [
       "89"
      ]
     },
     "execution_count": 82,
     "metadata": {},
     "output_type": "execute_result"
    }
   ],
   "source": [
    "# 반복문\n",
    "def fib_loop(n):\n",
    "    result = [1, 1]\n",
    "\n",
    "    for i in range(1, n):\n",
    "        end1 = result[-1]\n",
    "        end2 = result[len(result)-2]\n",
    "        fib_num = end1 + end2\n",
    "\n",
    "        result.append(fib_num)\n",
    "    return result[-1]\n",
    "\n",
    "fib_loop(10)"
   ]
  },
  {
   "cell_type": "code",
   "execution_count": 84,
   "id": "e0c31a31-0ea0-4bb7-b7b6-97077658f20e",
   "metadata": {},
   "outputs": [
    {
     "ename": "KeyboardInterrupt",
     "evalue": "",
     "output_type": "error",
     "traceback": [
      "\u001b[1;31m---------------------------------------------------------------------------\u001b[0m",
      "\u001b[1;31mKeyboardInterrupt\u001b[0m                         Traceback (most recent call last)",
      "Cell \u001b[1;32mIn[84], line 8\u001b[0m\n\u001b[0;32m      5\u001b[0m     \u001b[38;5;28;01melse\u001b[39;00m:\n\u001b[0;32m      6\u001b[0m         \u001b[38;5;28;01mreturn\u001b[39;00m fib_rec(n\u001b[38;5;241m-\u001b[39m\u001b[38;5;241m1\u001b[39m) \u001b[38;5;241m+\u001b[39m fib_rec(n\u001b[38;5;241m-\u001b[39m\u001b[38;5;241m2\u001b[39m)\n\u001b[1;32m----> 8\u001b[0m \u001b[43mfib_rec\u001b[49m\u001b[43m(\u001b[49m\u001b[38;5;241;43m100\u001b[39;49m\u001b[43m)\u001b[49m\n",
      "Cell \u001b[1;32mIn[84], line 6\u001b[0m, in \u001b[0;36mfib_rec\u001b[1;34m(n)\u001b[0m\n\u001b[0;32m      4\u001b[0m     \u001b[38;5;28;01mreturn\u001b[39;00m \u001b[38;5;241m1\u001b[39m\n\u001b[0;32m      5\u001b[0m \u001b[38;5;28;01melse\u001b[39;00m:\n\u001b[1;32m----> 6\u001b[0m     \u001b[38;5;28;01mreturn\u001b[39;00m \u001b[43mfib_rec\u001b[49m\u001b[43m(\u001b[49m\u001b[43mn\u001b[49m\u001b[38;5;241;43m-\u001b[39;49m\u001b[38;5;241;43m1\u001b[39;49m\u001b[43m)\u001b[49m \u001b[38;5;241m+\u001b[39m fib_rec(n\u001b[38;5;241m-\u001b[39m\u001b[38;5;241m2\u001b[39m)\n",
      "Cell \u001b[1;32mIn[84], line 6\u001b[0m, in \u001b[0;36mfib_rec\u001b[1;34m(n)\u001b[0m\n\u001b[0;32m      4\u001b[0m     \u001b[38;5;28;01mreturn\u001b[39;00m \u001b[38;5;241m1\u001b[39m\n\u001b[0;32m      5\u001b[0m \u001b[38;5;28;01melse\u001b[39;00m:\n\u001b[1;32m----> 6\u001b[0m     \u001b[38;5;28;01mreturn\u001b[39;00m \u001b[43mfib_rec\u001b[49m\u001b[43m(\u001b[49m\u001b[43mn\u001b[49m\u001b[38;5;241;43m-\u001b[39;49m\u001b[38;5;241;43m1\u001b[39;49m\u001b[43m)\u001b[49m \u001b[38;5;241m+\u001b[39m fib_rec(n\u001b[38;5;241m-\u001b[39m\u001b[38;5;241m2\u001b[39m)\n",
      "    \u001b[1;31m[... skipping similar frames: fib_rec at line 6 (85 times)]\u001b[0m\n",
      "Cell \u001b[1;32mIn[84], line 6\u001b[0m, in \u001b[0;36mfib_rec\u001b[1;34m(n)\u001b[0m\n\u001b[0;32m      4\u001b[0m     \u001b[38;5;28;01mreturn\u001b[39;00m \u001b[38;5;241m1\u001b[39m\n\u001b[0;32m      5\u001b[0m \u001b[38;5;28;01melse\u001b[39;00m:\n\u001b[1;32m----> 6\u001b[0m     \u001b[38;5;28;01mreturn\u001b[39;00m fib_rec(n\u001b[38;5;241m-\u001b[39m\u001b[38;5;241m1\u001b[39m) \u001b[38;5;241m+\u001b[39m \u001b[43mfib_rec\u001b[49m\u001b[43m(\u001b[49m\u001b[43mn\u001b[49m\u001b[38;5;241;43m-\u001b[39;49m\u001b[38;5;241;43m2\u001b[39;49m\u001b[43m)\u001b[49m\n",
      "Cell \u001b[1;32mIn[84], line 2\u001b[0m, in \u001b[0;36mfib_rec\u001b[1;34m(n)\u001b[0m\n\u001b[0;32m      1\u001b[0m \u001b[38;5;66;03m# 재귀문\u001b[39;00m\n\u001b[1;32m----> 2\u001b[0m \u001b[38;5;28;01mdef\u001b[39;00m \u001b[38;5;21mfib_rec\u001b[39m(n):\n\u001b[0;32m      3\u001b[0m     \u001b[38;5;28;01mif\u001b[39;00m n \u001b[38;5;241m==\u001b[39m \u001b[38;5;241m0\u001b[39m \u001b[38;5;129;01mor\u001b[39;00m n \u001b[38;5;241m==\u001b[39m \u001b[38;5;241m1\u001b[39m:\n\u001b[0;32m      4\u001b[0m         \u001b[38;5;28;01mreturn\u001b[39;00m \u001b[38;5;241m1\u001b[39m\n",
      "\u001b[1;31mKeyboardInterrupt\u001b[0m: "
     ]
    }
   ],
   "source": [
    "# 재귀문\n",
    "def fib_rec(n):\n",
    "    if n == 0 or n == 1:\n",
    "        return 1\n",
    "    else:\n",
    "        return fib_rec(n-1) + fib_rec(n-2)\n",
    "\n",
    "fib_rec(100)"
   ]
  },
  {
   "cell_type": "code",
   "execution_count": 79,
   "id": "35e7b6b4-6778-450c-ad52-1bd976d38f2d",
   "metadata": {},
   "outputs": [
    {
     "data": {
      "text/plain": [
       "4"
      ]
     },
     "execution_count": 79,
     "metadata": {},
     "output_type": "execute_result"
    }
   ],
   "source": [
    "a = [1, 2, 3, 4, 5]\n",
    "a[-2]"
   ]
  },
  {
   "cell_type": "code",
   "execution_count": null,
   "id": "0cd26e1f-00fc-4353-98df-27220a27d5be",
   "metadata": {},
   "outputs": [],
   "source": []
  },
  {
   "cell_type": "code",
   "execution_count": null,
   "id": "4ce0fec0-5517-4a91-8585-53add781319f",
   "metadata": {},
   "outputs": [],
   "source": []
  },
  {
   "cell_type": "code",
   "execution_count": null,
   "id": "cc9fc39d-fdb9-406e-9155-93e83e8e1f47",
   "metadata": {},
   "outputs": [],
   "source": []
  }
 ],
 "metadata": {
  "kernelspec": {
   "display_name": "Python 3 (ipykernel)",
   "language": "python",
   "name": "python3"
  },
  "language_info": {
   "codemirror_mode": {
    "name": "ipython",
    "version": 3
   },
   "file_extension": ".py",
   "mimetype": "text/x-python",
   "name": "python",
   "nbconvert_exporter": "python",
   "pygments_lexer": "ipython3",
   "version": "3.11.4"
  }
 },
 "nbformat": 4,
 "nbformat_minor": 5
}
