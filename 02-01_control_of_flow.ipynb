{
 "cells": [
  {
   "cell_type": "markdown",
   "id": "5e83380e-d5b8-4d94-8a9b-a196b912be7e",
   "metadata": {},
   "source": [
    "## for\n",
    "정해진 범위 내의 반복 (작업량을 할당)\n",
    "```python\n",
    "for variable in sequence:\n",
    "    code\n",
    "```"
   ]
  },
  {
   "cell_type": "code",
   "execution_count": 1,
   "id": "8ca9cb00-2b49-4dd4-be3d-1c9ab8676dcb",
   "metadata": {},
   "outputs": [
    {
     "name": "stdout",
     "output_type": "stream",
     "text": [
      "1\n",
      "2\n",
      "3\n",
      "4\n",
      "5\n"
     ]
    }
   ],
   "source": [
    "numbers = [1, 2, 3, 4, 5]\n",
    "\n",
    "for number in numbers:\n",
    "    print(number)"
   ]
  },
  {
   "cell_type": "code",
   "execution_count": 2,
   "id": "c72e88ff-1644-4c11-b2ea-675a6f5a1c86",
   "metadata": {},
   "outputs": [
    {
     "name": "stdin",
     "output_type": "stream",
     "text": [
      "단어를 입력하세요:  apple\n"
     ]
    },
    {
     "name": "stdout",
     "output_type": "stream",
     "text": [
      "a\n",
      "p\n",
      "p\n",
      "l\n",
      "e\n"
     ]
    }
   ],
   "source": [
    "# for문을 사용해서 사용자가 입력한 데이터를 한 글자씩 출력하는 코드\n",
    "word = input('단어를 입력하세요: ')\n",
    "\n",
    "for char in word:\n",
    "    print(char)"
   ]
  },
  {
   "cell_type": "code",
   "execution_count": 3,
   "id": "20cb64cb-30d9-43c1-a843-94cd730dfc20",
   "metadata": {},
   "outputs": [
    {
     "name": "stdout",
     "output_type": "stream",
     "text": [
      "0\n",
      "1\n",
      "2\n",
      "3\n",
      "4\n"
     ]
    }
   ],
   "source": [
    "for i in range(5):\n",
    "    print(i)"
   ]
  },
  {
   "cell_type": "code",
   "execution_count": 4,
   "id": "ab810e57-8e24-49e4-ae9c-09a70eb9b921",
   "metadata": {},
   "outputs": [
    {
     "name": "stdout",
     "output_type": "stream",
     "text": [
      "1\n",
      "2\n",
      "3\n",
      "4\n",
      "5\n"
     ]
    }
   ],
   "source": [
    "for i in (1, 2, 3, 4, 5):\n",
    "    print(i)"
   ]
  },
  {
   "cell_type": "code",
   "execution_count": 5,
   "id": "9dad753d-6611-4b41-8501-f933ad698d9e",
   "metadata": {},
   "outputs": [
    {
     "name": "stdout",
     "output_type": "stream",
     "text": [
      "[1, 3, 5, 7, 9, 11, 13, 15, 17, 19, 21, 23, 25, 27, 29]\n"
     ]
    }
   ],
   "source": [
    "# 1~30까지 숫자 중에서 홀수만 담긴 리스트를 출력\n",
    "\n",
    "numbers = range(31)\n",
    "result = []\n",
    "\n",
    "for number in numbers:\n",
    "    if number %2 == 1:\n",
    "       result.append(number)\n",
    "\n",
    "print(result)"
   ]
  },
  {
   "cell_type": "code",
   "execution_count": 14,
   "id": "ad41e980-23bb-4594-be6e-a33d5cad689b",
   "metadata": {},
   "outputs": [
    {
     "name": "stdout",
     "output_type": "stream",
     "text": [
      "[0, 1, 2]\n"
     ]
    }
   ],
   "source": [
    "menus = ['라면', '김밥', '돈까스']\n",
    "result = []\n",
    "for idx, menu in enumerate(menus):\n",
    "    result.append(idx)\n",
    "print(result)"
   ]
  },
  {
   "cell_type": "markdown",
   "id": "8da323e5-e8fb-4bc4-83bd-f2cf301cfbd2",
   "metadata": {},
   "source": [
    "## dictionary 반복\n",
    "\n",
    "1. for key in dict:\n",
    "2. for key in dict.keys():\n",
    "3. for value in dict.values():\n",
    "4. for key, value in dict.items():"
   ]
  },
  {
   "cell_type": "code",
   "execution_count": 15,
   "id": "e934e6b8-c221-4cf5-9f9b-0c6a44e56d49",
   "metadata": {},
   "outputs": [],
   "source": [
    "info = {\n",
    "    'name': 'seoyon',\n",
    "    'location': 'seoul',\n",
    "    'phone': '010-2222-2222'\n",
    "}"
   ]
  },
  {
   "cell_type": "code",
   "execution_count": 19,
   "id": "758a6502-aeab-45fb-b23d-fdf1b5d9acdd",
   "metadata": {},
   "outputs": [
    {
     "name": "stdout",
     "output_type": "stream",
     "text": [
      "name\n",
      "seoyon\n",
      "location\n",
      "seoul\n",
      "phone\n",
      "010-2222-2222\n"
     ]
    }
   ],
   "source": [
    "for i in info:\n",
    "    print(i)\n",
    "    print(info[i])"
   ]
  },
  {
   "cell_type": "code",
   "execution_count": 20,
   "id": "0d9af5f3-0173-449a-b9e2-b2330ed0028d",
   "metadata": {},
   "outputs": [],
   "source": [
    "blood_type = {\n",
    "    'A' : 5,\n",
    "    'B' : 4,\n",
    "    'O' : 2,\n",
    "    'AB' : 3,\n",
    "}"
   ]
  },
  {
   "cell_type": "code",
   "execution_count": 25,
   "id": "8bd12d23-d57c-4ead-b9b0-58549203d84c",
   "metadata": {},
   "outputs": [
    {
     "name": "stdout",
     "output_type": "stream",
     "text": [
      "혈액형 목록은 다음과 같습니다.\n",
      "5\n",
      "4\n",
      "2\n",
      "3\n"
     ]
    }
   ],
   "source": [
    "print('혈액형 목록은 다음과 같습니다.')\n",
    "for key in blood_type():\n",
    "    print(key)"
   ]
  },
  {
   "cell_type": "code",
   "execution_count": 26,
   "id": "e85fb20b-44cf-44f1-83df-b6b03a8db284",
   "metadata": {},
   "outputs": [
    {
     "name": "stdout",
     "output_type": "stream",
     "text": [
      "총 인원은 14명입니다.\n"
     ]
    }
   ],
   "source": [
    "result = 0\n",
    "\n",
    "for value in blood_type.values():\n",
    "    result += value\n",
    "print(f'총 인원은 {result}명입니다.')"
   ]
  },
  {
   "cell_type": "code",
   "execution_count": 27,
   "id": "505105bd-fe1a-43a0-8dc7-705abdd17c28",
   "metadata": {},
   "outputs": [
    {
     "name": "stdout",
     "output_type": "stream",
     "text": [
      "A형은 5명입니다.\n",
      "B형은 4명입니다.\n",
      "O형은 2명입니다.\n",
      "AB형은 3명입니다.\n"
     ]
    }
   ],
   "source": [
    "for key, value in blood_type.items():\n",
    "    print(f'{key}형은 {value}명입니다.')"
   ]
  },
  {
   "cell_type": "code",
   "execution_count": 28,
   "id": "1cd7213f-b5bb-43f6-8bb7-c61e50dbfb1e",
   "metadata": {},
   "outputs": [
    {
     "data": {
      "text/plain": [
       "dict_items([('A', 5), ('B', 4), ('O', 2), ('AB', 3)])"
      ]
     },
     "execution_count": 28,
     "metadata": {},
     "output_type": "execute_result"
    }
   ],
   "source": [
    "blood_type.items()"
   ]
  },
  {
   "cell_type": "markdown",
   "id": "6287b027-a90a-4b0f-a4b2-76dbd7c6e4c2",
   "metadata": {},
   "source": [
    "## break\n",
    "반복문을 종료시키는 키워드"
   ]
  },
  {
   "cell_type": "code",
   "execution_count": 29,
   "id": "aeb36133-8a6c-40a5-8c39-c875a6bc6d2a",
   "metadata": {},
   "outputs": [
    {
     "name": "stdout",
     "output_type": "stream",
     "text": [
      "0\n",
      "1\n",
      "2\n",
      "3\n",
      "4\n",
      "5\n",
      "6\n",
      "7\n",
      "8\n",
      "9\n",
      "10\n",
      "10 넘었어\n"
     ]
    }
   ],
   "source": [
    "for i in range(100):\n",
    "    if i > 10:\n",
    "        print('10 넘었어')\n",
    "        break\n",
    "    print(i)"
   ]
  },
  {
   "cell_type": "code",
   "execution_count": 30,
   "id": "0d867d29-2693-4a72-b806-7e64a4ab19d6",
   "metadata": {},
   "outputs": [],
   "source": [
    "rice = ['보리', '보리', '보리', '쌀', '보리', '보리']"
   ]
  },
  {
   "cell_type": "code",
   "execution_count": 33,
   "id": "f5bb845c-1371-4c58-aa5d-ee3b5455bb93",
   "metadata": {},
   "outputs": [
    {
     "name": "stdout",
     "output_type": "stream",
     "text": [
      "보리\n",
      "보리\n",
      "보리\n",
      "잡았다!\n"
     ]
    }
   ],
   "source": [
    "for r in rice:\n",
    "    if r == '쌀':\n",
    "        print('잡았다!')\n",
    "        break\n",
    "    print(r)"
   ]
  },
  {
   "cell_type": "code",
   "execution_count": 35,
   "id": "3b751b71-5edd-40e7-957d-254867c0d46c",
   "metadata": {},
   "outputs": [
    {
     "name": "stdout",
     "output_type": "stream",
     "text": [
      "보리\n",
      "보리\n",
      "보리\n",
      "잡았다!\n",
      "보리\n",
      "보리\n"
     ]
    }
   ],
   "source": [
    "for r in rice:\n",
    "    if r == '쌀':\n",
    "        print('잡았다!')\n",
    "        continue\n",
    "    print(r)"
   ]
  },
  {
   "cell_type": "code",
   "execution_count": null,
   "id": "bdeab169-4822-43de-9716-f0949334326e",
   "metadata": {},
   "outputs": [],
   "source": []
  },
  {
   "cell_type": "markdown",
   "id": "b9f7cd1a-e1de-4b3a-8011-499082f12883",
   "metadata": {},
   "source": [
    "## continue\n",
    "continue 이후의 코드를 실행하지 않고 다음 반복을 진행"
   ]
  },
  {
   "cell_type": "code",
   "execution_count": 32,
   "id": "57cfcc6f-f5ca-4aa4-a66d-2f94e19e0e4c",
   "metadata": {},
   "outputs": [
    {
     "name": "stdout",
     "output_type": "stream",
     "text": [
      "0\n",
      "2\n",
      "4\n",
      "6\n",
      "8\n"
     ]
    }
   ],
   "source": [
    "for i in range(10):\n",
    "    if i % 2:\n",
    "        continue\n",
    "    print(i)"
   ]
  },
  {
   "cell_type": "code",
   "execution_count": 36,
   "id": "c73447dc-00e6-40da-8c60-700ecb3d7bcd",
   "metadata": {},
   "outputs": [
    {
     "name": "stdout",
     "output_type": "stream",
     "text": [
      "성인입니다.\n",
      "성인입니다.\n",
      "성인입니다.\n"
     ]
    }
   ],
   "source": [
    "age = [10, 35, 20, 18, 9, 40]\n",
    "for a in age:\n",
    "    if a < 20:\n",
    "        continue\n",
    "    print('성인입니다.')"
   ]
  },
  {
   "cell_type": "markdown",
   "id": "83dcfde2-3111-4d50-a0b9-4b9bc9e886a3",
   "metadata": {},
   "source": [
    "## else\n",
    "else문은 끝까지 반복이 진행된 후 실행됩니다."
   ]
  },
  {
   "cell_type": "code",
   "execution_count": 37,
   "id": "7c69d72e-e0e5-452a-b2fa-eb137d0e078a",
   "metadata": {},
   "outputs": [
    {
     "name": "stdout",
     "output_type": "stream",
     "text": [
      "0\n",
      "1\n",
      "2\n",
      "3\n",
      "4\n",
      "5\n",
      "6\n",
      "7\n",
      "8\n",
      "9\n",
      "break 못 만남\n"
     ]
    }
   ],
   "source": [
    "for i in range(10):\n",
    "    if i > 100:\n",
    "        break\n",
    "    print(i)\n",
    "else:\n",
    "    print('break 못 만남')"
   ]
  },
  {
   "cell_type": "code",
   "execution_count": 38,
   "id": "4bb748f2-5385-40d4-a535-cbee2b879d7f",
   "metadata": {},
   "outputs": [
    {
     "name": "stdout",
     "output_type": "stream",
     "text": [
      "0\n",
      "1\n",
      "2\n",
      "3\n",
      "4\n",
      "5\n"
     ]
    }
   ],
   "source": [
    "for i in range(10):\n",
    "    if i > 5:\n",
    "        break\n",
    "    print(i)\n",
    "else:\n",
    "    print('break 못 만남')"
   ]
  },
  {
   "cell_type": "code",
   "execution_count": 39,
   "id": "c133f976-b343-4756-a11e-7ffe0e8bb901",
   "metadata": {},
   "outputs": [
    {
     "name": "stdout",
     "output_type": "stream",
     "text": [
      "True\n"
     ]
    }
   ],
   "source": [
    "numbers = [1, 3, 5, 7, 9]\n",
    "target = 9\n",
    "\n",
    "for number in numbers:\n",
    "    if number == target:\n",
    "        print('True')\n",
    "        break\n",
    "else:\n",
    "    print('False')\n",
    "# 이 else는 for에 대한 else문. 즉 break를 만나지 못했을 경우에만 실행된다. \n",
    "# Target이 9일 경우에는 break를 만나기 때문에 else문이 실행하지 않는다."
   ]
  },
  {
   "cell_type": "markdown",
   "id": "c26a476c-d62f-40ae-8bca-8efb8a9a3814",
   "metadata": {},
   "source": [
    "## pass"
   ]
  },
  {
   "cell_type": "code",
   "execution_count": 40,
   "id": "5f1cda2e-d496-4779-a9d9-e22870514f7c",
   "metadata": {},
   "outputs": [],
   "source": [
    "if True:\n",
    "    pass"
   ]
  },
  {
   "cell_type": "markdown",
   "id": "340c5ecb-7d89-4c17-92bf-ac50a9189cce",
   "metadata": {},
   "source": [
    "## match\n",
    "\n",
    "```\n",
    "match value:\n",
    "    case 조건:\n",
    "        code\n",
    "    case 조건:\n",
    "        code\n",
    "    case _:\n",
    "        code\n",
    "```"
   ]
  },
  {
   "cell_type": "code",
   "execution_count": 42,
   "id": "2294eb9c-8402-42ba-93cb-a91b8a47bb9e",
   "metadata": {},
   "outputs": [
    {
     "name": "stdout",
     "output_type": "stream",
     "text": [
      "Something is wrong.\n"
     ]
    }
   ],
   "source": [
    "status = 405\n",
    "\n",
    "match status:\n",
    "    case 400:\n",
    "        print('Bad Request')\n",
    "    case 404:\n",
    "        print('Not found')\n",
    "    case _:\n",
    "        print('Something is wrong.')"
   ]
  },
  {
   "cell_type": "code",
   "execution_count": null,
   "id": "cd00365f-de1d-416d-a1cc-78fd6c97efad",
   "metadata": {},
   "outputs": [],
   "source": []
  }
 ],
 "metadata": {
  "kernelspec": {
   "display_name": "Python 3 (ipykernel)",
   "language": "python",
   "name": "python3"
  },
  "language_info": {
   "codemirror_mode": {
    "name": "ipython",
    "version": 3
   },
   "file_extension": ".py",
   "mimetype": "text/x-python",
   "name": "python",
   "nbconvert_exporter": "python",
   "pygments_lexer": "ipython3",
   "version": "3.11.4"
  }
 },
 "nbformat": 4,
 "nbformat_minor": 5
}
