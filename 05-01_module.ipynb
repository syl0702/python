{
 "cells": [
  {
   "cell_type": "markdown",
   "id": "dbbbe039-685e-4ef4-b52f-d57d25b3eba8",
   "metadata": {},
   "source": [
    "# 1. 모듈"
   ]
  },
  {
   "cell_type": "code",
   "execution_count": 1,
   "id": "a51ef498-468a-4d97-9ba9-ff7c3f3b410c",
   "metadata": {},
   "outputs": [],
   "source": [
    "import fibo"
   ]
  },
  {
   "cell_type": "code",
   "execution_count": 2,
   "id": "c5aaaf67-4135-48da-bbf3-3af0c1dc1ff5",
   "metadata": {},
   "outputs": [
    {
     "name": "stdout",
     "output_type": "stream",
     "text": [
      "<module 'fibo' from 'C:\\\\Users\\\\navyb\\\\OneDrive\\\\바탕 화면\\\\camp29\\\\python\\\\fibo.py'>\n"
     ]
    }
   ],
   "source": [
    "print(fibo)"
   ]
  },
  {
   "cell_type": "code",
   "execution_count": 3,
   "id": "d9c70c01-276c-4b42-b71b-1beb2a8938ba",
   "metadata": {},
   "outputs": [
    {
     "data": {
      "text/plain": [
       "5"
      ]
     },
     "execution_count": 3,
     "metadata": {},
     "output_type": "execute_result"
    }
   ],
   "source": [
    "fibo.fib_loop(4)"
   ]
  },
  {
   "cell_type": "code",
   "execution_count": 4,
   "id": "49ad3d58-670c-4dfe-a3f5-f4488fc908c4",
   "metadata": {},
   "outputs": [
    {
     "data": {
      "text/plain": [
       "3"
      ]
     },
     "execution_count": 4,
     "metadata": {},
     "output_type": "execute_result"
    }
   ],
   "source": [
    "fibo.fib_rec(3)"
   ]
  },
  {
   "cell_type": "markdown",
   "id": "fa5964e3-8659-4338-84bb-8822ec3385be",
   "metadata": {},
   "source": [
    "# 2. 패키지\n",
    "```\n",
    "myPackage/\n",
    "    __init__.py\n",
    "    math/\n",
    "        __init__.py\n",
    "        fibo.py\n",
    "        formula.py\n",
    "```\n",
    "패키지 안에 `__init__.py` 파일이 있어야 패키지로 인식"
   ]
  },
  {
   "cell_type": "code",
   "execution_count": 5,
   "id": "40c9f502-75d7-48e6-8251-0058bcfed618",
   "metadata": {},
   "outputs": [],
   "source": [
    "# 패키지 폴더를 전체 추가\n",
    "import myPackage"
   ]
  },
  {
   "cell_type": "code",
   "execution_count": 6,
   "id": "b4b149ac-15d7-4775-b707-b269fae72db3",
   "metadata": {},
   "outputs": [
    {
     "name": "stdout",
     "output_type": "stream",
     "text": [
      "<module 'myPackage' from 'C:\\\\Users\\\\navyb\\\\OneDrive\\\\바탕 화면\\\\camp29\\\\python\\\\myPackage\\\\__init__.py'>\n"
     ]
    }
   ],
   "source": [
    "print(myPackage)"
   ]
  },
  {
   "cell_type": "code",
   "execution_count": 7,
   "id": "6db54a6a-4388-4e44-8ceb-b41e241e08e8",
   "metadata": {},
   "outputs": [],
   "source": [
    "# 패키지에서 필요한 모듈을 꺼내오는 코드\n",
    "from myPackage.math import formula"
   ]
  },
  {
   "cell_type": "code",
   "execution_count": 8,
   "id": "7792e9e2-3051-4610-8d0b-466af6946500",
   "metadata": {},
   "outputs": [
    {
     "data": {
      "text/plain": [
       "3.14"
      ]
     },
     "execution_count": 8,
     "metadata": {},
     "output_type": "execute_result"
    }
   ],
   "source": [
    "formula.pi"
   ]
  },
  {
   "cell_type": "code",
   "execution_count": 9,
   "id": "7a424b8e-f698-4dce-bbd4-e507513abc5f",
   "metadata": {},
   "outputs": [
    {
     "data": {
      "text/plain": [
       "2"
      ]
     },
     "execution_count": 9,
     "metadata": {},
     "output_type": "execute_result"
    }
   ],
   "source": [
    "formula.my_max(1, 2)"
   ]
  },
  {
   "cell_type": "code",
   "execution_count": 11,
   "id": "e4d78126-cc24-4dbe-b150-c017ef764156",
   "metadata": {},
   "outputs": [],
   "source": [
    "# 경로에 있는 모듈이 가지고 있는 모든 변수, 함수를 추가\n",
    "from myPackage.math.fibo import *"
   ]
  },
  {
   "cell_type": "code",
   "execution_count": 12,
   "id": "9614e251-42c1-4553-97f8-b42f4ac76406",
   "metadata": {},
   "outputs": [
    {
     "data": {
      "text/plain": [
       "89"
      ]
     },
     "execution_count": 12,
     "metadata": {},
     "output_type": "execute_result"
    }
   ],
   "source": [
    "fib_loop(10)"
   ]
  },
  {
   "cell_type": "code",
   "execution_count": 13,
   "id": "ef1d72e2-4195-47a9-accb-38a75ff88898",
   "metadata": {},
   "outputs": [
    {
     "name": "stdout",
     "output_type": "stream",
     "text": [
      "1234\n",
      "<module 'myPackage.math.formula' from 'C:\\\\Users\\\\navyb\\\\OneDrive\\\\바탕 화면\\\\camp29\\\\python\\\\myPackage\\\\math\\\\formula.py'>\n"
     ]
    }
   ],
   "source": [
    "formula = 1234\n",
    "from myPackage.math import formula as f\n",
    "# formula라고 하는걸 부르면서 여기서 만큼은 이름을 f로 부르겠다.\n",
    "\n",
    "print(formula)\n",
    "print(f)"
   ]
  },
  {
   "cell_type": "markdown",
   "id": "11488eba-8e6a-4db7-af50-2dcd6849c87e",
   "metadata": {},
   "source": [
    "# 3. 파이썬 내장 패키지\n",
    "## 3.1 math"
   ]
  },
  {
   "cell_type": "code",
   "execution_count": 14,
   "id": "0e9d5ceb-4d8c-4e8e-a3b6-fba227a3bb7e",
   "metadata": {},
   "outputs": [],
   "source": [
    "import math"
   ]
  },
  {
   "cell_type": "code",
   "execution_count": 15,
   "id": "57325494-aeba-4d7e-ba11-fb895fd0d3b4",
   "metadata": {},
   "outputs": [
    {
     "data": {
      "text/plain": [
       "3.141592653589793"
      ]
     },
     "execution_count": 15,
     "metadata": {},
     "output_type": "execute_result"
    }
   ],
   "source": [
    "math.pi"
   ]
  },
  {
   "cell_type": "code",
   "execution_count": 16,
   "id": "4e10e65e-e318-4c61-9142-446f2a440c0b",
   "metadata": {},
   "outputs": [
    {
     "data": {
      "text/plain": [
       "2.718281828459045"
      ]
     },
     "execution_count": 16,
     "metadata": {},
     "output_type": "execute_result"
    }
   ],
   "source": [
    "math.e"
   ]
  },
  {
   "cell_type": "code",
   "execution_count": 17,
   "id": "bc6636c9-1634-41ee-ac3c-117aa7c5630a",
   "metadata": {},
   "outputs": [],
   "source": [
    "pi = 3.141592"
   ]
  },
  {
   "cell_type": "code",
   "execution_count": 18,
   "id": "9006442c-0be6-492d-9a44-f7e0ee43ea13",
   "metadata": {},
   "outputs": [
    {
     "data": {
      "text/plain": [
       "4"
      ]
     },
     "execution_count": 18,
     "metadata": {},
     "output_type": "execute_result"
    }
   ],
   "source": [
    "math.ceil(pi)\n",
    "# 올림"
   ]
  },
  {
   "cell_type": "code",
   "execution_count": 19,
   "id": "0b8172a4-8566-4811-9aab-f00c6aa99756",
   "metadata": {},
   "outputs": [
    {
     "data": {
      "text/plain": [
       "3"
      ]
     },
     "execution_count": 19,
     "metadata": {},
     "output_type": "execute_result"
    }
   ],
   "source": [
    "math.floor(pi)"
   ]
  },
  {
   "cell_type": "code",
   "execution_count": 20,
   "id": "ed025860-5ad5-4e46-8806-04e6fa484567",
   "metadata": {},
   "outputs": [
    {
     "data": {
      "text/plain": [
       "3.0"
      ]
     },
     "execution_count": 20,
     "metadata": {},
     "output_type": "execute_result"
    }
   ],
   "source": [
    "math.sqrt(9)\n",
    "# 루트 씌우기"
   ]
  },
  {
   "cell_type": "markdown",
   "id": "39183748-90ce-471c-a12d-2539165e41bd",
   "metadata": {},
   "source": [
    "## 3.2 random"
   ]
  },
  {
   "cell_type": "code",
   "execution_count": 21,
   "id": "9f73d9c2-8225-409f-a890-478d3cdbb329",
   "metadata": {},
   "outputs": [
    {
     "data": {
      "text/plain": [
       "0.05804171366981259"
      ]
     },
     "execution_count": 21,
     "metadata": {},
     "output_type": "execute_result"
    }
   ],
   "source": [
    "import random\n",
    "random.random()\n",
    "# o부터 1 사이의 임의의 실수 나옴."
   ]
  },
  {
   "cell_type": "code",
   "execution_count": 22,
   "id": "91e971b1-8c67-4e7e-bc9f-c54df6ec27f0",
   "metadata": {},
   "outputs": [
    {
     "data": {
      "text/plain": [
       "3"
      ]
     },
     "execution_count": 22,
     "metadata": {},
     "output_type": "execute_result"
    }
   ],
   "source": [
    "random.randint(1, 10)\n",
    "# 정수"
   ]
  },
  {
   "cell_type": "code",
   "execution_count": 23,
   "id": "6b9a2392-9b4d-46b2-a601-46178becc94d",
   "metadata": {},
   "outputs": [
    {
     "data": {
      "text/plain": [
       "0.13436424411240122"
      ]
     },
     "execution_count": 23,
     "metadata": {},
     "output_type": "execute_result"
    }
   ],
   "source": [
    "# seed\n",
    "random.seed(1)\n",
    "random.random()\n",
    "# 여러 번 시도해도 같은 숫자가 나옴.\n",
    "# seed는 임의의 난수를 출력하지만 고정된 랜덤 데이터 제공"
   ]
  },
  {
   "cell_type": "code",
   "execution_count": 24,
   "id": "d9b7ff81-ce00-4973-b53c-f0b68f94e840",
   "metadata": {},
   "outputs": [
    {
     "name": "stdout",
     "output_type": "stream",
     "text": [
      "[4, 2, 5, 3, 1]\n"
     ]
    }
   ],
   "source": [
    "# shuffle\n",
    "a = [1, 2, 3, 4, 5]\n",
    "random.shuffle(a)\n",
    "print(a)"
   ]
  },
  {
   "cell_type": "code",
   "execution_count": 26,
   "id": "347da7f6-4aeb-44bc-8bbb-921acf643a66",
   "metadata": {},
   "outputs": [
    {
     "name": "stdout",
     "output_type": "stream",
     "text": [
      "5\n"
     ]
    }
   ],
   "source": [
    "# choice 복원 추출\n",
    "a = ['가위', '바위', '보', 1, 2, 3, 4, 5]\n",
    "print(random.choice(a))"
   ]
  },
  {
   "cell_type": "code",
   "execution_count": 27,
   "id": "44c644ca-4d81-494f-a3a1-b2e6716323cb",
   "metadata": {},
   "outputs": [
    {
     "data": {
      "text/plain": [
       "[42, 25, 14, 7, 32, 2]"
      ]
     },
     "execution_count": 27,
     "metadata": {},
     "output_type": "execute_result"
    }
   ],
   "source": [
    "# sample 중복 데이터 없음. 비복원 추출\n",
    "a = range(1, 46)\n",
    "random.sample(a, 6)"
   ]
  },
  {
   "cell_type": "markdown",
   "id": "9f8ad02d-0a92-4020-a022-d7653b54a859",
   "metadata": {},
   "source": [
    "## 3.3 datetime"
   ]
  },
  {
   "cell_type": "code",
   "execution_count": 28,
   "id": "654f0316-7f3c-45fa-a334-490223518238",
   "metadata": {},
   "outputs": [],
   "source": [
    "from datetime import datetime"
   ]
  },
  {
   "cell_type": "code",
   "execution_count": 29,
   "id": "362687ec-fce4-43d7-9ad2-672bffc2c21f",
   "metadata": {},
   "outputs": [
    {
     "name": "stdout",
     "output_type": "stream",
     "text": [
      "2023-07-31 23:10:21.615120\n"
     ]
    }
   ],
   "source": [
    "now = datetime.now()\n",
    "print(now)"
   ]
  },
  {
   "cell_type": "code",
   "execution_count": 30,
   "id": "bdee38a6-ba05-45b1-8ac5-f36194e0032f",
   "metadata": {},
   "outputs": [
    {
     "name": "stdout",
     "output_type": "stream",
     "text": [
      "2023-07-31 23:10:38.118776\n"
     ]
    }
   ],
   "source": [
    "today = datetime.today()\n",
    "print(today)"
   ]
  },
  {
   "cell_type": "code",
   "execution_count": 31,
   "id": "1976c526-cae4-4267-96d6-ef5d8b7ff35c",
   "metadata": {},
   "outputs": [
    {
     "name": "stdout",
     "output_type": "stream",
     "text": [
      "2023-07-31 14:11:03.567004\n"
     ]
    }
   ],
   "source": [
    "utc = datetime.utcnow()\n",
    "print(utc)"
   ]
  },
  {
   "cell_type": "code",
   "execution_count": 32,
   "id": "31cc5729-5507-401e-9de4-d5166a470c47",
   "metadata": {},
   "outputs": [
    {
     "data": {
      "text/plain": [
       "'2023년 07월 31일'"
      ]
     },
     "execution_count": 32,
     "metadata": {},
     "output_type": "execute_result"
    }
   ],
   "source": [
    "now.strftime('%Y년 %m월 %d일')\n",
    "# 우리가 보기 편하게 형식 바꾸기"
   ]
  },
  {
   "cell_type": "code",
   "execution_count": 33,
   "id": "41901ca2-16ef-45f3-91b6-b649a05dcdb7",
   "metadata": {},
   "outputs": [
    {
     "data": {
      "text/plain": [
       "2023"
      ]
     },
     "execution_count": 33,
     "metadata": {},
     "output_type": "execute_result"
    }
   ],
   "source": [
    "now.year"
   ]
  },
  {
   "cell_type": "code",
   "execution_count": 34,
   "id": "0e8fcaaa-b982-4b4e-ba87-3728d33c5344",
   "metadata": {},
   "outputs": [
    {
     "data": {
      "text/plain": [
       "31"
      ]
     },
     "execution_count": 34,
     "metadata": {},
     "output_type": "execute_result"
    }
   ],
   "source": [
    "now.day"
   ]
  },
  {
   "cell_type": "code",
   "execution_count": 35,
   "id": "952c0bc2-a631-484e-a31b-56b781238589",
   "metadata": {},
   "outputs": [
    {
     "data": {
      "text/plain": [
       "0"
      ]
     },
     "execution_count": 35,
     "metadata": {},
     "output_type": "execute_result"
    }
   ],
   "source": [
    "# weekday => 0~6, 월~일\n",
    "now.weekday()"
   ]
  },
  {
   "cell_type": "code",
   "execution_count": 36,
   "id": "513586e2-f002-4b93-ac0a-02509e44e97b",
   "metadata": {},
   "outputs": [
    {
     "name": "stdout",
     "output_type": "stream",
     "text": [
      "2023-01-01 00:00:00\n"
     ]
    }
   ],
   "source": [
    "# 원하는 시간 만들기\n",
    "birth = datetime(2023, 1, 1)\n",
    "print(birth)"
   ]
  },
  {
   "cell_type": "code",
   "execution_count": 37,
   "id": "3a6a005b-7795-46a8-b3b9-86ddd87a2786",
   "metadata": {},
   "outputs": [],
   "source": [
    "from datetime import timedelta"
   ]
  },
  {
   "cell_type": "code",
   "execution_count": 38,
   "id": "0ae4f741-0a32-4bf1-be74-3bf536eb20ef",
   "metadata": {},
   "outputs": [
    {
     "name": "stdout",
     "output_type": "stream",
     "text": [
      "3 days, 0:00:00\n"
     ]
    }
   ],
   "source": [
    "# 며칠 뒤 표현\n",
    "future = timedelta(days = 3)\n",
    "print(future)"
   ]
  },
  {
   "cell_type": "code",
   "execution_count": 39,
   "id": "eada711e-792c-4574-ba2c-717b81b10640",
   "metadata": {},
   "outputs": [
    {
     "data": {
      "text/plain": [
       "datetime.datetime(2023, 1, 4, 0, 0)"
      ]
     },
     "execution_count": 39,
     "metadata": {},
     "output_type": "execute_result"
    }
   ],
   "source": [
    "birth + future"
   ]
  },
  {
   "cell_type": "code",
   "execution_count": 40,
   "id": "e3babc37-ed9c-45a4-82ba-07a5126dd0bb",
   "metadata": {},
   "outputs": [],
   "source": [
    "christmas = datetime(2023, 12, 25)"
   ]
  },
  {
   "cell_type": "code",
   "execution_count": 41,
   "id": "264c4c64-eb73-4e06-8d0b-42f273390995",
   "metadata": {},
   "outputs": [
    {
     "data": {
      "text/plain": [
       "datetime.timedelta(days=146, seconds=2978, microseconds=384880)"
      ]
     },
     "execution_count": 41,
     "metadata": {},
     "output_type": "execute_result"
    }
   ],
   "source": [
    "christmas - now"
   ]
  },
  {
   "cell_type": "code",
   "execution_count": null,
   "id": "e3dda503-7561-4067-8e7c-2ff6050811dd",
   "metadata": {},
   "outputs": [],
   "source": []
  }
 ],
 "metadata": {
  "kernelspec": {
   "display_name": "Python 3 (ipykernel)",
   "language": "python",
   "name": "python3"
  },
  "language_info": {
   "codemirror_mode": {
    "name": "ipython",
    "version": 3
   },
   "file_extension": ".py",
   "mimetype": "text/x-python",
   "name": "python",
   "nbconvert_exporter": "python",
   "pygments_lexer": "ipython3",
   "version": "3.11.4"
  }
 },
 "nbformat": 4,
 "nbformat_minor": 5
}
